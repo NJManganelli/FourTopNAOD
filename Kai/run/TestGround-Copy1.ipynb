{
 "cells": [
  {
   "cell_type": "code",
   "execution_count": 1,
   "metadata": {},
   "outputs": [],
   "source": [
    "#from __future__ import unicode_literals\n",
    "import json\n",
    "from pprint import pprint\n",
    "class FileLoader:\n",
    "    \"\"\"FileLoader takes as input an evenSet, era, and channel; it returns a list of files, a json, and a configuration dictionary.\n",
    "\n",
    "eventSet: \"TTTT\", \"TT\", \"DY\", etc.\n",
    "era: 2016, 2017, 2018. This corresponds to both MC tunes and Data run sets, as well as the default configuration parameters.\n",
    "channel: SL or DL to return the appropriate configuration parameters that is loaded. Overriden by configName option.\n",
    "configName: (Optional) When specified, returns the requested configuration instead of the standard one for that era and channel.\n",
    "serverPrefix: the default prefix for files is root://cms-xrd-global.cern.ch/. Pass any other as a string in the same format. \"\"\"\n",
    "\n",
    "    def __init__(self, eventSet=None, era=None, channel=None, configName=None, jsonName=None, filePrefix=\"root://cms-xrd-global.cern.ch/\"):\n",
    "        #internal variables grabbed, except jsonName\n",
    "        self._eventSet = eventSet\n",
    "        self._era = era\n",
    "        self._channel = channel\n",
    "        self._configName = configName\n",
    "        self._filePrefix = filePrefix\n",
    "        \n",
    "        #Make these all named options, but still require the first three to always be passed\n",
    "        if (self._eventSet == None or self._era == None or self._channel == None):\n",
    "            raise RuntimeError(\"FileLoader requires an eventSet, an era(2016, 2017, 2018), and an analysis channel(SL, DL)\")\n",
    "\n",
    "        #########################################\n",
    "        ### USER DEFINED DATASETS and PATHS   ###\n",
    "        ### Use convenient name and era       ###\n",
    "        ### and finally indicate path inside  ###\n",
    "        ### self._filePath defined first      ###\n",
    "        ### Data must being with \"Run\"        ###\n",
    "        ### Monte Carlo must NOT              ###\n",
    "        #########################################\n",
    "        self._jsonPath = \"../json/\"\n",
    "        self._configPath = \"../config/\"\n",
    "        self._filePath = \"../filelists/\"\n",
    "        self._eventDict = { \n",
    "            \"TTTT-PSweights\" : { \"2016\" : \"NOT IMPLEMENTED\",\n",
    "                                 \"2017\" : \"TTTT_TuneCP5_PSweights_13TeV-amcatnlo-pythia8.txt\",\n",
    "                                 \"2018\" : \"NOT IMPLEMENTED\" },\n",
    "            \"TTTT\" :  { \"2016\" : \"NOT IMPLEMENTED\",\n",
    "                        \"2017\" : \"TTTT_TuneCP5_13TeV-amcatnlo-pythia8.txt\",\n",
    "                        \"2018\" : \"NOT IMPLEMENTED\" },\n",
    "            \"TTJetsSL\" :  { \"2016\" : \"NOT IMPLEMENTED\",\n",
    "                            \"2017\" : \"TTJets_SingleLeptFromT_TuneCP5_13TeV-madgraphMLM-pythia8.txt\",\n",
    "                            \"2018\" : \"NOT IMPLEMENTED\" },\n",
    "            \"WJetsToLNu\" :  { \"2016\" : \"NOT IMPLEMENTED\",\n",
    "                              \"2017\" : \"WJetsToLNu_TuneCP5_13TeV-madgraphMLM-pythia8.txt\",\n",
    "                              \"2018\" : \"NOT IMPLEMENTED\" },\n",
    "            \"RunB\" :  { \"2016\" : \"NOT IMPLEMENTED\",\n",
    "                        \"2017\" : \"NOT IMPLEMENTED\",\n",
    "                        \"2018\" : \"NOT IMPLEMENTED\" },\n",
    "            \"RunC\" :  { \"2016\" : \"NOT IMPLEMENTED\",\n",
    "                        \"2017\" : \"NOT IMPLEMENTED\",\n",
    "                        \"2018\" : \"NOT IMPLEMENTED\" },\n",
    "            \"RunD\" :  { \"2016\" : \"NOT IMPLEMENTED\",\n",
    "                        \"2017\" : \"NOT IMPLEMENTED\",\n",
    "                        \"2018\" : \"NOT IMPLEMENTED\" },\n",
    "            \"RunE\" :  { \"2016\" : \"NOT IMPLEMENTED\",\n",
    "                        \"2017\" : \"NOT IMPLEMENTED\",\n",
    "                        \"2018\" : \"NOT IMPLEMENTED\" },\n",
    "            \"RunF\" :  { \"2016\" : \"NOT IMPLEMENTED\",\n",
    "                        \"2017\" : \"NOT IMPLEMENTED\",\n",
    "                        \"2018\" : \"NOT IMPLEMENTED\" },\n",
    "            \"RunG\" :  { \"2016\" : \"NOT IMPLEMENTED\",\n",
    "                        \"2017\" : \"NOT IMPLEMENTED\",\n",
    "                        \"2018\" : \"NOT IMPLEMENTED\" },\n",
    "            \"RunH\" :  { \"2016\" : \"NOT IMPLEMENTED\",\n",
    "                        \"2017\" : \"NOT IMPLEMENTED\",\n",
    "                        \"2018\" : \"NOT IMPLEMENTED\" }\n",
    "            }\n",
    "\n",
    "        ######################################################\n",
    "        ### Name all necessary inputs for convenience here ###\n",
    "        ######################################################\n",
    "        #Name configuration, using method that makes it convenient to add many without modifying this function\n",
    "        self._configName = self._configPath + channel + \"_\" + era\n",
    "        if configName is None:\n",
    "            self._configName += \"_default.json\"\n",
    "        else:\n",
    "            self._configName += configName\n",
    "        if self._configName[-5:] != \".json\":\n",
    "            self._configName += \".json\"\n",
    "        #Name filelist input\n",
    "        self._filelistName = self._filePath + self._eventDict[eventSet][era]\n",
    "        #Grab jsonName from input\n",
    "        self._jsonName = jsonName\n",
    "        \n",
    "        #################################\n",
    "        ### Set up ToReturn variables ###\n",
    "        #################################\n",
    "        #name event JSON if Data and no jsonName was passed in\n",
    "        if eventSet[:3] is \"Run\":\n",
    "            if self._jsonName is None:\n",
    "                self._jsonToReturn = self._jsonPath + \"Cert_294927-306462_13TeV_EOY2017ReReco_Collisions17_JSON.txt\"\n",
    "            else:\n",
    "                self.jsonToReturn = self._jsonPath + self._jsonName\n",
    "        else:\n",
    "            self._jsonToReturn = None\n",
    "        #Empty filelistToReturn\n",
    "        self._filelistToReturn = []\n",
    "        #Empty config file\n",
    "        self._configToReturn = {}\n",
    "        \n",
    "        #############################################\n",
    "        ### hasLoaded boolean for invoking load() ###\n",
    "        #############################################\n",
    "        self._hasLoaded = False\n",
    "\n",
    "    def __load__(self):\n",
    "        #Open config file in read-only mode, then load the json\n",
    "        #try: #is this necessary, or implemented in \"with\" syntax automatically?\n",
    "        with open(self._configName, \"r\") as inConfig:\n",
    "            self._configToReturn = json.load(inConfig)\n",
    "        #finally:\n",
    "        #    inConfig.close()\n",
    "\n",
    "        #Test that the JSON file can be opened, then do just close it\n",
    "        if self._jsonToReturn is not None:\n",
    "            try:\n",
    "                f = open(self._jsonToReturn, \"r\")\n",
    "            finally:\n",
    "                f.close()\n",
    "            \n",
    "        with open(self._filelistName, \"r\") as inFiles:\n",
    "            for line in inFiles:\n",
    "                self._filelistToReturn.append(self._filePrefix + str(line).replace('\\n',''))\n",
    "            \n",
    "        self._hasLoaded = True\n",
    "        \n",
    "    def printEventSets(self):\n",
    "        pprint(self._eventDict)\n",
    "\n",
    "    def printConfig(self):\n",
    "        if self._hasLoaded:\n",
    "            pprint(self._configToReturn)\n",
    "        else:\n",
    "            print(\"A configuration has yet to be loaded. Invoke getConfig() first.\")\n",
    "\n",
    "    def getFiles(self, indexOfFile=-1):\n",
    "        if not self._hasLoaded:\n",
    "            self.__load__()\n",
    "        if indexOfFile < 0:\n",
    "            return self._filelistToReturn\n",
    "        elif indexOfFile > len(self._filelistToReturn):\n",
    "            raise RuntimeError(\"You've requested a file that is beyond the index range available, which is 0 to {0:s}\"\n",
    "                               .format(self._filelistToReturn))\n",
    "        else:\n",
    "            return [self._filelistToReturn[indexOfFile]]\n",
    "\n",
    "    def getConfig(self):\n",
    "        if not self._hasLoaded:\n",
    "            self.__load__()\n",
    "        return self._configToReturn\n",
    "\n",
    "    def getJSONpath(self):\n",
    "        if not self._hasLoaded:\n",
    "            self.__load__()\n",
    "        return self._jsonToReturn\n",
    "\n",
    "#Implement as class, create functions that return possible evensets, store internally so that these values to be returned (list of files, json) are always available through submethods..."
   ]
  },
  {
   "cell_type": "code",
   "execution_count": null,
   "metadata": {},
   "outputs": [],
   "source": [
    "fl = FileLoader(eventSet=\"TTTT\", era=\"2017\", channel=\"DL\")"
   ]
  },
  {
   "cell_type": "code",
   "execution_count": null,
   "metadata": {},
   "outputs": [],
   "source": [
    "fl.printEventSets()"
   ]
  },
  {
   "cell_type": "code",
   "execution_count": null,
   "metadata": {},
   "outputs": [],
   "source": [
    "fl.printConfig()"
   ]
  },
  {
   "cell_type": "code",
   "execution_count": null,
   "metadata": {},
   "outputs": [],
   "source": [
    "y = fl.getConfig()"
   ]
  },
  {
   "cell_type": "code",
   "execution_count": null,
   "metadata": {},
   "outputs": [],
   "source": [
    "z = fl.getFiles()"
   ]
  },
  {
   "cell_type": "code",
   "execution_count": null,
   "metadata": {},
   "outputs": [],
   "source": [
    "print(z[0])"
   ]
  },
  {
   "cell_type": "code",
   "execution_count": null,
   "metadata": {
    "collapsed": true
   },
   "outputs": [],
   "source": [
    "fl2 = FileLoader(eventSet=\"RunB\", era=\"2017\", channel=\"DL\")"
   ]
  },
  {
   "cell_type": "code",
   "execution_count": null,
   "metadata": {},
   "outputs": [],
   "source": [
    "fl2.getFiles()"
   ]
  },
  {
   "cell_type": "code",
   "execution_count": 2,
   "metadata": {},
   "outputs": [
    {
     "ename": "ImportError",
     "evalue": "No module named FourTopNAOD.Prototype.modules.fileloader",
     "output_type": "error",
     "traceback": [
      "\u001b[0;31m\u001b[0m",
      "\u001b[0;31mImportError\u001b[0mTraceback (most recent call last)",
      "\u001b[0;32m<ipython-input-2-3be0107ae17f>\u001b[0m in \u001b[0;36m<module>\u001b[0;34m()\u001b[0m\n\u001b[0;32m----> 1\u001b[0;31m \u001b[0;32mfrom\u001b[0m \u001b[0mFourTopNAOD\u001b[0m\u001b[0;34m.\u001b[0m\u001b[0mPrototype\u001b[0m\u001b[0;34m.\u001b[0m\u001b[0mmodules\u001b[0m\u001b[0;34m.\u001b[0m\u001b[0mfileloader\u001b[0m \u001b[0;32mimport\u001b[0m \u001b[0mFileLoader\u001b[0m \u001b[0;32mas\u001b[0m \u001b[0mIFL\u001b[0m\u001b[0;34m\u001b[0m\u001b[0m\n\u001b[0m",
      "\u001b[0;31mImportError\u001b[0m: No module named FourTopNAOD.Prototype.modules.fileloader"
     ]
    }
   ],
   "source": [
    "from FourTopNAOD.Prototype.modules.fileloader import FileLoader as IFL"
   ]
  },
  {
   "cell_type": "code",
   "execution_count": null,
   "metadata": {
    "collapsed": true
   },
   "outputs": [],
   "source": [
    "w = IFL(eventSet=\"TTTT\", era=\"2017\", channel=\"SL\")"
   ]
  },
  {
   "cell_type": "code",
   "execution_count": null,
   "metadata": {},
   "outputs": [],
   "source": [
    "w.getConfig()"
   ]
  },
  {
   "cell_type": "code",
   "execution_count": 1,
   "metadata": {},
   "outputs": [
    {
     "name": "stdout",
     "output_type": "stream",
     "text": [
      "Welcome to JupyROOT 6.10/09\n"
     ]
    }
   ],
   "source": [
    "from __future__ import (division, print_function)\n",
    "import os, sys\n",
    "import ROOT\n",
    "ROOT.PyConfig.IgnoreCommandLineOptions = True\n",
    "\n",
    "from importlib import import_module\n",
    "from PhysicsTools.NanoAODTools.postprocessing.framework.postprocessor import PostProcessor\n",
    "from FourTopNAOD.Prototype.modules.eventselector import ProtoEventSelector\n",
    "from FourTopNAOD.Prototype.tools.fileloader import FileLoader as IFL"
   ]
  },
  {
   "cell_type": "code",
   "execution_count": 2,
   "metadata": {
    "collapsed": true
   },
   "outputs": [],
   "source": [
    "preselection=\"nJet > 4 && (nMuon + nElectron) > 1\""
   ]
  },
  {
   "cell_type": "code",
   "execution_count": 11,
   "metadata": {},
   "outputs": [],
   "source": [
    "Y = 0\n",
    "Y = IFL(eventSet=\"TTTT\", era=\"2017\", channel=\"DL\")"
   ]
  },
  {
   "cell_type": "code",
   "execution_count": 12,
   "metadata": {},
   "outputs": [
    {
     "name": "stdout",
     "output_type": "stream",
     "text": [
      "['root://cms-xrd-global.cern.ch//store/mc/RunIIFall17NanoAOD/TTTT_TuneCP5_13TeV-amcatnlo-pythia8/NANOAODSIM/PU2017_12Apr2018_94X_mc2017_realistic_v14-v1/70000/C6AABB0E-33AC-E811-8B63-0CC47A7C3404.root', 'root://cms-xrd-global.cern.ch//store/mc/RunIIFall17NanoAOD/TTTT_TuneCP5_13TeV-amcatnlo-pythia8/NANOAODSIM/PU2017_12Apr2018_94X_mc2017_realistic_v14-v1/70000/B0F839D7-45AC-E811-94F8-1418776375C9.root', 'root://cms-xrd-global.cern.ch//store/mc/RunIIFall17NanoAOD/TTTT_TuneCP5_13TeV-amcatnlo-pythia8/NANOAODSIM/PU2017_12Apr2018_94X_mc2017_realistic_v14-v1/70000/74E3A905-68AB-E811-8183-246E96D10B14.root', 'root://cms-xrd-global.cern.ch//store/mc/RunIIFall17NanoAOD/TTTT_TuneCP5_13TeV-amcatnlo-pythia8/NANOAODSIM/PU2017_12Apr2018_94X_mc2017_realistic_v14-v1/70000/4A01C126-89A9-E811-9393-0CC47AFC3D32.root', 'root://cms-xrd-global.cern.ch//store/mc/RunIIFall17NanoAOD/TTTT_TuneCP5_13TeV-amcatnlo-pythia8/NANOAODSIM/PU2017_12Apr2018_94X_mc2017_realistic_v14-v1/70000/0E1A857B-45AC-E811-8122-0025905A6076.root']\n",
      "None\n",
      "{u'Muon': {u'Common': {u'Eta': 2.4}, u'Select': {u'IdLevel': u'looseId', u'RelIso': 0.15, u'Pt': 20}}, u'PV': {u'FIXME': u'Placeholder for Primary Vertex requirements'}, u'Jet': {u'NonBJet': {u'Pt': 30.0}, u'btagCSVV2': {u'Tight': u'FIXME', u'Loose': u'FIXME', u'Medium': 0.8838}, u'CleanType': u'PartonMatching', u'BJet': {u'Pt': 25.0}, u'Common': {u'Eta': 2.4, u'JetId': 2}, u'btagDeepB': {u'Tight': u'FIXME', u'Loose': u'FIXME', u'Medium': 0.4941}, u'WP': u'Medium', u'DeepFlav': {u'Tight': u'FIXME', u'Loose': u'FIXME', u'Medium': u'FIXME'}, u'Algo': u'btagCSVV2'}, u'HLT': {u'chMuMu': [u'Placeholder', u'List', u'of', u'trigger', u'names'], u'chElMu': [u'Placeholder', u'List', u'of', u'trigger', u'names'], u'cutOnTrigs': u'False', u'chElEl': [u'Placeholder', u'List', u'of', u'trigger', u'names']}, u'MET': {u'MinMET': 50, u'cutOnFilts': u'False'}, u'Electron': {u'Veto': {u'IdLevel': 1, u'Pt': 25.0}, u'Common': {u'IdType': u'cutBased', u'Eta': 2.4}, u'Select': {u'IdLevel': 2, u'Pt': 25.0}}, u'InvertIsolation': u'False', u'Event': {u'ZMassReson': {u'HalfWidth': 15.0, u'Center': 91.0}, u'nBJetMin': 2, u'nSelLep': 2, u'nVetoLep': 0, u'LowMassReson': {u'HalfWidth': 10.0, u'Center': 10.0}, u'nTotJetMin': 4, u'HTMin': 500}}\n",
      "TTTT\n"
     ]
    }
   ],
   "source": [
    "print(Y.getFiles())\n",
    "print(Y.getJSONPath())\n",
    "print(Y.getConfig())\n",
    "print(Y.getSet())"
   ]
  },
  {
   "cell_type": "code",
   "execution_count": 13,
   "metadata": {},
   "outputs": [
    {
     "name": "stdout",
     "output_type": "stream",
     "text": [
      "['root://cms-xrd-global.cern.ch//store/mc/RunIIFall17NanoAOD/TTTT_TuneCP5_13TeV-amcatnlo-pythia8/NANOAODSIM/PU2017_12Apr2018_94X_mc2017_realistic_v14-v1/70000/C6AABB0E-33AC-E811-8B63-0CC47A7C3404.root']\n"
     ]
    }
   ],
   "source": [
    "print(Y.getFiles(indexOfFile=0))"
   ]
  },
  {
   "cell_type": "code",
   "execution_count": 17,
   "metadata": {
    "collapsed": true
   },
   "outputs": [],
   "source": [
    "p=PostProcessor(\".\",\n",
    "                Y.getFiles(indexOfFile=0),\n",
    "                cut=preselection,\n",
    "                branchsel=None,\n",
    "                outputbranchsel=None,\n",
    "                postfix=\"_\" + Y.getSet() + \"_PostEvtSel\",\n",
    "                jsonInput=Y.getJSONPath(),\n",
    "#                jsonInput={1 : [[10000, 19000]]},\n",
    "                modules=[EventSelector(makeHistos=True, cutOnTrigs=True, cutOnMET=True, \n",
    "                                       cutOnHT=True, verbose=False, selectionConfig=Y.getConfig())],\n",
    "#                modules=[showyEventSelector()],\n",
    "                justcount=False,\n",
    "                provenance=True,\n",
    "                fwkJobReport=True,\n",
    "                haddFileName=\"hadded.root\",\n",
    "                noOut=False,\n",
    "                histFileName=\"histOut.root\",\n",
    "                histDirName=\"plots\",\n",
    "                compression=\"LZMA:9\"\n",
    "                )"
   ]
  },
  {
   "cell_type": "code",
   "execution_count": 18,
   "metadata": {},
   "outputs": [
    {
     "name": "stdout",
     "output_type": "stream",
     "text": [
      "1000\n"
     ]
    }
   ],
   "source": [
    "p.modules[0].maxEventsToProcess = 1000\n",
    "print(p.modules[0].maxEventsToProcess)"
   ]
  },
  {
   "cell_type": "code",
   "execution_count": 16,
   "metadata": {},
   "outputs": [
    {
     "name": "stdout",
     "output_type": "stream",
     "text": [
      "Will write selected trees to .\n",
      "Pre-select 166448 entries out of 186826 \n",
      "Processed    10000/  166448 entries (elapsed time     1.1s, curr speed    8.850 kHz, avg speed    8.850 kHz), accepted        4/   10001 events ( 0.04%)\n",
      "Processed    20000/  166448 entries (elapsed time     1.2s, curr speed  166.667 kHz, avg speed   16.807 kHz), accepted        4/   20001 events ( 0.02%)\n",
      "Processed    30000/  166448 entries (elapsed time     1.3s, curr speed  142.857 kHz, avg speed   23.810 kHz), accepted        4/   30001 events ( 0.01%)\n",
      "Processed    40000/  166448 entries (elapsed time     1.3s, curr speed  142.857 kHz, avg speed   30.075 kHz), accepted        4/   40001 events ( 0.01%)\n",
      "Processed    50000/  166448 entries (elapsed time     1.4s, curr speed  166.667 kHz, avg speed   35.971 kHz), accepted        4/   50001 events ( 0.01%)\n",
      "Processed    60000/  166448 entries (elapsed time     1.5s, curr speed  142.857 kHz, avg speed   41.096 kHz), accepted        4/   60001 events ( 0.01%)\n",
      "Processed    70000/  166448 entries (elapsed time     1.5s, curr speed  111.111 kHz, avg speed   45.161 kHz), accepted        4/   70001 events ( 0.01%)\n",
      "Processed    80000/  166448 entries (elapsed time     1.6s, curr speed  142.857 kHz, avg speed   49.383 kHz), accepted        4/   80001 events ( 0.00%)\n",
      "Processed    90000/  166448 entries (elapsed time     1.7s, curr speed  166.667 kHz, avg speed   53.571 kHz), accepted        4/   90001 events ( 0.00%)\n",
      "Processed   100000/  166448 entries (elapsed time     1.7s, curr speed  166.667 kHz, avg speed   57.471 kHz), accepted        4/  100001 events ( 0.00%)\n",
      "Processed   110000/  166448 entries (elapsed time     1.8s, curr speed  142.857 kHz, avg speed   60.773 kHz), accepted        4/  110001 events ( 0.00%)\n",
      "Processed   120000/  166448 entries (elapsed time     1.9s, curr speed  125.000 kHz, avg speed   63.492 kHz), accepted        4/  120001 events ( 0.00%)\n",
      "Processed   130000/  166448 entries (elapsed time     2.0s, curr speed  142.857 kHz, avg speed   66.327 kHz), accepted        4/  130001 events ( 0.00%)\n",
      "Processed   140000/  166448 entries (elapsed time     2.0s, curr speed  142.857 kHz, avg speed   68.966 kHz), accepted        4/  140001 events ( 0.00%)\n",
      "Processed   150000/  166448 entries (elapsed time     2.1s, curr speed  166.667 kHz, avg speed   71.770 kHz), accepted        4/  150001 events ( 0.00%)\n",
      "Processed   160000/  166448 entries (elapsed time     2.2s, curr speed  142.857 kHz, avg speed   74.074 kHz), accepted        4/  160001 events ( 0.00%)\n",
      "Processed 166448 preselected entries from root://cms-xrd-global.cern.ch//store/mc/RunIIFall17NanoAOD/TTTT_TuneCP5_13TeV-amcatnlo-pythia8/NANOAODSIM/PU2017_12Apr2018_94X_mc2017_realistic_v14-v1/70000/C6AABB0E-33AC-E811-8B63-0CC47A7C3404.root (186826 entries). Finally selected 4 entries\n",
      "Done ./C6AABB0E-33AC-E811-8B63-0CC47A7C3404_TTTT_PostEvtSel.root\n",
      "30880.3305785 Hz\n",
      "Adding file ./C6AABB0E-33AC-E811-8B63-0CC47A7C3404_TTTT_PostEvtSel.root\n",
      "loaded\n",
      "Merging Events\n",
      "Merging Runs\n",
      "Merging ParameterSets\n",
      "Merging LuminosityBlocks\n",
      "Merging MetaData\n",
      "Merging tag\n"
     ]
    },
    {
     "name": "stderr",
     "output_type": "stream",
     "text": [
      "Error in <TGClient::TGClient>: can't open display \"localhost:20.0\", switching to batch mode...\n",
      " In case you run from a remote ssh session, reconnect with ssh -Y\n"
     ]
    }
   ],
   "source": [
    "p.run()"
   ]
  },
  {
   "cell_type": "code",
   "execution_count": null,
   "metadata": {
    "collapsed": true
   },
   "outputs": [],
   "source": []
  }
 ],
 "metadata": {
  "kernelspec": {
   "display_name": "Python 2",
   "language": "python",
   "name": "python2"
  },
  "language_info": {
   "codemirror_mode": {
    "name": "ipython",
    "version": 2
   },
   "file_extension": ".py",
   "mimetype": "text/x-python",
   "name": "python",
   "nbconvert_exporter": "python",
   "pygments_lexer": "ipython2",
   "version": "2.7.15"
  }
 },
 "nbformat": 4,
 "nbformat_minor": 2
}

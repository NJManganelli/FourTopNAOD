{
 "cells": [
  {
   "cell_type": "code",
   "execution_count": 18,
   "metadata": {
    "collapsed": true
   },
   "outputs": [],
   "source": [
    "from __future__ import (absolute_import, division,\n",
    "                        print_function, unicode_literals)"
   ]
  },
  {
   "cell_type": "code",
   "execution_count": 19,
   "metadata": {
    "collapsed": true
   },
   "outputs": [],
   "source": [
    "import os, sys, time"
   ]
  },
  {
   "cell_type": "code",
   "execution_count": 20,
   "metadata": {
    "collapsed": false
   },
   "outputs": [],
   "source": [
    "import ROOT"
   ]
  },
  {
   "cell_type": "code",
   "execution_count": 21,
   "metadata": {
    "collapsed": false
   },
   "outputs": [],
   "source": [
    "#Whoops, had to do scram b in src directory to build all the libraries and such... can't find the postproc otherwise.\n",
    "#reload kernel as well if above done after failing to import postproc\n",
    "from importlib import import_module\n",
    "from PhysicsTools.NanoAODTools.postprocessing.framework.postprocessor import PostProcessor"
   ]
  },
  {
   "cell_type": "code",
   "execution_count": 81,
   "metadata": {
    "collapsed": true
   },
   "outputs": [],
   "source": [
    "from PhysicsTools.NanoAODTools.postprocessing.framework.datamodel import Collection, Object\n",
    "from PhysicsTools.NanoAODTools.postprocessing.framework.eventloop import Module"
   ]
  },
  {
   "cell_type": "code",
   "execution_count": 158,
   "metadata": {
    "collapsed": false
   },
   "outputs": [],
   "source": [
    "class testing(Module):\n",
    "    def __init__(self):\n",
    "        self.counting = 0\n",
    "        pass\n",
    "    def beginJob(self):\n",
    "        pass\n",
    "    def endJob(self):\n",
    "        pass\n",
    "    #def beginFile(self, inputFile, outputFile):\n",
    "    #def beginFile(self):\n",
    "        #pass\n",
    "    #def endFile(self, inputFile, outputFile):\n",
    "    #def endFile(self):\n",
    "        #pass\n",
    "    def analyze(self, event):\n",
    "        \"\"\"process event, return True (go to next module) or False (fail, go to next event)\"\"\"\n",
    "        self.counting += 1\n",
    "        if self.counting > 7:\n",
    "            return False\n",
    "        electrons = Collection(event, \"Electron\")\n",
    "        photons = Collection(event, \"Photon\")\n",
    "        muons = Collection(event, \"Muon\")\n",
    "        taus = Collection(event, \"Tau\")\n",
    "        jets = Collection(event, \"Jet\")\n",
    "        met = Object(event, \"MET\")\n",
    "        #met = event.MET\n",
    "        run = event.run\n",
    "        theEvent = event.event\n",
    "        #te = Object(event, \"event\") #returns a unicode type?\n",
    "        triggers = Object(event, \"HLT\") #this works...\n",
    "        #flags = Flag(event, \"Flag\") # does not work\n",
    "        PVertex = [event.PV_x, event.PV_y, event.PV_z]\n",
    "        PV = Object(event, \"PV\")\n",
    "        SVertices = Collection(event, \"SV\")\n",
    "        genParts = Collection(event, \"GenPart\")\n",
    "        genJets = Collection(event, \"GenJet\")\n",
    "        genFatJets = Collection(event, \"GenJetAK8\")\n",
    "        eventSum = ROOT.TLorentzVector()\n",
    "        print(\"Run: {0:>8d} Event: {1:>8d}\".format(run, theEvent))\n",
    "        print(\"PV  X: {0: >5.3f} Y: {1: >5.3f} Z: {2:5.3f}\".format(PVertex[0], PVertex[1], PVertex[2]))\n",
    "        print(\"PV  X: {0: >5.3f} Y: {1: >5.3f} Z: {2:5.3f} nDoF: {3: >5f} Chi^2: {4: >5.3f}\".format(\n",
    "            PV.x,PV.y, PV.z, PV.ndof, PV.chi2))\n",
    "        if len(SVertices) > 0:   \n",
    "            print(\"nSV: {0: >3d} SV[0] Decay Length:{1: >5.3f}\".format(event.nSV, SVertices[0].dlen ))\n",
    "        else:\n",
    "            print(\"nSV: {0: >3d}\".format(event.nSV))\n",
    "        print(\"{0:>5s} {1:>10s} {2:>10s} {3:>10s}\".format(\"Muon\", \"Pt\", \"Eta\", \"Phi\"))\n",
    "        for nm, lep in enumerate(muons) :\n",
    "            eventSum += lep.p4()\n",
    "            #format_spec ::=  [[fill]align][sign][#][0][width][,][.precision][type]\n",
    "            print(\"{0:*<5d} {1:>10.4f} {2:>+10.3f} {3:>+10.3f}\".format(nm+1, lep.pt, lep.eta, lep.phi))\n",
    "        print(\"{0:>5s} {1:>10s} {2:>10s} {3:>10s}\".format(\"Electron\", \"Pt\", \"Eta\", \"Phi\"))\n",
    "        for ne, lep in enumerate(electrons) :\n",
    "            eventSum += lep.p4()\n",
    "            print(\"{0:*^5d} {1:>10.4f} {2:> 10.3f} {3:> 10.3f}\".format(ne+1, lep.pt, lep.eta, lep.phi))\n",
    "        #for j in filter(self.jetSel,jets):\n",
    "        print(\"{0:>5s} {1:>10s} {2:>10s} {3:>10s}\".format(\"Jet\", \"Pt\", \"Eta\", \"Phi\"))\n",
    "        for nj, j in enumerate(jets):\n",
    "            eventSum += j.p4()\n",
    "            print(\"{0: >5d} {1:>10.4f} {2:>-10.3f} {3:>-10.3f}\".format(nj+1, j.pt, j.eta, j.phi))\n",
    "        #for nt, trig in enumerate(triggers):\n",
    "        #    if(nt < 5): print(\"TypeName: \" + trig.GetTypeName())\n",
    "        #idea: create list of names for triggers, then check bits with \"triggers.name for name in names\"\n",
    "        print(\"HLT_PFMETNoMu90_PFMHTNoMu90_IDTight Trigger: \" + triggers.PFMETNoMu90_PFMHTNoMu90_IDTight)\n",
    "        print(\"Event Mass: {:<10.4f}\\n\".format(eventSum.M()))\n",
    "        return True\n",
    "\n",
    "# define modules using the syntax 'name = lambda : constructor' to avoid having them loaded when not needed\n",
    "\n",
    "# testing = lambda : testing(jetSelection= lambda j : j.pt > 30)"
   ]
  },
  {
   "cell_type": "code",
   "execution_count": 156,
   "metadata": {
    "collapsed": false
   },
   "outputs": [
    {
     "name": "stdout",
     "output_type": "stream",
     "text": [
      "[u' root://cms-xrd-global.cern.ch//store/mc/RunIISummer16NanoAOD/TTJets_TuneCUETP8M1_13TeV-madgraphMLM-pythia8/NANOAODSIM/PUMoriond17_05Feb2018_94X_mcRun2_asymptotic_v2-v1/40000/2CE738F9-C212-E811-BD0E-EC0D9A8222CE.root']\n"
     ]
    }
   ],
   "source": [
    "#preselection=\"Jet_pt[0] > 250\"\n",
    "preselection=\"nMuon > 0 && nElectron > 0\"\n",
    "files=[\" root://cms-xrd-global.cern.ch//store/mc/RunIISummer16NanoAOD/TTJets_TuneCUETP8M1_13TeV-madgraphMLM-pythia8/NANOAODSIM/PUMoriond17_\\\n",
    "05Feb2018_94X_mcRun2_asymptotic_v2-v1/40000/2CE738F9-C212-E811-BD0E-EC0D9A8222CE.root\"]\n",
    "print(files)"
   ]
  },
  {
   "cell_type": "code",
   "execution_count": 157,
   "metadata": {
    "collapsed": false
   },
   "outputs": [],
   "source": [
    "#p=PostProcessor(\".\",files,cut=preselection,branchsel=None,modules=[testing()],noOut=True,histFileName=\"histOut.root\",histDirName=\"plots\")\n",
    "p=PostProcessor(\".\",files,cut=preselection,branchsel=None,modules=[testing()],friend=False,postfix=\"AccessAndLoop\", jsonInput=None,\n",
    "                noOut=False,justcount=False,provenance=False,haddFileName=None,fwkJobReport=False,histFileName=None,\n",
    "                histDirName=None, outputbranchsel=None)"
   ]
  },
  {
   "cell_type": "code",
   "execution_count": 154,
   "metadata": {
    "collapsed": false
   },
   "outputs": [
    {
     "name": "stdout",
     "output_type": "stream",
     "text": [
      "Will write selected trees to .\n",
      "Pre-select 468497 entries out of 1386834 \n",
      "Run:        1 Event:   145013\n",
      "PV  X: 0.106 Y: 0.170 Z: -3.108\n",
      "PV  X: 0.106 Y: 0.170 Z: -3.108 nDoF: 95.500000 Chi^2: 0.879\n",
      "nSV:   1 SV[0] Decay Length:0.599\n",
      " Muon         Pt        Eta        Phi\n",
      "1****    10.4301     +2.212     +1.385\n",
      "2****     5.7181     +0.355     -0.389\n",
      "Electron         Pt        Eta        Phi\n",
      "**1**     5.0823      0.550      1.295\n",
      "  Jet         Pt        Eta        Phi\n",
      "    1    59.5000      2.309      1.351\n",
      "    2    54.5312      0.693     -2.048\n",
      "    3    44.0000      0.252     -0.333\n",
      "    4    40.8125      2.755     -0.990\n",
      "    5    38.9688      1.495      1.870\n",
      "    6    37.8125      1.443      2.516\n",
      "    7    35.1562      1.525      2.925\n",
      "    8    22.4688     -3.195      1.143\n",
      "    9    17.8438      4.054     -0.340\n",
      "False\n"
     ]
    },
    {
     "ename": "TypeError",
     "evalue": "'int' object has no attribute '__getitem__'",
     "output_type": "error",
     "traceback": [
      "\u001b[0;31m\u001b[0m",
      "\u001b[0;31mTypeError\u001b[0mTraceback (most recent call last)",
      "\u001b[0;32m<ipython-input-154-76aedfc5f0a9>\u001b[0m in \u001b[0;36m<module>\u001b[0;34m()\u001b[0m\n\u001b[0;32m----> 1\u001b[0;31m \u001b[0mp\u001b[0m\u001b[0;34m.\u001b[0m\u001b[0mrun\u001b[0m\u001b[0;34m(\u001b[0m\u001b[0;34m)\u001b[0m\u001b[0;34m\u001b[0m\u001b[0m\n\u001b[0m",
      "\u001b[0;32m/afs/cern.ch/work/n/nmangane/scratch1/CMSSW_9_4_9/python/PhysicsTools/NanoAODTools/postprocessing/framework/postprocessor.pyc\u001b[0m in \u001b[0;36mrun\u001b[0;34m(self)\u001b[0m\n\u001b[1;32m    128\u001b[0m             \u001b[0;31m# process events, if needed\u001b[0m\u001b[0;34m\u001b[0m\u001b[0;34m\u001b[0m\u001b[0m\n\u001b[1;32m    129\u001b[0m             \u001b[0;32mif\u001b[0m \u001b[0;32mnot\u001b[0m \u001b[0mfullClone\u001b[0m\u001b[0;34m:\u001b[0m\u001b[0;34m\u001b[0m\u001b[0m\n\u001b[0;32m--> 130\u001b[0;31m                 \u001b[0;34m(\u001b[0m\u001b[0mnall\u001b[0m\u001b[0;34m,\u001b[0m \u001b[0mnpass\u001b[0m\u001b[0;34m,\u001b[0m \u001b[0mtimeLoop\u001b[0m\u001b[0;34m)\u001b[0m \u001b[0;34m=\u001b[0m \u001b[0meventLoop\u001b[0m\u001b[0;34m(\u001b[0m\u001b[0mself\u001b[0m\u001b[0;34m.\u001b[0m\u001b[0mmodules\u001b[0m\u001b[0;34m,\u001b[0m \u001b[0minFile\u001b[0m\u001b[0;34m,\u001b[0m \u001b[0moutFile\u001b[0m\u001b[0;34m,\u001b[0m \u001b[0minTree\u001b[0m\u001b[0;34m,\u001b[0m \u001b[0moutTree\u001b[0m\u001b[0;34m)\u001b[0m\u001b[0;34m\u001b[0m\u001b[0m\n\u001b[0m\u001b[1;32m    131\u001b[0m                 \u001b[0;32mprint\u001b[0m \u001b[0;34m'Processed %d preselected entries from %s (%s entries). Finally selected %d entries'\u001b[0m \u001b[0;34m%\u001b[0m \u001b[0;34m(\u001b[0m\u001b[0mnall\u001b[0m\u001b[0;34m,\u001b[0m \u001b[0mfname\u001b[0m\u001b[0;34m,\u001b[0m \u001b[0minTree\u001b[0m\u001b[0;34m.\u001b[0m\u001b[0mGetEntries\u001b[0m\u001b[0;34m(\u001b[0m\u001b[0;34m)\u001b[0m\u001b[0;34m,\u001b[0m \u001b[0mnpass\u001b[0m\u001b[0;34m)\u001b[0m\u001b[0;34m\u001b[0m\u001b[0m\n\u001b[1;32m    132\u001b[0m             \u001b[0;32melse\u001b[0m\u001b[0;34m:\u001b[0m\u001b[0;34m\u001b[0m\u001b[0m\n",
      "\u001b[0;32m/afs/cern.ch/work/n/nmangane/scratch1/CMSSW_9_4_9/python/PhysicsTools/NanoAODTools/postprocessing/framework/eventloop.pyc\u001b[0m in \u001b[0;36meventLoop\u001b[0;34m(modules, inputFile, outputFile, inputTree, wrappedOutputTree, maxEvents, eventRange, progress, filterOutput)\u001b[0m\n\u001b[1;32m     58\u001b[0m         \u001b[0mret\u001b[0m \u001b[0;34m=\u001b[0m \u001b[0mTrue\u001b[0m\u001b[0;34m\u001b[0m\u001b[0m\n\u001b[1;32m     59\u001b[0m         \u001b[0;32mfor\u001b[0m \u001b[0mm\u001b[0m \u001b[0;32min\u001b[0m \u001b[0mmodules\u001b[0m\u001b[0;34m:\u001b[0m\u001b[0;34m\u001b[0m\u001b[0m\n\u001b[0;32m---> 60\u001b[0;31m             \u001b[0mret\u001b[0m \u001b[0;34m=\u001b[0m \u001b[0mm\u001b[0m\u001b[0;34m.\u001b[0m\u001b[0manalyze\u001b[0m\u001b[0;34m(\u001b[0m\u001b[0me\u001b[0m\u001b[0;34m)\u001b[0m\u001b[0;34m\u001b[0m\u001b[0m\n\u001b[0m\u001b[1;32m     61\u001b[0m             \u001b[0;32mif\u001b[0m \u001b[0;32mnot\u001b[0m \u001b[0mret\u001b[0m\u001b[0;34m:\u001b[0m \u001b[0;32mbreak\u001b[0m\u001b[0;34m\u001b[0m\u001b[0m\n\u001b[1;32m     62\u001b[0m         \u001b[0;32mif\u001b[0m \u001b[0mret\u001b[0m\u001b[0;34m:\u001b[0m\u001b[0;34m\u001b[0m\u001b[0m\n",
      "\u001b[0;32m<ipython-input-151-a566f1bb052a>\u001b[0m in \u001b[0;36manalyze\u001b[0;34m(self, event)\u001b[0m\n\u001b[1;32m     62\u001b[0m         \u001b[0;31m#    if(nt < 5): print(\"TypeName: \" + trig.GetTypeName())\u001b[0m\u001b[0;34m\u001b[0m\u001b[0;34m\u001b[0m\u001b[0m\n\u001b[1;32m     63\u001b[0m         \u001b[0;32mprint\u001b[0m\u001b[0;34m(\u001b[0m\u001b[0mtriggers\u001b[0m\u001b[0;34m.\u001b[0m\u001b[0mPFMETNoMu90_PFMHTNoMu90_IDTight\u001b[0m\u001b[0;34m)\u001b[0m\u001b[0;34m\u001b[0m\u001b[0m\n\u001b[0;32m---> 64\u001b[0;31m         \u001b[0;32mfor\u001b[0m \u001b[0mtrig\u001b[0m \u001b[0;32min\u001b[0m \u001b[0mtriggers\u001b[0m\u001b[0;34m:\u001b[0m\u001b[0;34m\u001b[0m\u001b[0m\n\u001b[0m\u001b[1;32m     65\u001b[0m             \u001b[0;32mprint\u001b[0m\u001b[0;34m(\u001b[0m\u001b[0mtrig\u001b[0m\u001b[0;34m)\u001b[0m\u001b[0;34m\u001b[0m\u001b[0m\n\u001b[1;32m     66\u001b[0m         \u001b[0;32mprint\u001b[0m\u001b[0;34m(\u001b[0m\u001b[0;34m\"Event Mass: {:<10.4f}\\n\"\u001b[0m\u001b[0;34m.\u001b[0m\u001b[0mformat\u001b[0m\u001b[0;34m(\u001b[0m\u001b[0meventSum\u001b[0m\u001b[0;34m.\u001b[0m\u001b[0mM\u001b[0m\u001b[0;34m(\u001b[0m\u001b[0;34m)\u001b[0m\u001b[0;34m)\u001b[0m\u001b[0;34m)\u001b[0m\u001b[0;34m\u001b[0m\u001b[0m\n",
      "\u001b[0;32m/afs/cern.ch/work/n/nmangane/scratch1/CMSSW_9_4_9/python/PhysicsTools/NanoAODTools/postprocessing/framework/datamodel.pyc\u001b[0m in \u001b[0;36m__getitem__\u001b[0;34m(self, attr)\u001b[0m\n\u001b[1;32m     63\u001b[0m         \u001b[0;32mreturn\u001b[0m \u001b[0mval\u001b[0m\u001b[0;34m\u001b[0m\u001b[0m\n\u001b[1;32m     64\u001b[0m     \u001b[0;32mdef\u001b[0m \u001b[0m__getitem__\u001b[0m\u001b[0;34m(\u001b[0m\u001b[0mself\u001b[0m\u001b[0;34m,\u001b[0m\u001b[0mattr\u001b[0m\u001b[0;34m)\u001b[0m\u001b[0;34m:\u001b[0m\u001b[0;34m\u001b[0m\u001b[0m\n\u001b[0;32m---> 65\u001b[0;31m         \u001b[0;32mreturn\u001b[0m \u001b[0mself\u001b[0m\u001b[0;34m.\u001b[0m\u001b[0m__getattr__\u001b[0m\u001b[0;34m(\u001b[0m\u001b[0mattr\u001b[0m\u001b[0;34m)\u001b[0m\u001b[0;34m\u001b[0m\u001b[0m\n\u001b[0m\u001b[1;32m     66\u001b[0m     \u001b[0;32mdef\u001b[0m \u001b[0mp4\u001b[0m\u001b[0;34m(\u001b[0m\u001b[0mself\u001b[0m\u001b[0;34m)\u001b[0m\u001b[0;34m:\u001b[0m\u001b[0;34m\u001b[0m\u001b[0m\n\u001b[1;32m     67\u001b[0m         \u001b[0mret\u001b[0m \u001b[0;34m=\u001b[0m \u001b[0mROOT\u001b[0m\u001b[0;34m.\u001b[0m\u001b[0mTLorentzVector\u001b[0m\u001b[0;34m(\u001b[0m\u001b[0;34m)\u001b[0m\u001b[0;34m\u001b[0m\u001b[0m\n",
      "\u001b[0;32m/afs/cern.ch/work/n/nmangane/scratch1/CMSSW_9_4_9/python/PhysicsTools/NanoAODTools/postprocessing/framework/datamodel.pyc\u001b[0m in \u001b[0;36m__getattr__\u001b[0;34m(self, name)\u001b[0m\n\u001b[1;32m     54\u001b[0m     \u001b[0;32mdef\u001b[0m \u001b[0m__getattr__\u001b[0m\u001b[0;34m(\u001b[0m\u001b[0mself\u001b[0m\u001b[0;34m,\u001b[0m\u001b[0mname\u001b[0m\u001b[0;34m)\u001b[0m\u001b[0;34m:\u001b[0m\u001b[0;34m\u001b[0m\u001b[0m\n\u001b[1;32m     55\u001b[0m         \u001b[0;32mif\u001b[0m \u001b[0mname\u001b[0m \u001b[0;32min\u001b[0m \u001b[0mself\u001b[0m\u001b[0;34m.\u001b[0m\u001b[0m__dict__\u001b[0m\u001b[0;34m:\u001b[0m \u001b[0;32mreturn\u001b[0m \u001b[0mself\u001b[0m\u001b[0;34m.\u001b[0m\u001b[0m__dict__\u001b[0m\u001b[0;34m[\u001b[0m\u001b[0mname\u001b[0m\u001b[0;34m]\u001b[0m\u001b[0;34m\u001b[0m\u001b[0m\n\u001b[0;32m---> 56\u001b[0;31m         \u001b[0;32mif\u001b[0m \u001b[0mname\u001b[0m\u001b[0;34m[\u001b[0m\u001b[0;34m:\u001b[0m\u001b[0;36m2\u001b[0m\u001b[0;34m]\u001b[0m \u001b[0;34m==\u001b[0m \u001b[0;34m\"__\"\u001b[0m \u001b[0;32mand\u001b[0m \u001b[0mname\u001b[0m\u001b[0;34m[\u001b[0m\u001b[0;34m-\u001b[0m\u001b[0;36m2\u001b[0m\u001b[0;34m:\u001b[0m\u001b[0;34m]\u001b[0m \u001b[0;34m==\u001b[0m \u001b[0;34m\"__\"\u001b[0m\u001b[0;34m:\u001b[0m\u001b[0;34m\u001b[0m\u001b[0m\n\u001b[0m\u001b[1;32m     57\u001b[0m             \u001b[0;32mraise\u001b[0m \u001b[0mAttributeError\u001b[0m\u001b[0;34m\u001b[0m\u001b[0m\n\u001b[1;32m     58\u001b[0m         \u001b[0mval\u001b[0m \u001b[0;34m=\u001b[0m \u001b[0mgetattr\u001b[0m\u001b[0;34m(\u001b[0m\u001b[0mself\u001b[0m\u001b[0;34m.\u001b[0m\u001b[0m_event\u001b[0m\u001b[0;34m,\u001b[0m\u001b[0mself\u001b[0m\u001b[0;34m.\u001b[0m\u001b[0m_prefix\u001b[0m\u001b[0;34m+\u001b[0m\u001b[0mname\u001b[0m\u001b[0;34m)\u001b[0m\u001b[0;34m\u001b[0m\u001b[0m\n",
      "\u001b[0;31mTypeError\u001b[0m: 'int' object has no attribute '__getitem__'"
     ]
    }
   ],
   "source": [
    "p.run()"
   ]
  },
  {
   "cell_type": "code",
   "execution_count": null,
   "metadata": {
    "collapsed": true
   },
   "outputs": [],
   "source": []
  }
 ],
 "metadata": {
  "kernelspec": {
   "display_name": "Python 2",
   "language": "python",
   "name": "python2"
  },
  "language_info": {
   "codemirror_mode": {
    "name": "ipython",
    "version": 2
   },
   "file_extension": ".py",
   "mimetype": "text/x-python",
   "name": "python",
   "nbconvert_exporter": "python",
   "pygments_lexer": "ipython2",
   "version": "2.7.11"
  }
 },
 "nbformat": 4,
 "nbformat_minor": 2
}

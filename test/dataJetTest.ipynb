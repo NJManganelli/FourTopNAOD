{
 "cells": [
  {
   "cell_type": "code",
   "execution_count": 1,
   "metadata": {
    "collapsed": true
   },
   "outputs": [],
   "source": [
    "from __future__ import (absolute_import, division,\n",
    "                        print_function, unicode_literals)"
   ]
  },
  {
   "cell_type": "code",
   "execution_count": 2,
   "metadata": {
    "collapsed": true
   },
   "outputs": [],
   "source": [
    "import os, sys, time"
   ]
  },
  {
   "cell_type": "code",
   "execution_count": 3,
   "metadata": {
    "collapsed": false
   },
   "outputs": [
    {
     "name": "stdout",
     "output_type": "stream",
     "text": [
      "Welcome to JupyROOT 6.10/09\n"
     ]
    }
   ],
   "source": [
    "import ROOT"
   ]
  },
  {
   "cell_type": "code",
   "execution_count": 4,
   "metadata": {
    "collapsed": true
   },
   "outputs": [],
   "source": [
    "from importlib import import_module\n",
    "from PhysicsTools.NanoAODTools.postprocessing.framework.postprocessor import PostProcessor"
   ]
  },
  {
   "cell_type": "code",
   "execution_count": 5,
   "metadata": {
    "collapsed": true
   },
   "outputs": [],
   "source": [
    "from PhysicsTools.NanoAODTools.postprocessing.framework.datamodel import Collection, Object\n",
    "from PhysicsTools.NanoAODTools.postprocessing.framework.eventloop import Module"
   ]
  },
  {
   "cell_type": "code",
   "execution_count": 53,
   "metadata": {
    "collapsed": false
   },
   "outputs": [],
   "source": [
    "class Jetsons(Module):\n",
    "    def __init__(self):\n",
    "        self.writeHistFile=True\n",
    "        self.counter = 0\n",
    "    def beginJob(self,histFile=None,histDirName=None):\n",
    "        Module.beginJob(self,histFile,histDirName)\n",
    "        \n",
    "        self.h_lumiblock = ROOT.TH1I('h_lumiblock', ';LumiBlock;Events',   100, 0, 1000)\n",
    "        self.addObject(self.h_lumiblock)\n",
    "        self.h_run = ROOT.TH1D('h_run', ';Run;Events', 10, 273400, 277000) #Double, because I is 4 bytes, run is 64bit UInt\n",
    "        self.addObject(self.h_run)\n",
    "    #def endJob(self):\n",
    "    #    pass #Cannot do pass in endJob if we write histograms... they don't get written! So do no override Module \n",
    "    #def beginFile(self, inputFile, outputFile):\n",
    "    #def beginFile(self):\n",
    "        #pass\n",
    "    #def endFile(self, inputFile, outputFile):\n",
    "    #def endFile(self):\n",
    "        #pass\n",
    "    def analyze(self, event):\n",
    "        \"\"\"process event, return True (go to next module) or False (fail, go to next event)\"\"\"\n",
    "        \n",
    "        modulator = 1000 # how often to print an event when we do self.counter % modulator\n",
    "        self.counter += 1\n",
    "        if self.counter > 10:\n",
    "            return False\n",
    "        ###########################################\n",
    "        ###### Basic Attributes of the Event ######\n",
    "        ###########################################\n",
    "        run = getattr(event, \"run\")\n",
    "        lumi = getattr(event, \"luminosityBlock\")\n",
    "        evt = getattr(event, \"event\")\n",
    "        \n",
    "        self.h_lumiblock.Fill(lumi)\n",
    "        self.h_run.Fill(float(run))\n",
    "        #if self.counter % modulator == 0:\n",
    "        print(\"\\n\\nRun: {0:>8d} LuminosityBlock: {1:>8d} Event: {2:>8d}\".format(run,lumi,evt)) \n",
    "    \n",
    "        ###########################################\n",
    "        ###### Event Collections and Objects ######\n",
    "        ###########################################\n",
    "        #electrons = Collection(event, \"Electron\")\n",
    "        #photons = Collection(event, \"Photon\")\n",
    "        muons = Collection(event, \"Muon\")\n",
    "        #taus = Collection(event, \"Tau\")\n",
    "        jets = Collection(event, \"Jet\")\n",
    "        fatjets = Collection(event, \"FatJet\")\n",
    "        subjets = Collection(event, \"SubJet\")\n",
    "        met = Object(event, \"MET\")\n",
    "        PV = Object(event, \"PV\")\n",
    "        SV = Collection(event, \"SV\")\n",
    "        \n",
    "        ###############################\n",
    "        ###### Time To Do Stuff? ######\n",
    "        ###############################\n",
    "        eventSum = ROOT.TLorentzVector()\n",
    "        print(\"PV  X: {0: >5.3f} Y: {1: >5.3f} Z: {2:5.3f} nDoF: {3: >5f} Chi^2: {4: >5.3f}\".format(\n",
    "            PV.x,PV.y, PV.z, PV.ndof, PV.chi2)) #getattr(PV, \"chi2\") also works\n",
    "        print(\"==============================================================================\")\n",
    "        print(\"|| Secondary Vertices\\tNumber: {0: >3d} \\t\\t\\t\\t\\t    ||\".format(len(SV)))\n",
    "        if len(SV) > 0:\n",
    "            print(\"||\\t{0:>5s}\\t{1:>5s}\\t{2:>5s}\\t{3:>5s}\\t{4:>5s}\\t{5:>5s}\\t{6:>5s}\\t\\t||\".format(\n",
    "                \"Pt\", \"Eta\", \"Phi\", \"Chi2\", \"nDoF\", \"Mass\", \"dLen\"))\n",
    "            for vert in SV:\n",
    "                print(\"||\\t{0: >5.3f}\\t{1: >5.3f}\\t{2: >5.3f}\\t{3: >5.3f}\\t{4: >5.3f}\\t{5: >5.3f}\\t{6: >5.3f}\\t\\t    ||\".format(\n",
    "                    getattr(vert,\"pt\"),getattr(vert,\"eta\"),getattr(vert,\"phi\"),\n",
    "                    getattr(vert,\"chi2\"),getattr(vert,\"ndof\"),getattr(vert,\"mass\"),getattr(vert,\"dlen\")))\n",
    "        print(\"==============================================================================\")\n",
    "        print(\"||Muons\\tNumber: {0: >3d}\\t\\t\\t\\t\\t\\t    ||\".format(len(muons)))\n",
    "        print(\"||\\t{0:>5s}\\t{1:>5s}\\t{2:>5s}\\t{3:>5s}\\t{4:>5s}\\t{5:>5s}\\t{6:>5s}\\t{7:>5s}\\t||\".format(\n",
    "                \"Pt\", \"Eta\", \"Phi\", \"IP3d\", \"dXY\", \"dZ\", \"JetID\", \"PFRelIso04\"))\n",
    "        for lep in muons :\n",
    "            eventSum += lep.p4()\n",
    "            print(\"||\\t{0: >5.3f}\\t{1: >5.3f}\\t{2: >5.3f}\\t{3: >5.3f}\\t{4: >5.3f}\\t{5: >5.3f}\\t{6: >5d}\\t{7: >5.3f}\\t    ||\".format(\n",
    "                    getattr(lep,\"pt\"),getattr(lep,\"eta\"),getattr(lep,\"phi\"),getattr(lep,\"ip3d\"),\n",
    "                    getattr(lep,\"dxy\"),getattr(lep,\"dz\"),getattr(lep,\"jetIdx\"),getattr(lep,\"pfRelIso04_all\")))\n",
    "        print(\"==============================================================================\")\n",
    "        print(\"||Electrons\\tNumber: {0: >3d}\\t\\t\\t\\t\\t\\t    ||\".format(len(muons)))\n",
    "        print(\"||\\t{0:>5s}\\t{1:>5s}\\t{2:>5s}\\t{3:>5s}\\t{4:>5s}\\t{5:>5s}\\t{6:>5s}\\t{7:>5s}\\t||\".format(\n",
    "                \"Pt\", \"Eta\", \"Phi\", \"IP3d\", \"dXY\", \"dZ\", \"JetID\", \"PFRelIso03\"))\n",
    "        for nm, lep in enumerate(muons) :\n",
    "            eventSum += lep.p4()\n",
    "            print(\"||\\t{0: >5.3f}\\t{1: >5.3f}\\t{2: >5.3f}\\t{3: >5.3f}\\t{4: >5.3f}\\t{5: >5.3f}\\t{6: >5d}\\t{7: >5.3f}\\t    ||\".format(\n",
    "                    getattr(lep,\"pt\"),getattr(lep,\"eta\"),getattr(lep,\"phi\"),getattr(lep,\"ip3d\"),\n",
    "                    getattr(lep,\"dxy\"),getattr(lep,\"dz\"),getattr(lep,\"jetIdx\"),getattr(lep,\"pfRelIso03_all\")))\n",
    "        print(\"==============================================================================\")\n",
    "        return True #Test by ending early\n",
    "        print(\"{0:>5s} {1:>10s} {2:>10s} {3:>10s}\".format(\"Electron\", \"Pt\", \"Eta\", \"Phi\"))\n",
    "        for ne, lep in enumerate(electrons) :\n",
    "            eventSum += lep.p4()\n",
    "            print(\"{0:*^5d} {1:>10.4f} {2:> 10.3f} {3:> 10.3f}\".format(ne+1, lep.pt, lep.eta, lep.phi))\n",
    "        #for j in filter(self.jetSel,jets):\n",
    "        print(\"{0:>5s} {1:>10s} {2:>10s} {3:>10s}\".format(\"Jet\", \"Pt\", \"Eta\", \"Phi\"))\n",
    "        for nj, j in enumerate(jets):\n",
    "            eventSum += j.p4()\n",
    "            print(\"{0: >5d} {1:>10.4f} {2:>-10.3f} {3:>-10.3f}\".format(nj+1, j.pt, j.eta, j.phi))\n",
    "        print(\"Event Mass: {:<10.4f}\\n\".format(eventSum.M()))\n",
    "        \n",
    "        ###########################################\n",
    "        ###### Return True to pass the event ######\n",
    "        ###########################################\n",
    "        return True\n"
   ]
  },
  {
   "cell_type": "code",
   "execution_count": 54,
   "metadata": {
    "collapsed": false
   },
   "outputs": [
    {
     "name": "stdout",
     "output_type": "stream",
     "text": [
      "[u'root://cms-xrd-global.cern.ch//store/data/Run2016B/SingleMuon/NANOAOD/05Feb2018_ver2-v1/00000/2055267F-3110-E811-8956-AC1F6B1AEF94.root\\n']\n"
     ]
    }
   ],
   "source": [
    "#preselection=\"nMuon > 0 && nElectron > 0\"\n",
    "outputDir = \".\" #Just output where we run from for now\n",
    "preselection=None\n",
    "filePrefix = \"root://cms-xrd-global.cern.ch/\"\n",
    "inputList = open(\"../data/Run2016/Run2016B_SM\", \"r\")\n",
    "files=[]\n",
    "for line in inputList:\n",
    "    files.append(filePrefix + str(line))\n",
    "#for file in files:\n",
    "#    print(file)\n",
    "onefile = [files[0]] #Experiment with just one file for now...\n",
    "#onefile = \" root://cms-xrd-global.cern.ch//store/data/Run2016B/SingleMuon/NANOAOD/05Feb2018_ver2-v1/00000/2055267F-3110-E811-8956-AC1F6B1AEF94.root\"\n",
    "print(onefile)"
   ]
  },
  {
   "cell_type": "code",
   "execution_count": 55,
   "metadata": {
    "collapsed": false
   },
   "outputs": [],
   "source": [
    "p=PostProcessor(outputDir,onefile,cut=preselection,branchsel=None,modules=[Jetsons()],friend=False,postfix=\"_Jetsons\", \n",
    "                jsonInput=\"../data/json/2016Golden.json\",noOut=False,justcount=False,provenance=False,\n",
    "                haddFileName=None,fwkJobReport=False,histFileName=\"histOut.root\",\n",
    "                histDirName=\"plots\", outputbranchsel=None)\n",
    "#\".\" is the outputdirectory, i.e. \"Here\" in this case\n",
    "#jsonInput: json file in dictionary format {\"RunNumberInt\": [[lumilow,lumihigh],[lumi2low,lumi2high]], \"RunNumber2Int\":[[low,high]]}\n",
    "#files: list [\"fileone.root\",\"filetwo.root\"] of inputs, even if one file must be a list!\n",
    "#branchsel: if non-None, selection of branches to not even activate/load into memory\n",
    "#outputbranchsel: if non-None, selection of branches to still include in output (see noOut)\n",
    "#noOut: If True, no output of skimmed data is written. If False, will write full data file fitting outputbranch selections and postfix concattenated to name\n",
    "#postfix: string added to inputfile name to indicate this module processed it!\n",
    "#histFileName: name of any output file for histograms created in your class, as above with runs and lumis\n",
    "#histDirName: name INSIDE the \"histFileName.root\" file's directory structure!\n",
    "#friend: Not tested\n",
    "#provenance: not tested\n",
    "#haddFileName: Not properly tested (tied together with fwkJobReport)\n",
    "#fwkJobReport: only relevant with multiple files being added together? Not properly tested"
   ]
  },
  {
   "cell_type": "code",
   "execution_count": null,
   "metadata": {
    "collapsed": false
   },
   "outputs": [
    {
     "name": "stdout",
     "output_type": "stream",
     "text": [
      "Will write selected trees to .\n",
      "Pre-select 11647 entries out of 11647 \n",
      "Run:   273410 LuminosityBlock:       50 Event: 84373408\n"
     ]
    }
   ],
   "source": [
    "p.run()"
   ]
  },
  {
   "cell_type": "code",
   "execution_count": null,
   "metadata": {
    "collapsed": true
   },
   "outputs": [],
   "source": []
  }
 ],
 "metadata": {
  "kernelspec": {
   "display_name": "Python 2",
   "language": "python",
   "name": "python2"
  },
  "language_info": {
   "codemirror_mode": {
    "name": "ipython",
    "version": 2
   },
   "file_extension": ".py",
   "mimetype": "text/x-python",
   "name": "python",
   "nbconvert_exporter": "python",
   "pygments_lexer": "ipython2",
   "version": "2.7.11"
  }
 },
 "nbformat": 4,
 "nbformat_minor": 2
}

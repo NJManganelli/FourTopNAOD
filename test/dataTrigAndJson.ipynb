{
 "cells": [
  {
   "cell_type": "code",
   "execution_count": 1,
   "metadata": {
    "collapsed": true
   },
   "outputs": [],
   "source": [
    "from __future__ import (absolute_import, division,\n",
    "                        print_function, unicode_literals)"
   ]
  },
  {
   "cell_type": "code",
   "execution_count": 2,
   "metadata": {
    "collapsed": true
   },
   "outputs": [],
   "source": [
    "import os, sys, time"
   ]
  },
  {
   "cell_type": "code",
   "execution_count": 3,
   "metadata": {
    "collapsed": false
   },
   "outputs": [
    {
     "name": "stdout",
     "output_type": "stream",
     "text": [
      "Welcome to JupyROOT 6.10/09\n"
     ]
    }
   ],
   "source": [
    "import ROOT"
   ]
  },
  {
   "cell_type": "code",
   "execution_count": 4,
   "metadata": {
    "collapsed": true
   },
   "outputs": [],
   "source": [
    "from importlib import import_module\n",
    "from PhysicsTools.NanoAODTools.postprocessing.framework.postprocessor import PostProcessor"
   ]
  },
  {
   "cell_type": "code",
   "execution_count": 5,
   "metadata": {
    "collapsed": true
   },
   "outputs": [],
   "source": [
    "from PhysicsTools.NanoAODTools.postprocessing.framework.datamodel import Collection, Object\n",
    "from PhysicsTools.NanoAODTools.postprocessing.framework.eventloop import Module"
   ]
  },
  {
   "cell_type": "code",
   "execution_count": 6,
   "metadata": {
    "collapsed": true
   },
   "outputs": [],
   "source": [
    "class MFaJaT(Module):\n",
    "    def __init__(self):\n",
    "        self.writeHistFile=True\n",
    "        self.counter = 0\n",
    "    def beginJob(self,histFile=None,histDirName=None):\n",
    "        Module.beginJob(self,histFile,histDirName)\n",
    "        \n",
    "        self.h_lumiblock = ROOT.TH1I('h_lumiblock', ':LumiBlock:Events',   100, 0, 1000)\n",
    "        self.addObject(self.h_lumiblock)\n",
    "        self.h_run = ROOT.TH1I('h_run', ':Run:Events', 10, 273400, 277000)\n",
    "        self.addObject(self.h_run)\n",
    "    #def endJob(self):\n",
    "    #    pass #Cannot do pass in endJob if we write histograms... they don't get written! So do no override Module \n",
    "    #def beginFile(self, inputFile, outputFile):\n",
    "    #def beginFile(self):\n",
    "        #pass\n",
    "    #def endFile(self, inputFile, outputFile):\n",
    "    #def endFile(self):\n",
    "        #pass\n",
    "    def analyze(self, event):\n",
    "        \"\"\"process event, return True (go to next module) or False (fail, go to next event)\"\"\"\n",
    "        \n",
    "        modulator = 1000 # how often to print an event when we do self.counter % modulator\n",
    "        \n",
    "        ###########################################\n",
    "        ###### Basic Attributes of the Event ######\n",
    "        ###########################################\n",
    "        run = getattr(event, \"run\")\n",
    "        lumi = getattr(event, \"luminosityBlock\")\n",
    "        evt = getattr(event, \"event\")\n",
    "\n",
    "        self.h_lumiblock.Fill(lumi)\n",
    "        self.h_run.Fill(run)\n",
    "        if self.counter % modulator == 0:\n",
    "            print(\"Run: {0:>8d} LuminosityBlock: {2:>8d} Event: {1:>8d}\".format(run, evt, lumi)) #swizzling because lazy\n",
    "        \n",
    "        ################################\n",
    "        ###### High Level Trigger ######\n",
    "        ################################\n",
    "        HLT = Object(event, \"HLT\") #Grab all the HLT triggers 'together'\n",
    "        passTrig=[\"IsoMu20\", \"IsoMu24\"] #Create a list of valid triggers to check, dropping \"HLT_\"\n",
    "        if self.counter % modulator == 0:\n",
    "            for trig in passTrig:\n",
    "                print(\"\\tHLT_\" + str(trig) + \" Trigger: \" + str(getattr(HLT, trig)) )\n",
    "            \n",
    "            \n",
    "        ###############################\n",
    "        ######### MET Filters #########\n",
    "        ###############################\n",
    "        Filters = Object(event, \"Flag\") #Grab all the MET Filters in a group\n",
    "        passFilter=[\"HBHENoiseFilter\", \"HBHENoiseIsoFilter\", \"EcalDeadCellTriggerPrimitiveFilter\", \n",
    "                    \"globalSuperTightHalo2016Filter\", \"goodVertices\", \"METFilters\", \"noBadMuons\"] #All the filters commonly used \n",
    "        if self.counter % modulator == 0:\n",
    "            for fltr in passFilter:\n",
    "                print(\"\\t\\tFlag_\" + str(fltr) + \" Filter: \" + str(getattr(Filters, fltr)))\n",
    "        \n",
    "        \n",
    "        self.counter += 1\n",
    "        return True "
   ]
  },
  {
   "cell_type": "code",
   "execution_count": 7,
   "metadata": {
    "collapsed": false
   },
   "outputs": [
    {
     "name": "stdout",
     "output_type": "stream",
     "text": [
      "[u'root://cms-xrd-global.cern.ch//store/data/Run2016B/SingleMuon/NANOAOD/05Feb2018_ver2-v1/00000/2055267F-3110-E811-8956-AC1F6B1AEF94.root\\n']\n"
     ]
    }
   ],
   "source": [
    "#preselection=\"nMuon > 0 && nElectron > 0\"\n",
    "preselection=None\n",
    "filePrefix = \"root://cms-xrd-global.cern.ch/\"\n",
    "inputList = open(\"../data/Run2016/Run2016B_SM\", \"r\")\n",
    "files=[]\n",
    "for line in inputList:\n",
    "    files.append(filePrefix + str(line))\n",
    "#for file in files:\n",
    "#    print(file)\n",
    "onefile = [files[0]] #Experiment with just one file for now...\n",
    "#onefile = \" root://cms-xrd-global.cern.ch//store/data/Run2016B/SingleMuon/NANOAOD/05Feb2018_ver2-v1/00000/2055267F-3110-E811-8956-AC1F6B1AEF94.root\"\n",
    "print(onefile)"
   ]
  },
  {
   "cell_type": "code",
   "execution_count": 8,
   "metadata": {
    "collapsed": false
   },
   "outputs": [],
   "source": [
    "p=PostProcessor(\".\",onefile,cut=preselection,branchsel=None,modules=[MFaJaT()],friend=False,postfix=None, \n",
    "                jsonInput=None,noOut=True,justcount=False,provenance=False,\n",
    "                haddFileName=None,fwkJobReport=False,histFileName=\"histOut.root\",\n",
    "                histDirName=\"plots\", outputbranchsel=None)\n",
    "#jsonInput: json file in dictionary format {\"RunNumberInt\": [[lumilow,lumihigh],[lumi2low,lumi2high]], \"RunNumber2Int\":[[low,high]]}\n",
    "#files: list [\"fileone.root\",\"filetwo.root\"] of inputs, even if one file must be a list!\n",
    "#branchsel: if non-None, selection of branches to not even activate/load into memory\n",
    "#outputbranchsel: if non-None, selection of branches to still include in output (see noOut)\n",
    "#noOut: If True, no output of skimmed data is written. If False, will write full data file fitting outputbranch selections and postfix concattenated to name\n",
    "#postfix: string added to inputfile name to indicate this module processed it!\n",
    "#histFileName: name of any output file for histograms created in your class, as above with runs and lumis\n",
    "#histDirName: name INSIDE the \"histFileName.root\" file's directory structure!\n",
    "#friend: Not tested\n",
    "#provenance: not tested\n",
    "#haddFileName: Not properly tested (tied together with fwkJobReport)\n",
    "#fwkJobReport: only relevant with multiple files being added together? Not properly tested"
   ]
  },
  {
   "cell_type": "code",
   "execution_count": 9,
   "metadata": {
    "collapsed": false
   },
   "outputs": [
    {
     "name": "stdout",
     "output_type": "stream",
     "text": [
      "Pre-select 11647 entries out of 11647 "
     ]
    },
    {
     "name": "stderr",
     "output_type": "stream",
     "text": [
      "/afs/cern.ch/work/n/nmangane/scratch1/CMSSW_9_4_9/python/PhysicsTools/NanoAODTools/postprocessing/framework/treeReaderArrayTools.py:69: RuntimeWarning: creating executor for unknown type \"ULong64_t*\"\n",
      "  ret = _vr.Get()[0]\n"
     ]
    },
    {
     "name": "stdout",
     "output_type": "stream",
     "text": [
      "\n",
      "Run:   273410 LuminosityBlock:       50 Event: 84373408\n",
      "\tHLT_IsoMu20 Trigger: False\n",
      "\tHLT_IsoMu24 Trigger: False\n",
      "\t\tFlag_HBHENoiseFilter Filter: True\n",
      "\t\tFlag_HBHENoiseIsoFilter Filter: True\n",
      "\t\tFlag_EcalDeadCellTriggerPrimitiveFilter Filter: True\n",
      "\t\tFlag_globalSuperTightHalo2016Filter Filter: True\n",
      "\t\tFlag_goodVertices Filter: True\n",
      "\t\tFlag_METFilters Filter: True\n",
      "\t\tFlag_noBadMuons Filter: True\n",
      "Run:   273410 LuminosityBlock:       50 Event: 84732209\n",
      "\tHLT_IsoMu20 Trigger: False\n",
      "\tHLT_IsoMu24 Trigger: False\n",
      "\t\tFlag_HBHENoiseFilter Filter: True\n",
      "\t\tFlag_HBHENoiseIsoFilter Filter: True\n",
      "\t\tFlag_EcalDeadCellTriggerPrimitiveFilter Filter: True\n",
      "\t\tFlag_globalSuperTightHalo2016Filter Filter: True\n",
      "\t\tFlag_goodVertices Filter: True\n",
      "\t\tFlag_METFilters Filter: True\n",
      "\t\tFlag_noBadMuons Filter: True\n",
      "Run:   273410 LuminosityBlock:       51 Event: 87173441\n",
      "\tHLT_IsoMu20 Trigger: True\n",
      "\tHLT_IsoMu24 Trigger: True\n",
      "\t\tFlag_HBHENoiseFilter Filter: True\n",
      "\t\tFlag_HBHENoiseIsoFilter Filter: True\n",
      "\t\tFlag_EcalDeadCellTriggerPrimitiveFilter Filter: True\n",
      "\t\tFlag_globalSuperTightHalo2016Filter Filter: True\n",
      "\t\tFlag_goodVertices Filter: True\n",
      "\t\tFlag_METFilters Filter: True\n",
      "\t\tFlag_noBadMuons Filter: True\n",
      "Run:   273410 LuminosityBlock:       53 Event: 90275641\n",
      "\tHLT_IsoMu20 Trigger: True\n",
      "\tHLT_IsoMu24 Trigger: False\n",
      "\t\tFlag_HBHENoiseFilter Filter: True\n",
      "\t\tFlag_HBHENoiseIsoFilter Filter: True\n",
      "\t\tFlag_EcalDeadCellTriggerPrimitiveFilter Filter: True\n",
      "\t\tFlag_globalSuperTightHalo2016Filter Filter: True\n",
      "\t\tFlag_goodVertices Filter: True\n",
      "\t\tFlag_METFilters Filter: True\n",
      "\t\tFlag_noBadMuons Filter: True\n",
      "Run:   273410 LuminosityBlock:       54 Event: 92184980\n",
      "\tHLT_IsoMu20 Trigger: False\n",
      "\tHLT_IsoMu24 Trigger: False\n",
      "\t\tFlag_HBHENoiseFilter Filter: True\n",
      "\t\tFlag_HBHENoiseIsoFilter Filter: True\n",
      "\t\tFlag_EcalDeadCellTriggerPrimitiveFilter Filter: True\n",
      "\t\tFlag_globalSuperTightHalo2016Filter Filter: True\n",
      "\t\tFlag_goodVertices Filter: True\n",
      "\t\tFlag_METFilters Filter: True\n",
      "\t\tFlag_noBadMuons Filter: True\n",
      "Run:   274316 LuminosityBlock:      621 Event: 1079929958\n",
      "\tHLT_IsoMu20 Trigger: True\n",
      "\tHLT_IsoMu24 Trigger: True\n",
      "\t\tFlag_HBHENoiseFilter Filter: True\n",
      "\t\tFlag_HBHENoiseIsoFilter Filter: True\n",
      "\t\tFlag_EcalDeadCellTriggerPrimitiveFilter Filter: True\n",
      "\t\tFlag_globalSuperTightHalo2016Filter Filter: True\n",
      "\t\tFlag_goodVertices Filter: True\n",
      "\t\tFlag_METFilters Filter: True\n",
      "\t\tFlag_noBadMuons Filter: True\n",
      "Run:   274316 LuminosityBlock:      621 Event: 1080048214\n",
      "\tHLT_IsoMu20 Trigger: True\n",
      "\tHLT_IsoMu24 Trigger: False\n",
      "\t\tFlag_HBHENoiseFilter Filter: True\n",
      "\t\tFlag_HBHENoiseIsoFilter Filter: True\n",
      "\t\tFlag_EcalDeadCellTriggerPrimitiveFilter Filter: True\n",
      "\t\tFlag_globalSuperTightHalo2016Filter Filter: True\n",
      "\t\tFlag_goodVertices Filter: True\n",
      "\t\tFlag_METFilters Filter: True\n",
      "\t\tFlag_noBadMuons Filter: True\n",
      "Run:   274316 LuminosityBlock:      621 Event: 1079403573\n",
      "\tHLT_IsoMu20 Trigger: False\n",
      "\tHLT_IsoMu24 Trigger: False\n",
      "\t\tFlag_HBHENoiseFilter Filter: True\n",
      "\t\tFlag_HBHENoiseIsoFilter Filter: True\n",
      "\t\tFlag_EcalDeadCellTriggerPrimitiveFilter Filter: True\n",
      "\t\tFlag_globalSuperTightHalo2016Filter Filter: True\n",
      "\t\tFlag_goodVertices Filter: True\n",
      "\t\tFlag_METFilters Filter: True\n",
      "\t\tFlag_noBadMuons Filter: True\n",
      "Run:   275125 LuminosityBlock:      948 Event: 1715134880\n",
      "\tHLT_IsoMu20 Trigger: False\n",
      "\tHLT_IsoMu24 Trigger: False\n",
      "\t\tFlag_HBHENoiseFilter Filter: True\n",
      "\t\tFlag_HBHENoiseIsoFilter Filter: True\n",
      "\t\tFlag_EcalDeadCellTriggerPrimitiveFilter Filter: True\n",
      "\t\tFlag_globalSuperTightHalo2016Filter Filter: True\n",
      "\t\tFlag_goodVertices Filter: True\n",
      "\t\tFlag_METFilters Filter: True\n",
      "\t\tFlag_noBadMuons Filter: True\n",
      "Run:   275125 LuminosityBlock:      948 Event: 1715438729\n",
      "\tHLT_IsoMu20 Trigger: True\n",
      "\tHLT_IsoMu24 Trigger: True\n",
      "\t\tFlag_HBHENoiseFilter Filter: True\n",
      "\t\tFlag_HBHENoiseIsoFilter Filter: True\n",
      "\t\tFlag_EcalDeadCellTriggerPrimitiveFilter Filter: True\n",
      "\t\tFlag_globalSuperTightHalo2016Filter Filter: True\n",
      "\t\tFlag_goodVertices Filter: True\n",
      "\t\tFlag_METFilters Filter: True\n",
      "\t\tFlag_noBadMuons Filter: True\n",
      "Run:   275125 LuminosityBlock:      948 Event: 1714068482\n",
      "\tHLT_IsoMu20 Trigger: False\n",
      "\tHLT_IsoMu24 Trigger: False\n",
      "\t\tFlag_HBHENoiseFilter Filter: True\n",
      "\t\tFlag_HBHENoiseIsoFilter Filter: True\n",
      "\t\tFlag_EcalDeadCellTriggerPrimitiveFilter Filter: True\n",
      "\t\tFlag_globalSuperTightHalo2016Filter Filter: True\n",
      "\t\tFlag_goodVertices Filter: True\n",
      "\t\tFlag_METFilters Filter: True\n",
      "\t\tFlag_noBadMuons Filter: True\n",
      "Processed    10000/   11647 entries (elapsed time     0.6s, curr speed   17.857 kHz, avg speed   17.857 kHz), accepted    10001/   10001 events (100.00%)\n",
      "Run:   275125 LuminosityBlock:      948 Event: 1714914353\n",
      "\tHLT_IsoMu20 Trigger: False\n",
      "\tHLT_IsoMu24 Trigger: False\n",
      "\t\tFlag_HBHENoiseFilter Filter: True\n",
      "\t\tFlag_HBHENoiseIsoFilter Filter: True\n",
      "\t\tFlag_EcalDeadCellTriggerPrimitiveFilter Filter: True\n",
      "\t\tFlag_globalSuperTightHalo2016Filter Filter: True\n",
      "\t\tFlag_goodVertices Filter: True\n",
      "\t\tFlag_METFilters Filter: True\n",
      "\t\tFlag_noBadMuons Filter: True\n",
      "Processed 11647 preselected entries from root://cms-xrd-global.cern.ch//store/data/Run2016B/SingleMuon/NANOAOD/05Feb2018_ver2-v1/00000/2055267F-3110-E811-8956-AC1F6B1AEF94.root\n",
      " (11647 entries). Finally selected 11647 entries\n",
      "9546.72131148 Hz\n"
     ]
    }
   ],
   "source": [
    "p.run()"
   ]
  },
  {
   "cell_type": "code",
   "execution_count": 10,
   "metadata": {
    "collapsed": true
   },
   "outputs": [],
   "source": [
    "p2=PostProcessor(\".\",onefile,cut=preselection,branchsel=None,modules=[MFaJaT()],friend=False,postfix=\"_MFaJaT\", \n",
    "                jsonInput=\"../data/json/testjson.json\",noOut=False,justcount=False,provenance=False,\n",
    "                haddFileName=None,fwkJobReport=False,histFileName=\"histOut.root\",\n",
    "                histDirName=\"plots\", outputbranchsel=None)\n",
    "#Add json file, add postfix name, change noOut to False"
   ]
  },
  {
   "cell_type": "code",
   "execution_count": 11,
   "metadata": {
    "collapsed": false
   },
   "outputs": [
    {
     "name": "stdout",
     "output_type": "stream",
     "text": [
      "Will write selected trees to .\n",
      "Pre-select 7331 entries out of 11647 \n",
      "Run:   273410 LuminosityBlock:       50 Event: 84373408\n",
      "\tHLT_IsoMu20 Trigger: False\n",
      "\tHLT_IsoMu24 Trigger: False\n",
      "\t\tFlag_HBHENoiseFilter Filter: True\n",
      "\t\tFlag_HBHENoiseIsoFilter Filter: True\n",
      "\t\tFlag_EcalDeadCellTriggerPrimitiveFilter Filter: True\n",
      "\t\tFlag_globalSuperTightHalo2016Filter Filter: True\n",
      "\t\tFlag_goodVertices Filter: True\n",
      "\t\tFlag_METFilters Filter: True\n",
      "\t\tFlag_noBadMuons Filter: True\n",
      "Run:   273410 LuminosityBlock:       50 Event: 84732209\n",
      "\tHLT_IsoMu20 Trigger: False\n",
      "\tHLT_IsoMu24 Trigger: False\n",
      "\t\tFlag_HBHENoiseFilter Filter: True\n",
      "\t\tFlag_HBHENoiseIsoFilter Filter: True\n",
      "\t\tFlag_EcalDeadCellTriggerPrimitiveFilter Filter: True\n",
      "\t\tFlag_globalSuperTightHalo2016Filter Filter: True\n",
      "\t\tFlag_goodVertices Filter: True\n",
      "\t\tFlag_METFilters Filter: True\n",
      "\t\tFlag_noBadMuons Filter: True\n",
      "Run:   273410 LuminosityBlock:       53 Event: 89579473\n",
      "\tHLT_IsoMu20 Trigger: False\n",
      "\tHLT_IsoMu24 Trigger: False\n",
      "\t\tFlag_HBHENoiseFilter Filter: True\n",
      "\t\tFlag_HBHENoiseIsoFilter Filter: True\n",
      "\t\tFlag_EcalDeadCellTriggerPrimitiveFilter Filter: True\n",
      "\t\tFlag_globalSuperTightHalo2016Filter Filter: True\n",
      "\t\tFlag_goodVertices Filter: True\n",
      "\t\tFlag_METFilters Filter: True\n",
      "\t\tFlag_noBadMuons Filter: True\n",
      "Run:   273410 LuminosityBlock:       54 Event: 92369614\n",
      "\tHLT_IsoMu20 Trigger: True\n",
      "\tHLT_IsoMu24 Trigger: True\n",
      "\t\tFlag_HBHENoiseFilter Filter: True\n",
      "\t\tFlag_HBHENoiseIsoFilter Filter: True\n",
      "\t\tFlag_EcalDeadCellTriggerPrimitiveFilter Filter: True\n",
      "\t\tFlag_globalSuperTightHalo2016Filter Filter: True\n",
      "\t\tFlag_goodVertices Filter: True\n",
      "\t\tFlag_METFilters Filter: True\n",
      "\t\tFlag_noBadMuons Filter: True\n",
      "Run:   275125 LuminosityBlock:      948 Event: 1713919510\n",
      "\tHLT_IsoMu20 Trigger: True\n",
      "\tHLT_IsoMu24 Trigger: False\n",
      "\t\tFlag_HBHENoiseFilter Filter: True\n",
      "\t\tFlag_HBHENoiseIsoFilter Filter: True\n",
      "\t\tFlag_EcalDeadCellTriggerPrimitiveFilter Filter: True\n",
      "\t\tFlag_globalSuperTightHalo2016Filter Filter: True\n",
      "\t\tFlag_goodVertices Filter: True\n",
      "\t\tFlag_METFilters Filter: True\n",
      "\t\tFlag_noBadMuons Filter: True\n",
      "Run:   275125 LuminosityBlock:      948 Event: 1713876177\n",
      "\tHLT_IsoMu20 Trigger: True\n",
      "\tHLT_IsoMu24 Trigger: True\n",
      "\t\tFlag_HBHENoiseFilter Filter: True\n",
      "\t\tFlag_HBHENoiseIsoFilter Filter: True\n",
      "\t\tFlag_EcalDeadCellTriggerPrimitiveFilter Filter: True\n",
      "\t\tFlag_globalSuperTightHalo2016Filter Filter: True\n",
      "\t\tFlag_goodVertices Filter: True\n",
      "\t\tFlag_METFilters Filter: True\n",
      "\t\tFlag_noBadMuons Filter: True\n",
      "Run:   275125 LuminosityBlock:      948 Event: 1714127944\n",
      "\tHLT_IsoMu20 Trigger: True\n",
      "\tHLT_IsoMu24 Trigger: True\n",
      "\t\tFlag_HBHENoiseFilter Filter: True\n",
      "\t\tFlag_HBHENoiseIsoFilter Filter: True\n",
      "\t\tFlag_EcalDeadCellTriggerPrimitiveFilter Filter: True\n",
      "\t\tFlag_globalSuperTightHalo2016Filter Filter: True\n",
      "\t\tFlag_goodVertices Filter: True\n",
      "\t\tFlag_METFilters Filter: True\n",
      "\t\tFlag_noBadMuons Filter: True\n",
      "Run:   275125 LuminosityBlock:      948 Event: 1714930074\n",
      "\tHLT_IsoMu20 Trigger: True\n",
      "\tHLT_IsoMu24 Trigger: False\n",
      "\t\tFlag_HBHENoiseFilter Filter: True\n",
      "\t\tFlag_HBHENoiseIsoFilter Filter: True\n",
      "\t\tFlag_EcalDeadCellTriggerPrimitiveFilter Filter: True\n",
      "\t\tFlag_globalSuperTightHalo2016Filter Filter: True\n",
      "\t\tFlag_goodVertices Filter: True\n",
      "\t\tFlag_METFilters Filter: True\n",
      "\t\tFlag_noBadMuons Filter: True\n",
      "Processed 7331 preselected entries from root://cms-xrd-global.cern.ch//store/data/Run2016B/SingleMuon/NANOAOD/05Feb2018_ver2-v1/00000/2055267F-3110-E811-8956-AC1F6B1AEF94.root\n",
      " (11647 entries). Finally selected 7331 entries\n",
      "Done ./2055267F-3110-E811-8956-AC1F6B1AEF94_MFaJaT.root\n",
      "\n",
      "1154.31119921 Hz\n"
     ]
    }
   ],
   "source": [
    "p2.run()"
   ]
  },
  {
   "cell_type": "code",
   "execution_count": null,
   "metadata": {
    "collapsed": true
   },
   "outputs": [],
   "source": []
  }
 ],
 "metadata": {
  "kernelspec": {
   "display_name": "Python 2",
   "language": "python",
   "name": "python2"
  },
  "language_info": {
   "codemirror_mode": {
    "name": "ipython",
    "version": 2
   },
   "file_extension": ".py",
   "mimetype": "text/x-python",
   "name": "python",
   "nbconvert_exporter": "python",
   "pygments_lexer": "ipython2",
   "version": "2.7.11"
  }
 },
 "nbformat": 4,
 "nbformat_minor": 2
}

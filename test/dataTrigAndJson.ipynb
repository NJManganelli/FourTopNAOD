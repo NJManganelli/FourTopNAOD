{
 "cells": [
  {
   "cell_type": "code",
   "execution_count": 1,
   "metadata": {
    "collapsed": true
   },
   "outputs": [],
   "source": [
    "from __future__ import (absolute_import, division,\n",
    "                        print_function, unicode_literals)"
   ]
  },
  {
   "cell_type": "code",
   "execution_count": 2,
   "metadata": {
    "collapsed": true
   },
   "outputs": [],
   "source": [
    "import os, sys, time"
   ]
  },
  {
   "cell_type": "code",
   "execution_count": 3,
   "metadata": {
    "collapsed": false
   },
   "outputs": [
    {
     "name": "stdout",
     "output_type": "stream",
     "text": [
      "Welcome to JupyROOT 6.10/09\n"
     ]
    }
   ],
   "source": [
    "import ROOT"
   ]
  },
  {
   "cell_type": "code",
   "execution_count": 4,
   "metadata": {
    "collapsed": true
   },
   "outputs": [],
   "source": [
    "from importlib import import_module\n",
    "from PhysicsTools.NanoAODTools.postprocessing.framework.postprocessor import PostProcessor"
   ]
  },
  {
   "cell_type": "code",
   "execution_count": 5,
   "metadata": {
    "collapsed": true
   },
   "outputs": [],
   "source": [
    "from PhysicsTools.NanoAODTools.postprocessing.framework.datamodel import Collection, Object\n",
    "from PhysicsTools.NanoAODTools.postprocessing.framework.eventloop import Module"
   ]
  },
  {
   "cell_type": "code",
   "execution_count": 6,
   "metadata": {
    "collapsed": true
   },
   "outputs": [],
   "source": [
    "class MFaJaT(Module):\n",
    "    def __init__(self):\n",
    "        self.writeHistFile=True\n",
    "    def beginJob(self,histFile=None,histDirName=None):\n",
    "        Module.beginJob(self,histFile,histDirName)\n",
    "        \n",
    "        self.h_lumiblock = ROOT.TH1I('h_lumiblock', ':LumiBlock:Events',   100, 0, 1000)\n",
    "        self.addObject(self.h_lumiblock)\n",
    "        self.h_run = ROOT.TH1I('h_run', ':Run:Events', 10, 0, 10)\n",
    "        self.addObject(self.h_run)\n",
    "    def endJob(self):\n",
    "        pass\n",
    "    #def beginFile(self, inputFile, outputFile):\n",
    "    #def beginFile(self):\n",
    "        #pass\n",
    "    #def endFile(self, inputFile, outputFile):\n",
    "    #def endFile(self):\n",
    "        #pass\n",
    "    def analyze(self, event):\n",
    "        \"\"\"process event, return True (go to next module) or False (fail, go to next event)\"\"\"\n",
    "        \n",
    "        ###########################################\n",
    "        ###### Basic Attributes of the Event ######\n",
    "        ###########################################\n",
    "        run = getattr(event, \"run\")\n",
    "        lumi = getattr(event, \"luminosityBlock\")\n",
    "        evt = getattr(event, \"event\")\n",
    "        \n",
    "        self.h_lumiblock.Fill(lumi)\n",
    "        self.h_run.Fill(run)\n",
    "        #print(\"Run: {0:>8d} LuminosityBlock: {2:>8d} Event: {1:>8d}\".format(run, evt, lumi)) #swizzling because lazy\n",
    "        \n",
    "        \n",
    "        return True #Exit early, to just print this info for a json file test...\n",
    "        \n",
    "        ################################\n",
    "        ###### High Level Trigger ######\n",
    "        ################################\n",
    "        HLT = Object(event, \"HLT\") #Grab all the HLT triggers 'together'\n",
    "        passTrig=[\"PFMETNoMu90_PFMHTNoMu90_IDTight\"] #Create a list of valid triggers to check, dropping \"HLT_\"\n",
    "        for trig in passTrig:\n",
    "            print(\"HLT_\" + str(trig) + \" Trigger: \" + str(getattr(HLT, trig)) )\n",
    "            \n",
    "            \n",
    "        ###############################\n",
    "        ######### MET Filters #########\n",
    "        ###############################\n",
    "        Filters = Object(event, \"Flag\") #Grab all the MET Filters in a group\n",
    "        passFilter=[\"HBHENoiseFilter\", \"HBHENoiseIsoFilter\", \"EcalDeadCellTriggerPrimitiveFilter\", \n",
    "                    \"globalSuperTightHalo2016Filter\", \"goodVertices\", \"METFilters\"] #All the filters commonly used \n",
    "        for fltr in passFilter:\n",
    "            print(\"Flag_\" + str(fltr) + \" Filter: \" + str(getattr(Filters, fltr)))\n",
    "        \n",
    "        \n",
    "        ###########################################\n",
    "        ###### Event Collections and Objects ######\n",
    "        ###########################################\n",
    "        electrons = Collection(event, \"Electron\")\n",
    "        photons = Collection(event, \"Photon\")\n",
    "        muons = Collection(event, \"Muon\")\n",
    "        taus = Collection(event, \"Tau\")\n",
    "        jets = Collection(event, \"Jet\")\n",
    "        met = Object(event, \"MET\")\n",
    "        PV = Object(event, \"PV\")\n",
    "        SV = Collection(event, \"SV\")\n",
    "        \n",
    "        ###############################\n",
    "        ###### Time To Do Stuff? ######\n",
    "        ###############################\n",
    "        eventSum = ROOT.TLorentzVector()\n",
    "        print(\"PV  X: {0: >5.3f} Y: {1: >5.3f} Z: {2:5.3f} nDoF: {3: >5f} Chi^2: {4: >5.3f}\".format(\n",
    "            PV.x,PV.y, PV.z, PV.ndof, PV.chi2))\n",
    "        if len(SV) > 0:   \n",
    "            print(\"nSV: {0: >3d} SV[0] Decay Length:{1: >5.3f}\".format(len(SV), SV[0].dlen ))\n",
    "        else:\n",
    "            print(\"nSV: {0: >3d}\".format(len(SV)))\n",
    "        print(\"{0:>5s} {1:>10s} {2:>10s} {3:>10s}\".format(\"Muon\", \"Pt\", \"Eta\", \"Phi\"))\n",
    "        for nm, lep in enumerate(muons) :\n",
    "            eventSum += lep.p4()\n",
    "            #format_spec ::=  [[fill]align][sign][#][0][width][,][.precision][type]\n",
    "            print(\"{0:*<5d} {1:>10.4f} {2:>+10.3f} {3:>+10.3f}\".format(nm+1, lep.pt, lep.eta, lep.phi))\n",
    "        print(\"{0:>5s} {1:>10s} {2:>10s} {3:>10s}\".format(\"Electron\", \"Pt\", \"Eta\", \"Phi\"))\n",
    "        for ne, lep in enumerate(electrons) :\n",
    "            eventSum += lep.p4()\n",
    "            print(\"{0:*^5d} {1:>10.4f} {2:> 10.3f} {3:> 10.3f}\".format(ne+1, lep.pt, lep.eta, lep.phi))\n",
    "        #for j in filter(self.jetSel,jets):\n",
    "        print(\"{0:>5s} {1:>10s} {2:>10s} {3:>10s}\".format(\"Jet\", \"Pt\", \"Eta\", \"Phi\"))\n",
    "        for nj, j in enumerate(jets):\n",
    "            eventSum += j.p4()\n",
    "            print(\"{0: >5d} {1:>10.4f} {2:>-10.3f} {3:>-10.3f}\".format(nj+1, j.pt, j.eta, j.phi))\n",
    "        print(\"Event Mass: {:<10.4f}\\n\".format(eventSum.M()))\n",
    "        \n",
    "        ###########################################\n",
    "        ###### Return True to pass the event ######\n",
    "        ###########################################\n",
    "        return True\n"
   ]
  },
  {
   "cell_type": "code",
   "execution_count": 7,
   "metadata": {
    "collapsed": false
   },
   "outputs": [
    {
     "name": "stdout",
     "output_type": "stream",
     "text": [
      "[u'root://cms-xrd-global.cern.ch//store/data/Run2016B/SingleMuon/NANOAOD/05Feb2018_ver2-v1/00000/2055267F-3110-E811-8956-AC1F6B1AEF94.root\\n']\n"
     ]
    }
   ],
   "source": [
    "#preselection=\"nMuon > 0 && nElectron > 0\"\n",
    "preselection=None\n",
    "filePrefix = \"root://cms-xrd-global.cern.ch/\"\n",
    "inputList = open(\"../data/Run2016/Run2016B_SM\", \"r\")\n",
    "files=[]\n",
    "for line in inputList:\n",
    "    files.append(filePrefix + str(line))\n",
    "#for file in files:\n",
    "#    print(file)\n",
    "onefile = [files[0]] #Experiment with just one file for now...\n",
    "#onefile = \" root://cms-xrd-global.cern.ch//store/data/Run2016B/SingleMuon/NANOAOD/05Feb2018_ver2-v1/00000/2055267F-3110-E811-8956-AC1F6B1AEF94.root\"\n",
    "print(onefile)"
   ]
  },
  {
   "cell_type": "code",
   "execution_count": 11,
   "metadata": {
    "collapsed": false
   },
   "outputs": [
    {
     "name": "stderr",
     "output_type": "stream",
     "text": [
      "SysError in <TFile::Flush>: error flushing file histOut.root (No such file or directory)\n"
     ]
    }
   ],
   "source": [
    "p=PostProcessor(\".\",onefile,cut=preselection,branchsel=None,modules=[MFaJaT()],friend=False,postfix=\"_MFaJaT\", \n",
    "                jsonInput=None,noOut=True,justcount=False,provenance=False,\n",
    "                haddFileName=None,fwkJobReport=False,histFileName=\"histOut.root\",\n",
    "                histDirName=\"plots\", outputbranchsel=None)\n",
    "#jsonInput: json file in dictionary format {\"RunNumberInt\": [[lumilow,lumihigh],[lumi2low,lumi2high]], \"RunNumber2Int\":[[low,high]]}\n",
    "#files: list [\"fileone.root\",\"filetwo.root\"] of inputs, even if one file must be a list!\n",
    "#branchsel: if non-None, selection of branches to not even activate/load into memory\n",
    "#outputbranchsel: if non-None, selection of branches to still include in output (see noOut)\n",
    "#noOut: If True, no output of skimmed data is written. If False, will write full data file fitting outputbranch selections and postfix concattenated to name\n",
    "#postfix: string added to inputfile name to indicate this module processed it!\n",
    "#histFileName: name of any output file for histograms created in your class, as above with runs and lumis\n",
    "#histDirName: name INSIDE the \"histFileName.root\" file's directory structure!\n",
    "#friend: Not tested\n",
    "#haddFileName: Not properly tested (tied together with fwkJobReport)\n",
    "#fwkJobReport: only relevant with multiple files being added together? Not properly tested"
   ]
  },
  {
   "cell_type": "code",
   "execution_count": 10,
   "metadata": {
    "collapsed": false
   },
   "outputs": [
    {
     "name": "stdout",
     "output_type": "stream",
     "text": [
      "Pre-select 11647 entries out of 11647 \n",
      "Processed    10000/   11647 entries (elapsed time     1.0s, curr speed    9.804 kHz, avg speed    9.804 kHz), accepted    10001/   10001 events (100.00%)\n",
      "Processed 11647 preselected entries from root://cms-xrd-global.cern.ch//store/data/Run2016B/SingleMuon/NANOAOD/05Feb2018_ver2-v1/00000/2055267F-3110-E811-8956-AC1F6B1AEF94.root\n",
      " (11647 entries). Finally selected 11647 entries\n",
      "8501.45985401 Hz\n"
     ]
    }
   ],
   "source": [
    "p.run()"
   ]
  },
  {
   "cell_type": "code",
   "execution_count": null,
   "metadata": {
    "collapsed": true
   },
   "outputs": [],
   "source": []
  }
 ],
 "metadata": {
  "kernelspec": {
   "display_name": "Python 2",
   "language": "python",
   "name": "python2"
  },
  "language_info": {
   "codemirror_mode": {
    "name": "ipython",
    "version": 2
   },
   "file_extension": ".py",
   "mimetype": "text/x-python",
   "name": "python",
   "nbconvert_exporter": "python",
   "pygments_lexer": "ipython2",
   "version": "2.7.11"
  }
 },
 "nbformat": 4,
 "nbformat_minor": 2
}

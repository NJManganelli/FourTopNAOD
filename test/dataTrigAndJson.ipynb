{
 "cells": [
  {
   "cell_type": "code",
   "execution_count": 1,
   "metadata": {
    "collapsed": true
   },
   "outputs": [],
   "source": [
    "from __future__ import (absolute_import, division,\n",
    "                        print_function, unicode_literals)"
   ]
  },
  {
   "cell_type": "code",
   "execution_count": 2,
   "metadata": {
    "collapsed": true
   },
   "outputs": [],
   "source": [
    "import os, sys, time"
   ]
  },
  {
   "cell_type": "code",
   "execution_count": 3,
   "metadata": {
    "collapsed": false
   },
   "outputs": [
    {
     "name": "stdout",
     "output_type": "stream",
     "text": [
      "Welcome to JupyROOT 6.10/09\n"
     ]
    }
   ],
   "source": [
    "import ROOT"
   ]
  },
  {
   "cell_type": "code",
   "execution_count": 4,
   "metadata": {
    "collapsed": true
   },
   "outputs": [],
   "source": [
    "from importlib import import_module\n",
    "from PhysicsTools.NanoAODTools.postprocessing.framework.postprocessor import PostProcessor"
   ]
  },
  {
   "cell_type": "code",
   "execution_count": 5,
   "metadata": {
    "collapsed": true
   },
   "outputs": [],
   "source": [
    "from PhysicsTools.NanoAODTools.postprocessing.framework.datamodel import Collection, Object\n",
    "from PhysicsTools.NanoAODTools.postprocessing.framework.eventloop import Module"
   ]
  },
  {
   "cell_type": "code",
   "execution_count": 10,
   "metadata": {
    "collapsed": true
   },
   "outputs": [],
   "source": [
    "class MFaJaT(Module):\n",
    "    def __init__(self):\n",
    "        pass\n",
    "    def beginJob(self):\n",
    "        pass\n",
    "    def endJob(self):\n",
    "        pass\n",
    "    #def beginFile(self, inputFile, outputFile):\n",
    "    #def beginFile(self):\n",
    "        #pass\n",
    "    #def endFile(self, inputFile, outputFile):\n",
    "    #def endFile(self):\n",
    "        #pass\n",
    "    def analyze(self, event):\n",
    "        \"\"\"process event, return True (go to next module) or False (fail, go to next event)\"\"\"\n",
    "        \n",
    "        ###########################################\n",
    "        ###### Basic Attributes of the Event ######\n",
    "        ###########################################\n",
    "        run = getattr(event, \"run\")\n",
    "        lumi = getattr(event, \"luminosityBlock\")\n",
    "        evt = getattr(event, \"event\")\n",
    "        print(\"Run: {0:>8d} LuminosityBlock: {2:>8d} Event: {1:>8d}\".format(run, evt, lumi)) #swizzling because lazy\n",
    "        \n",
    "        return True #Exit early, to just print this info for a json file test...\n",
    "        \n",
    "        ################################\n",
    "        ###### High Level Trigger ######\n",
    "        ################################\n",
    "        HLT = Object(event, \"HLT\") #Grab all the HLT triggers 'together'\n",
    "        passTrig=[\"PFMETNoMu90_PFMHTNoMu90_IDTight\"] #Create a list of valid triggers to check, dropping \"HLT_\"\n",
    "        for trig in passTrig:\n",
    "            print(\"HLT_\" + str(trig) + \" Trigger: \" + str(getattr(HLT, trig)) )\n",
    "            \n",
    "            \n",
    "        ###############################\n",
    "        ######### MET Filters #########\n",
    "        ###############################\n",
    "        Filters = Object(event, \"Flag\") #Grab all the MET Filters in a group\n",
    "        passFilter=[\"HBHENoiseFilter\", \"HBHENoiseIsoFilter\", \"EcalDeadCellTriggerPrimitiveFilter\", \n",
    "                    \"globalSuperTightHalo2016Filter\", \"goodVertices\", \"METFilters\"] #All the filters commonly used \n",
    "        for fltr in passFilter:\n",
    "            print(\"Flag_\" + str(fltr) + \" Filter: \" + str(getattr(Filters, fltr)))\n",
    "        \n",
    "        \n",
    "        ###########################################\n",
    "        ###### Event Collections and Objects ######\n",
    "        ###########################################\n",
    "        electrons = Collection(event, \"Electron\")\n",
    "        photons = Collection(event, \"Photon\")\n",
    "        muons = Collection(event, \"Muon\")\n",
    "        taus = Collection(event, \"Tau\")\n",
    "        jets = Collection(event, \"Jet\")\n",
    "        met = Object(event, \"MET\")\n",
    "        PV = Object(event, \"PV\")\n",
    "        SV = Collection(event, \"SV\")\n",
    "        \n",
    "        ###############################\n",
    "        ###### Time To Do Stuff? ######\n",
    "        ###############################\n",
    "        eventSum = ROOT.TLorentzVector()\n",
    "        print(\"PV  X: {0: >5.3f} Y: {1: >5.3f} Z: {2:5.3f} nDoF: {3: >5f} Chi^2: {4: >5.3f}\".format(\n",
    "            PV.x,PV.y, PV.z, PV.ndof, PV.chi2))\n",
    "        if len(SV) > 0:   \n",
    "            print(\"nSV: {0: >3d} SV[0] Decay Length:{1: >5.3f}\".format(len(SV), SV[0].dlen ))\n",
    "        else:\n",
    "            print(\"nSV: {0: >3d}\".format(len(SV)))\n",
    "        print(\"{0:>5s} {1:>10s} {2:>10s} {3:>10s}\".format(\"Muon\", \"Pt\", \"Eta\", \"Phi\"))\n",
    "        for nm, lep in enumerate(muons) :\n",
    "            eventSum += lep.p4()\n",
    "            #format_spec ::=  [[fill]align][sign][#][0][width][,][.precision][type]\n",
    "            print(\"{0:*<5d} {1:>10.4f} {2:>+10.3f} {3:>+10.3f}\".format(nm+1, lep.pt, lep.eta, lep.phi))\n",
    "        print(\"{0:>5s} {1:>10s} {2:>10s} {3:>10s}\".format(\"Electron\", \"Pt\", \"Eta\", \"Phi\"))\n",
    "        for ne, lep in enumerate(electrons) :\n",
    "            eventSum += lep.p4()\n",
    "            print(\"{0:*^5d} {1:>10.4f} {2:> 10.3f} {3:> 10.3f}\".format(ne+1, lep.pt, lep.eta, lep.phi))\n",
    "        #for j in filter(self.jetSel,jets):\n",
    "        print(\"{0:>5s} {1:>10s} {2:>10s} {3:>10s}\".format(\"Jet\", \"Pt\", \"Eta\", \"Phi\"))\n",
    "        for nj, j in enumerate(jets):\n",
    "            eventSum += j.p4()\n",
    "            print(\"{0: >5d} {1:>10.4f} {2:>-10.3f} {3:>-10.3f}\".format(nj+1, j.pt, j.eta, j.phi))\n",
    "        print(\"Event Mass: {:<10.4f}\\n\".format(eventSum.M()))\n",
    "        \n",
    "        ###########################################\n",
    "        ###### Return True to pass the event ######\n",
    "        ###########################################\n",
    "        return True\n"
   ]
  },
  {
   "cell_type": "code",
   "execution_count": 24,
   "metadata": {
    "collapsed": false
   },
   "outputs": [
    {
     "name": "stdout",
     "output_type": "stream",
     "text": [
      "[u'root://cms-xrd-global.cern.ch//store/data/Run2016B/SingleMuon/NANOAOD/05Feb2018_ver2-v1/00000/2055267F-3110-E811-8956-AC1F6B1AEF94.root\\n']\n"
     ]
    }
   ],
   "source": [
    "#preselection=\"nMuon > 0 && nElectron > 0\"\n",
    "preselection=None\n",
    "filePrefix = \"root://cms-xrd-global.cern.ch/\"\n",
    "inputList = open(\"../data/Run2016/Run2016B_SM\", \"r\")\n",
    "files=[]\n",
    "for line in inputList:\n",
    "    files.append(filePrefix + str(line))\n",
    "#for file in files:\n",
    "#    print(file)\n",
    "onefile = [files[0]] #Experiment with just one file for now...\n",
    "#onefile = \" root://cms-xrd-global.cern.ch//store/data/Run2016B/SingleMuon/NANOAOD/05Feb2018_ver2-v1/00000/2055267F-3110-E811-8956-AC1F6B1AEF94.root\"\n",
    "print(onefile)"
   ]
  },
  {
   "cell_type": "code",
   "execution_count": 25,
   "metadata": {
    "collapsed": true
   },
   "outputs": [],
   "source": [
    "p=PostProcessor(\".\",onefile,cut=preselection,branchsel=None,modules=[MFaJaT()],friend=False,postfix=\"_MFaJaT\", \n",
    "                jsonInput=None,noOut=True,justcount=True,provenance=False,\n",
    "                haddFileName=None,fwkJobReport=False,histFileName=None,\n",
    "                histDirName=None, outputbranchsel=None)"
   ]
  },
  {
   "cell_type": "code",
   "execution_count": null,
   "metadata": {
    "collapsed": false
   },
   "outputs": [],
   "source": [
    "p.run()"
   ]
  },
  {
   "cell_type": "code",
   "execution_count": null,
   "metadata": {
    "collapsed": true
   },
   "outputs": [],
   "source": []
  }
 ],
 "metadata": {
  "kernelspec": {
   "display_name": "Python 2",
   "language": "python",
   "name": "python2"
  },
  "language_info": {
   "codemirror_mode": {
    "name": "ipython",
    "version": 2
   },
   "file_extension": ".py",
   "mimetype": "text/x-python",
   "name": "python",
   "nbconvert_exporter": "python",
   "pygments_lexer": "ipython2",
   "version": "2.7.11"
  }
 },
 "nbformat": 4,
 "nbformat_minor": 2
}

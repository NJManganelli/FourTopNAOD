{
 "cells": [
  {
   "cell_type": "code",
   "execution_count": null,
   "metadata": {
    "collapsed": false
   },
   "outputs": [],
   "source": [
    "#from __future__ import unicode_literals\n",
    "import json\n",
    "from pprint import pprint\n",
    "class FileLoader:\n",
    "    \"\"\"FileLoader takes as input an evenSet, era, and channel; it returns a list of files, a json, and a configuration dictionary.\n",
    "\n",
    "eventSet: \"TTTT\", \"TT\", \"DY\", etc.\n",
    "era: 2016, 2017, 2018. This corresponds to both MC tunes and Data run sets, as well as the default configuration parameters.\n",
    "channel: SL or DL to return the appropriate configuration parameters that is loaded. Overriden by configName option.\n",
    "configName: (Optional) When specified, returns the requested configuration instead of the standard one for that era and channel.\n",
    "serverPrefix: the default prefix for files is root://cms-xrd-global.cern.ch/. Pass any other as a string in the same format. \"\"\"\n",
    "\n",
    "    def __init__(self, eventSet=None, era=None, channel=None, configName=None, jsonName=None, filePrefix=\"root://cms-xrd-global.cern.ch/\"):\n",
    "        #internal variables grabbed, except jsonName\n",
    "        self._eventSet = eventSet\n",
    "        self._era = era\n",
    "        self._channel = channel\n",
    "        self._configName = configName\n",
    "        self._filePrefix = filePrefix\n",
    "        \n",
    "        #Make these all named options, but still require the first three to always be passed\n",
    "        if (self._eventSet == None or self._era == None or self._channel == None):\n",
    "            raise RuntimeError(\"FileLoader requires an eventSet, an era(2016, 2017, 2018), and an analysis channel(SL, DL)\")\n",
    "\n",
    "        #########################################\n",
    "        ### USER DEFINED DATASETS and PATHS   ###\n",
    "        ### Use convenient name and era       ###\n",
    "        ### and finally indicate path inside  ###\n",
    "        ### self._filePath defined first      ###\n",
    "        ### Data must being with \"Run\"        ###\n",
    "        ### Monte Carlo must NOT              ###\n",
    "        #########################################\n",
    "        self._jsonPath = \"../json/\"\n",
    "        self._configPath = \"../config/\"\n",
    "        self._filePath = \"../filelists/\"\n",
    "        self._eventDict = { \n",
    "            \"TTTT-PSweights\" : { \"2016\" : \"NOT IMPLEMENTED\",\n",
    "                                 \"2017\" : \"TTTT_TuneCP5_PSweights_13TeV-amcatnlo-pythia8.txt\",\n",
    "                                 \"2018\" : \"NOT IMPLEMENTED\" },\n",
    "            \"TTTT\" :  { \"2016\" : \"NOT IMPLEMENTED\",\n",
    "                        \"2017\" : \"TTTT_TuneCP5_13TeV-amcatnlo-pythia8.txt\",\n",
    "                        \"2018\" : \"NOT IMPLEMENTED\" },\n",
    "            \"TTJetsSL\" :  { \"2016\" : \"NOT IMPLEMENTED\",\n",
    "                            \"2017\" : \"TTJets_SingleLeptFromT_TuneCP5_13TeV-madgraphMLM-pythia8.txt\",\n",
    "                            \"2018\" : \"NOT IMPLEMENTED\" },\n",
    "            \"WJetsToLNu\" :  { \"2016\" : \"NOT IMPLEMENTED\",\n",
    "                              \"2017\" : \"WJetsToLNu_TuneCP5_13TeV-madgraphMLM-pythia8.txt\",\n",
    "                              \"2018\" : \"NOT IMPLEMENTED\" },\n",
    "            \"RunB\" :  { \"2016\" : \"NOT IMPLEMENTED\",\n",
    "                        \"2017\" : \"NOT IMPLEMENTED\",\n",
    "                        \"2018\" : \"NOT IMPLEMENTED\" },\n",
    "            \"RunC\" :  { \"2016\" : \"NOT IMPLEMENTED\",\n",
    "                        \"2017\" : \"NOT IMPLEMENTED\",\n",
    "                        \"2018\" : \"NOT IMPLEMENTED\" },\n",
    "            \"RunD\" :  { \"2016\" : \"NOT IMPLEMENTED\",\n",
    "                        \"2017\" : \"NOT IMPLEMENTED\",\n",
    "                        \"2018\" : \"NOT IMPLEMENTED\" },\n",
    "            \"RunE\" :  { \"2016\" : \"NOT IMPLEMENTED\",\n",
    "                        \"2017\" : \"NOT IMPLEMENTED\",\n",
    "                        \"2018\" : \"NOT IMPLEMENTED\" },\n",
    "            \"RunF\" :  { \"2016\" : \"NOT IMPLEMENTED\",\n",
    "                        \"2017\" : \"NOT IMPLEMENTED\",\n",
    "                        \"2018\" : \"NOT IMPLEMENTED\" },\n",
    "            \"RunG\" :  { \"2016\" : \"NOT IMPLEMENTED\",\n",
    "                        \"2017\" : \"NOT IMPLEMENTED\",\n",
    "                        \"2018\" : \"NOT IMPLEMENTED\" },\n",
    "            \"RunH\" :  { \"2016\" : \"NOT IMPLEMENTED\",\n",
    "                        \"2017\" : \"NOT IMPLEMENTED\",\n",
    "                        \"2018\" : \"NOT IMPLEMENTED\" }\n",
    "            }\n",
    "\n",
    "        ######################################################\n",
    "        ### Name all necessary inputs for convenience here ###\n",
    "        ######################################################\n",
    "        #Name configuration, using method that makes it convenient to add many without modifying this function\n",
    "        self._configName = self._configPath + channel + \"_\" + era\n",
    "        if configName is None:\n",
    "            self._configName += \"_default.json\"\n",
    "        else:\n",
    "            self._configName += configName\n",
    "        if self._configName[-5:] != \".json\":\n",
    "            self._configName += \".json\"\n",
    "        #Name filelist input\n",
    "        self._filelistName = self._filePath + self._eventDict[eventSet][era]\n",
    "        #Grab jsonName from input\n",
    "        self._jsonName = jsonName\n",
    "        \n",
    "        #################################\n",
    "        ### Set up ToReturn variables ###\n",
    "        #################################\n",
    "        #name event JSON if Data and no jsonName was passed in\n",
    "        if eventSet[:3] is \"Run\":\n",
    "            if self._jsonName is None:\n",
    "                self._jsonToReturn = self._jsonPath + \"Cert_294927-306462_13TeV_EOY2017ReReco_Collisions17_JSON.txt\"\n",
    "            else:\n",
    "                self.jsonToReturn = self._jsonPath + self._jsonName\n",
    "        else:\n",
    "            self._jsonToReturn = None\n",
    "        #Empty filelistToReturn\n",
    "        self._filelistToReturn = []\n",
    "        #Empty config file\n",
    "        self._configToReturn = {}\n",
    "        \n",
    "        #############################################\n",
    "        ### hasLoaded boolean for invoking load() ###\n",
    "        #############################################\n",
    "        self._hasLoaded = False\n",
    "\n",
    "    def __load__(self):\n",
    "        #Open config file in read-only mode, then load the json\n",
    "        #try: #is this necessary, or implemented in \"with\" syntax automatically?\n",
    "        with open(self._configName, \"r\") as inConfig:\n",
    "            self._configToReturn = json.load(inConfig)\n",
    "        #finally:\n",
    "        #    inConfig.close()\n",
    "\n",
    "        #Test that the JSON file can be opened, then do just close it\n",
    "        if self._jsonToReturn is not None:\n",
    "            try:\n",
    "                f = open(self._jsonToReturn, \"r\")\n",
    "            finally:\n",
    "                f.close()\n",
    "            \n",
    "        with open(self._filelistName, \"r\") as inFiles:\n",
    "            for line in inFiles:\n",
    "                self._filelistToReturn.append(self._filePrefix + str(line).replace('\\n',''))\n",
    "            \n",
    "        self._hasLoaded = True\n",
    "        \n",
    "    def printEventSets(self):\n",
    "        pprint(self._eventDict)\n",
    "\n",
    "    def printConfig(self):\n",
    "        if self._hasLoaded:\n",
    "            pprint(self._configToReturn)\n",
    "        else:\n",
    "            print(\"A configuration has yet to be loaded. Invoke getConfig() first.\")\n",
    "\n",
    "    def getFiles(self, indexOfFile=-1):\n",
    "        if not self._hasLoaded:\n",
    "            self.__load__()\n",
    "        if indexOfFile < 0:\n",
    "            return self._filelistToReturn\n",
    "        elif indexOfFile > len(self._filelistToReturn):\n",
    "            raise RuntimeError(\"You've requested a file that is beyond the index range available, which is 0 to {0:s}\"\n",
    "                               .format(self._filelistToReturn))\n",
    "        else:\n",
    "            return [self._filelistToReturn[indexOfFile]]\n",
    "\n",
    "    def getConfig(self):\n",
    "        if not self._hasLoaded:\n",
    "            self.__load__()\n",
    "        return self._configToReturn\n",
    "\n",
    "    def getJSONpath(self):\n",
    "        if not self._hasLoaded:\n",
    "            self.__load__()\n",
    "        return self._jsonToReturn\n",
    "\n",
    "#Implement as class, create functions that return possible evensets, store internally so that these values to be returned (list of files, json) are always available through submethods..."
   ]
  },
  {
   "cell_type": "code",
   "execution_count": null,
   "metadata": {
    "collapsed": false
   },
   "outputs": [],
   "source": [
    "fl = FileLoader(eventSet=\"TTTT\", era=\"2017\", channel=\"DL\")"
   ]
  },
  {
   "cell_type": "code",
   "execution_count": null,
   "metadata": {
    "collapsed": false
   },
   "outputs": [],
   "source": [
    "fl.printEventSets()"
   ]
  },
  {
   "cell_type": "code",
   "execution_count": null,
   "metadata": {
    "collapsed": false
   },
   "outputs": [],
   "source": [
    "fl.printConfig()"
   ]
  },
  {
   "cell_type": "code",
   "execution_count": null,
   "metadata": {
    "collapsed": false
   },
   "outputs": [],
   "source": [
    "y = fl.getConfig()"
   ]
  },
  {
   "cell_type": "code",
   "execution_count": null,
   "metadata": {
    "collapsed": false
   },
   "outputs": [],
   "source": [
    "z = fl.getFiles()"
   ]
  },
  {
   "cell_type": "code",
   "execution_count": null,
   "metadata": {
    "collapsed": false
   },
   "outputs": [],
   "source": [
    "print(z[0])"
   ]
  },
  {
   "cell_type": "code",
   "execution_count": null,
   "metadata": {
    "collapsed": true
   },
   "outputs": [],
   "source": [
    "fl2 = FileLoader(eventSet=\"RunB\", era=\"2017\", channel=\"DL\")"
   ]
  },
  {
   "cell_type": "code",
   "execution_count": null,
   "metadata": {
    "collapsed": false
   },
   "outputs": [],
   "source": [
    "fl2.getFiles()"
   ]
  },
  {
   "cell_type": "code",
   "execution_count": null,
   "metadata": {
    "collapsed": false
   },
   "outputs": [],
   "source": [
    "from FourTopNAOD.Prototype.modules.fileloader import FileLoader as IFL"
   ]
  },
  {
   "cell_type": "code",
   "execution_count": null,
   "metadata": {
    "collapsed": true
   },
   "outputs": [],
   "source": [
    "w = IFL(eventSet=\"TTTT\", era=\"2017\", channel=\"SL\")"
   ]
  },
  {
   "cell_type": "code",
   "execution_count": null,
   "metadata": {
    "collapsed": false
   },
   "outputs": [],
   "source": [
    "w.getConfig()"
   ]
  },
  {
   "cell_type": "code",
   "execution_count": null,
   "metadata": {
    "collapsed": false
   },
   "outputs": [],
   "source": [
    "from __future__ import (division, print_function)\n",
    "import os, sys\n",
    "import ROOT\n",
    "ROOT.PyConfig.IgnoreCommandLineOptions = True\n",
    "\n",
    "from importlib import import_module\n",
    "from PhysicsTools.NanoAODTools.postprocessing.framework.postprocessor import PostProcessor\n",
    "from FourTopNAOD.Prototype.modules.eventselector import EventSelector\n",
    "from FourTopNAOD.Prototype.tools.fileloader import FileLoader as IFL"
   ]
  },
  {
   "cell_type": "code",
   "execution_count": null,
   "metadata": {
    "collapsed": true
   },
   "outputs": [],
   "source": [
    "preselection=\"nJet > 4 && (nMuon + nElectron) > 1\""
   ]
  },
  {
   "cell_type": "code",
   "execution_count": null,
   "metadata": {
    "collapsed": false
   },
   "outputs": [],
   "source": [
    "Y = IFL(eventSet=\"TTTT\", era=\"2017\", channel=\"DL\")"
   ]
  },
  {
   "cell_type": "code",
   "execution_count": null,
   "metadata": {
    "collapsed": false
   },
   "outputs": [],
   "source": [
    "print(Y.getFiles())\n",
    "print(Y.getJSONPath())\n",
    "print(Y.getConfig())\n",
    "print(Y.getSet())"
   ]
  },
  {
   "cell_type": "code",
   "execution_count": null,
   "metadata": {
    "collapsed": false
   },
   "outputs": [],
   "source": [
    "print(Y.getFiles(indexOfFile=0))"
   ]
  },
  {
   "cell_type": "code",
   "execution_count": null,
   "metadata": {
    "collapsed": true
   },
   "outputs": [],
   "source": [
    "p=PostProcessor(\".\",\n",
    "                Y.getFiles(indexOfFile=0),\n",
    "                cut=preselection,\n",
    "                branchsel=None,\n",
    "                outputbranchsel=None,\n",
    "                postfix=Y.getSet() + \"_PostEvtSel\",\n",
    "                jsonInput=Y.getJSONPath(),\n",
    "#                jsonInput={1 : [[10000, 19000]]},\n",
    "                modules=[EventSelector(makeHistos=True, cutOnTrigs=False, cutOnMET=True, \n",
    "                                       cutOnHT=True, verbose=False, selectionConfig=Y.getConfig())],\n",
    "#                modules=[showyEventSelector()],\n",
    "                justcount=False,\n",
    "                provenance=True,\n",
    "                fwkJobReport=True,\n",
    "                haddFileName=\"hadded.root\",\n",
    "                noOut=False,\n",
    "                histFileName=\"histOut.root\",\n",
    "                histDirName=\"plots\",\n",
    "                compression=\"LZMA:9\"\n",
    "                )"
   ]
  },
  {
   "cell_type": "code",
   "execution_count": null,
   "metadata": {
    "collapsed": false
   },
   "outputs": [],
   "source": [
    "p.modules[0].maxEventsToProcess = 100\n",
    "print(p.modules[0].maxEventsToProcess)"
   ]
  },
  {
   "cell_type": "code",
   "execution_count": null,
   "metadata": {
    "collapsed": true
   },
   "outputs": [],
   "source": [
    "p.run()"
   ]
  }
 ],
 "metadata": {
  "kernelspec": {
   "display_name": "Python 2",
   "language": "python",
   "name": "python2"
  },
  "language_info": {
   "codemirror_mode": {
    "name": "ipython",
    "version": 2
   },
   "file_extension": ".py",
   "mimetype": "text/x-python",
   "name": "python",
   "nbconvert_exporter": "python",
   "pygments_lexer": "ipython2",
   "version": "2.7.11"
  }
 },
 "nbformat": 4,
 "nbformat_minor": 2
}

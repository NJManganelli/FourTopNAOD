{
 "cells": [
  {
   "cell_type": "code",
   "execution_count": 1,
   "id": "95020edb-f791-4724-9ea5-c8666ce232ee",
   "metadata": {},
   "outputs": [
    {
     "name": "stderr",
     "output_type": "stream",
     "text": [
      "/afs/cern.ch/user/n/nmangane/.local/lib/python3.9/site-packages/xgboost/compat.py:36: FutureWarning: pandas.Int64Index is deprecated and will be removed from pandas in a future version. Use pandas.Index with the appropriate dtype instead.\n",
      "  from pandas import MultiIndex, Int64Index\n"
     ]
    }
   ],
   "source": [
    "from typing import Any\n",
    "import awkward as ak\n",
    "import numpy as np\n",
    "import pandas as pd\n",
    "import matplotlib.pyplot as plt\n",
    "import os\n",
    "from sklearn.metrics import roc_auc_score\n",
    "from sklearn.model_selection import train_test_split\n",
    "from sklearn.base import clone\n",
    "from tqdm import tqdm\n",
    "import xgboost\n",
    "import catboost\n",
    "import uproot\n",
    "import coffea\n",
    "import hist\n",
    "import vector\n",
    "import copy\n",
    "vector.register_awkward()"
   ]
  },
  {
   "cell_type": "code",
   "execution_count": 2,
   "id": "148e2c13-f19d-4c75-ae99-96923ef2243d",
   "metadata": {},
   "outputs": [],
   "source": [
    "#help(train_test_split)"
   ]
  },
  {
   "cell_type": "code",
   "execution_count": 3,
   "id": "28ce27cc-87d8-4ff8-8563-6c5ef0c04f66",
   "metadata": {},
   "outputs": [],
   "source": [
    "from coffea import processor\n",
    "from coffea.nanoevents import NanoEventsFactory, NanoAODSchema, BaseSchema"
   ]
  },
  {
   "cell_type": "code",
   "execution_count": 4,
   "id": "8c1421e7-f060-4279-9deb-92e8b543d3c4",
   "metadata": {},
   "outputs": [
    {
     "name": "stdout",
     "output_type": "stream",
     "text": [
      "tttt 208181\n",
      "ttjj 744126\n",
      "ttjj 832048\n",
      "ttjj 911001\n",
      "ttjj 914168\n",
      "ttjj 914633\n",
      "ttjj 917256\n",
      "ttbb 24965\n",
      "ttbb 27982\n",
      "ttbb 29063\n",
      "ttbb 29292\n",
      "ttbb 29317\n",
      "ttbb 29384\n",
      "tttt 316793\n",
      "ttjj 1319065\n",
      "ttjj 1366562\n",
      "ttjj 1409692\n",
      "ttjj 1410785\n",
      "ttjj 1410941\n",
      "ttjj 1411885\n",
      "ttbb 42808\n",
      "ttbb 44362\n",
      "ttbb 45004\n",
      "ttbb 45121\n",
      "ttbb 45136\n",
      "ttbb 45176\n",
      "tttt 408411\n",
      "ttjj 1738999\n",
      "ttjj 1777566\n",
      "ttjj 1811626\n",
      "ttjj 1813153\n",
      "ttjj 1813349\n",
      "ttjj 1814481\n",
      "ttbb 55872\n",
      "ttbb 57120\n",
      "ttbb 57579\n",
      "ttbb 57670\n",
      "ttbb 57687\n",
      "ttbb 57714\n"
     ]
    }
   ],
   "source": [
    "era = \"2018\"\n",
    "tttt_evts = []\n",
    "ttjj_evts = []\n",
    "ttbb_evts = []\n",
    "tttt = None\n",
    "ttjj = None\n",
    "ttbb = None\n",
    "for channel in [\"ElMu\", \"MuMu\", \"ElEl\"]:\n",
    "    handle = NanoEventsFactory.from_root(\n",
    "        f\"/eos/home-n/nmangane/analysis/February10_Baseline_{era}/Nano/{channel}/{era}___tttt.root\",\n",
    "        schemaclass=BaseSchema, \n",
    "        entry_stop=None\n",
    "    ).events()\n",
    "    if tttt is None:\n",
    "        tttt = handle\n",
    "    else:\n",
    "        tttt = ak.concatenate([tttt, handle])\n",
    "    print(\"tttt\", len(tttt))\n",
    "        \n",
    "    for proc in [\"ttother_DL-GF_fr\", \"ttother_DL_fr\", \"ttother_DL_nr\", \n",
    "                 \"ttother_SL-GF_fr\", \"ttother_SL_fr\", \"ttother_SL_nr\",]:\n",
    "        handle = NanoEventsFactory.from_root(\n",
    "            f\"/eos/home-n/nmangane/analysis/February10_Baseline_{era}/Nano/{channel}/{era}___{proc}.root\",\n",
    "            schemaclass=BaseSchema, \n",
    "            entry_stop=None\n",
    "        ).events()\n",
    "        if ttjj is None:\n",
    "            ttjj = handle\n",
    "        else:\n",
    "            ttjj = ak.concatenate([ttjj, handle])\n",
    "        print(\"ttjj\", len(ttjj))\n",
    "        \n",
    "    for proc in [\"ttbb_DL-GF_fr\", \"ttbb_DL_fr\", \"ttbb_DL_nr\", \n",
    "                 \"ttbb_SL-GF_fr\", \"ttbb_SL_fr\", \"ttbb_SL_nr\",]:\n",
    "        handle = NanoEventsFactory.from_root(\n",
    "            f\"/eos/home-n/nmangane/analysis/February10_Baseline_{era}/Nano/{channel}/{era}___{proc}.root\",\n",
    "            schemaclass=BaseSchema, \n",
    "            entry_stop=None\n",
    "        ).events()\n",
    "        if ttbb is None:\n",
    "            ttbb = handle\n",
    "        else:\n",
    "            ttbb = ak.concatenate([ttbb, handle])\n",
    "        print(\"ttbb\", len(ttbb))"
   ]
  },
  {
   "cell_type": "code",
   "execution_count": 5,
   "id": "8bced953-bc61-4593-8e01-b904bc5706f9",
   "metadata": {},
   "outputs": [],
   "source": [
    "events = tttt"
   ]
  },
  {
   "cell_type": "code",
   "execution_count": 6,
   "id": "9865701f-dd12-4b20-b89c-12ce2984f3eb",
   "metadata": {},
   "outputs": [
    {
     "name": "stdout",
     "output_type": "stream",
     "text": [
      "408411 1814481 57714\n"
     ]
    }
   ],
   "source": [
    "print(len(tttt), len(ttjj), len(ttbb))"
   ]
  },
  {
   "cell_type": "code",
   "execution_count": 7,
   "id": "c3b69ade-17cc-4e3f-907d-f89d357b7264",
   "metadata": {},
   "outputs": [],
   "source": [
    "bTagWorkingPointDict = dict()\n",
    "bTagWorkingPointDict[False] = {\n",
    "        \"2016\": {\n",
    "            \"DeepCSV\": {\"L\": 0.2217, \"M\": 0.6321, \"T\": 0.8953, \"Var\": \"btagDeepB\"},\n",
    "            \"DeepJet\": {\"L\": 0.0614, \"M\": 0.3093, \"T\": 0.7221, \"Var\": \"btagDeepFlavB\"},\n",
    "        },\n",
    "        \"2017\": {\n",
    "            \"CSVv2\": {\"L\": 0.5803, \"M\": 0.8838, \"T\": 0.9693, \"Var\": \"btagCSVV2\"},\n",
    "            \"DeepCSV\": {\"L\": 0.1522, \"M\": 0.4941, \"T\": 0.8001, \"Var\": \"btagDeepB\"},\n",
    "            \"DeepJet\": {\"L\": 0.0521, \"M\": 0.3033, \"T\": 0.7489, \"Var\": \"btagDeepFlavB\"},\n",
    "        },\n",
    "        \"2018\": {\n",
    "            \"DeepCSV\": {\"L\": 0.1241, \"M\": 0.4184, \"T\": 0.7527, \"Var\": \"btagDeepB\"},\n",
    "            \"DeepJet\": {\"L\": 0.0494, \"M\": 0.2770, \"T\": 0.7264, \"Var\": \"btagDeepFlavB\"},\n",
    "        },  # Non-UL WPs\n",
    "    }\n",
    "bTagWorkingPointDict[True] = {\n",
    "        \"2016preVFP\": {\n",
    "            \"DeepCSV\": {\"L\": 0.2027, \"M\": 0.6001, \"T\": 0.8819, \"Var\": \"btagDeepB\"},\n",
    "            \"DeepJet\": {\"L\": 0.0508, \"M\": 0.2598, \"T\": 0.6502, \"Var\": \"btagDeepFlavB\"},\n",
    "        },\n",
    "        \"2016postVFP\": {\n",
    "            \"DeepCSV\": {\"L\": 0.1918, \"M\": 0.5847, \"T\": 0.8767, \"Var\": \"btagDeepB\"},\n",
    "            \"DeepJet\": {\"L\": 0.0480, \"M\": 0.2489, \"T\": 0.6377, \"Var\": \"btagDeepFlavB\"},\n",
    "        },\n",
    "        \"2017\": {\n",
    "            \"DeepCSV\": {\"L\": 0.1355, \"M\": 0.4506, \"T\": 0.7738, \"Var\": \"btagDeepB\"},\n",
    "            \"DeepJet\": {\"L\": 0.0532, \"M\": 0.3040, \"T\": 0.7476, \"Var\": \"btagDeepFlavB\"},\n",
    "        },\n",
    "        \"2018\": {\n",
    "            \"DeepCSV\": {\"L\": 0.1208, \"M\": 0.4168, \"T\": 0.7665, \"Var\": \"btagDeepB\"},\n",
    "            \"DeepJet\": {\"L\": 0.0490, \"M\": 0.2783, \"T\": 0.7100, \"Var\": \"btagDeepFlavB\"},\n",
    "        },  # UL WPs\n",
    "    }\n",
    "scale_systematic = \"nom\"\n",
    "#the_var = bTagWorkingPointDict[False][era][\"DeepJet\"][\"Var\"]\n",
    "the_var = f\"FTAJet__{scale_systematic}_DeepJetB\"\n",
    "the_wp = bTagWorkingPointDict[False][era][\"DeepJet\"][\"M\"]"
   ]
  },
  {
   "cell_type": "code",
   "execution_count": 8,
   "id": "df47cefe-3ced-4cee-888f-3dc89519dc58",
   "metadata": {},
   "outputs": [
    {
     "data": {
      "text/plain": [
       "(408411, 1814481, 57714)"
      ]
     },
     "execution_count": 8,
     "metadata": {},
     "output_type": "execute_result"
    }
   ],
   "source": [
    "len(tttt), len(ttjj), len(ttbb)"
   ]
  },
  {
   "cell_type": "code",
   "execution_count": 9,
   "id": "dcda5d80-5190-4c70-aafe-59593afc7249",
   "metadata": {},
   "outputs": [],
   "source": [
    "model_vLF = None\n",
    "model_vHF = None\n",
    "model_nested_layer1 = None\n",
    "model_nested_layer2 = None"
   ]
  },
  {
   "cell_type": "code",
   "execution_count": 10,
   "id": "b7d8ef85-711c-4efc-900d-da147ec10d70",
   "metadata": {},
   "outputs": [],
   "source": [
    "def get_features(events, \n",
    "                 is_mc=True,\n",
    "                 remove_negative_weights=False, \n",
    "                 normalize_weights=False,\n",
    "                 scale_systematic=\"nom\", \n",
    "                 wgt_systematic=\"nom\", \n",
    "                 e_filter=lambda e: e.dsid1k < 500,\n",
    "                 named_models_features=None\n",
    "                ):\n",
    "    ret = dict()\n",
    "    mus = ak.zip({\"pt\": events.FTAMuon_pt, \n",
    "                  \"eta\": events.FTAMuon_eta, \n",
    "                  \"phi\": events.FTAMuon_phi, \n",
    "                  \"mass\": events.FTAMuon_mass,\n",
    "                  \"loose\": events.FTAMuon_looseId,\n",
    "                  #\"isolation\": (events.FTAMuon_pfIsoId >= 4)\n",
    "                 },\n",
    "                 with_name=\"Momentum4D\"\n",
    "                )\n",
    "    els = ak.zip({\"pt\": events.FTAElectron_pt, \n",
    "                  \"eta\": events.FTAElectron_eta, \n",
    "                  \"phi\": events.FTAElectron_phi, \n",
    "                  \"mass\": events.FTAElectron_mass,\n",
    "                  \"loose\": (events.FTAElectron_cutBased >= 2),\n",
    "                  #\"isolation\": (don't have it... le sigh)\n",
    "                 },\n",
    "                 with_name=\"Momentum4D\"\n",
    "                )\n",
    "    jets = ak.zip({\"pt\": getattr(events, f\"FTAJet__{scale_systematic}_pt\"), \n",
    "                  \"eta\": getattr(events, f\"FTAJet__{scale_systematic}_eta\"), \n",
    "                  \"phi\": getattr(events, f\"FTAJet__{scale_systematic}_phi\"), \n",
    "                  \"mass\": getattr(events, f\"FTAJet__{scale_systematic}_mass\"),\n",
    "                  \"btag\": getattr(events, f\"FTAJet__{scale_systematic}_DeepJetB\"),\n",
    "                 },\n",
    "                 with_name=\"Momentum4D\"\n",
    "                )\n",
    "\n",
    "    selection = (\n",
    "        (ak.num(getattr(events, f\"FTAJet__{scale_systematic}_pt\"), axis=1) >= 4) \n",
    "        & (ak.sum(getattr(events, f\"FTAJet__{scale_systematic}_pt\"), axis=1) >= 500)\n",
    "        & (np.abs(getattr(events, f\"FTAMuon_InvariantMass\") - 91) > 15)\n",
    "        & (\n",
    "            (getattr(events, f\"FTAMuon_InvariantMass\") < 0)\n",
    "            | (getattr(events, f\"FTAMuon_InvariantMass\") > 20)\n",
    "        )\n",
    "        & (\n",
    "            (ak.num(els, axis=1) + ak.num(mus, axis=1)) == 2\n",
    "        )\n",
    "        & (getattr(events, f\"nMediumDeepJetB__{scale_systematic}\") > 1)\n",
    "    )\n",
    "    if is_mc:\n",
    "        if remove_negative_weights:\n",
    "            selection = selection & (getattr(events, f\"wgt___{wgt_systematic}\") > 0)\n",
    "    if e_filter:\n",
    "        selection = selection & (e_filter(events))\n",
    "        \n",
    "    events = events[selection]\n",
    "    mus = mus[selection]\n",
    "    els = els[selection]\n",
    "    jets = jets[selection]\n",
    "    bsrt = ak.argsort(jets.btag, axis=1, ascending=False)\n",
    "    at_least_three_jets = ak.num(jets, axis=1) > 2\n",
    "    fallback = -0.1 * ak.ones_like(at_least_three_jets)\n",
    "    \n",
    "    ret[\"MET_pt\"] = ak.to_numpy(getattr(events, f\"FTAMET__{scale_systematic}_pt\"))\n",
    "    ret[\"MET_phi\"] = ak.to_numpy(getattr(events, f\"FTAMET__{scale_systematic}_phi\"))\n",
    "    ret[\"Lepton1_pt\"] = ak.to_numpy(events.FTALepton1_pt)\n",
    "    ret[\"Lepton2_pt\"] = ak.to_numpy(events.FTALepton2_pt)\n",
    "    ret[\"Lepton1_eta\"] = ak.to_numpy(events.FTALepton1_eta)\n",
    "    ret[\"Lepton2_eta\"] = ak.to_numpy(events.FTALepton2_eta)\n",
    "    ret[\"nMediumDeepJetB\"] = ak.to_numpy(getattr(events, f\"nMediumDeepJetB__{scale_systematic}\"))\n",
    "    ret[\"nJet\"] = np.asarray(ak.num(getattr(events, f\"FTAJet__{scale_systematic}_pt\"), axis=1))\n",
    "    # Add in the 4+ jet pts, the lepton isolations, the 4+ jet btag discriminants\n",
    "    ret[\"ST\"] = ak.to_numpy(getattr(events, f\"ST__{scale_systematic}\"))\n",
    "    ret[\"HT\"] = ak.to_numpy(getattr(events, f\"HT__{scale_systematic}\"))\n",
    "    # ret[\"HT2M\"] = getattr(events, f\"HT2M__{scale_systematic}\") # Errors\n",
    "    ret[\"HT2M\"] = ak.to_numpy(ak.where(\n",
    "        at_least_three_jets, ak.sum(jets[bsrt][:, 2:].pt, axis=1), fallback\n",
    "    ))\n",
    "    # ret[\"H2M\"] = getattr(events, f\"H2M__{scale_systematic}\") # Errors\n",
    "    ret[\"H2M\"] = ak.to_numpy(ak.where(\n",
    "        at_least_three_jets, ak.sum(jets[bsrt][:, 2:].p, axis=1), fallback\n",
    "    ))\n",
    "    # ret[\"HTRat\"] = getattr(events, f\"HTRat__{scale_systematic}\") # Errors\n",
    "    ret[\"HTRat\"] = (ak.to_numpy(\n",
    "        ak.where(\n",
    "            at_least_three_jets, ak.sum(jets[bsrt][:, 0:2].pt, axis=1), fallback\n",
    "        )\n",
    "        / ret[\"HT\"]\n",
    "    ))\n",
    "    ret[\"H\"] = ak.to_numpy(getattr(events, f\"H__{scale_systematic}\"))\n",
    "    # ret[\"HTH\"] = getattr(events, f\"HTH__{scale_systematic}\")\n",
    "    ret[\"HTH\"] = ret[\"HT\"] / ret[\"H\"]\n",
    "    ret[\"HTb\"] = ak.to_numpy(getattr(events, f\"HTb__{scale_systematic}\"))\n",
    "    ret[\"dRll\"] = ak.to_numpy(events.FTALepton_dRll)\n",
    "    ret[\"dRbb\"] = ak.to_numpy(getattr(events, f\"dRbb__{scale_systematic}\"))\n",
    "    ret[\"bdisc_1\"] = ak.to_numpy(jets[bsrt][:, 0].btag)\n",
    "    ret[\"bdisc_2\"] = ak.to_numpy(jets[bsrt][:, 1].btag)\n",
    "    ret[\"bdisc_3\"] = ak.to_numpy(jets[bsrt][:, 2].btag)\n",
    "    ret[\"bdisc_4\"] = ak.to_numpy(jets[bsrt][:, 3].btag)\n",
    "    ret[\"jetpt_1\"] = ak.to_numpy(jets[:, 0].pt)\n",
    "    ret[\"jetpt_2\"] = ak.to_numpy(jets[:, 1].pt)\n",
    "    ret[\"jetpt_3\"] = ak.to_numpy(jets[:, 2].pt)\n",
    "    ret[\"jetpt_4\"] = ak.to_numpy(jets[:, 3].pt)\n",
    "    if is_mc:\n",
    "        ret[\"wgt\"] = ak.to_numpy(getattr(events, f\"wgt___{wgt_systematic}\"))\n",
    "        ret[\"wgt_normed\"] = ret[\"wgt\"]/np.sum(ret[\"wgt\"])\n",
    "    else:\n",
    "        ret[\"wgt\"] = None\n",
    "        ret[\"wgt_normed\"] = None\n",
    "    \n",
    "    if named_models_features is not None:\n",
    "        for name, model, features in named_models_features:\n",
    "            if len(events) == 0:\n",
    "                ret[name] = np.array([], dtype=np.float32)\n",
    "                continue\n",
    "            inputs = np.column_stack([ret[feat] for feat in features])\n",
    "            ret[name] = model.predict_proba(inputs)[:, 0]\n",
    "            #ret[f\"model_{index}\"] = copy.deepcopy(model.predict_proba(inputs)[:, 1])\n",
    "\n",
    "    return ret"
   ]
  },
  {
   "cell_type": "code",
   "execution_count": 11,
   "id": "e14edd2c-e8a0-4f6b-ae12-023d455db6ad",
   "metadata": {},
   "outputs": [],
   "source": [
    "UNNESTED = ['MET_pt', 'MET_phi', 'Lepton1_pt', 'Lepton2_pt', 'nJet', 'HT', 'HT2M', 'HTRat', \n",
    "            'H', 'H2M', 'HTH', 'HTb', 'dRll', 'dRbb', 'bdisc_1', 'bdisc_2', 'bdisc_3', 'bdisc_4',\n",
    "            'jetpt_1', 'jetpt_2', 'jetpt_3', 'jetpt_4']\n",
    "TRAIN_vLF = UNNESTED\n",
    "TRAIN_vHF = UNNESTED\n",
    "REMOVED = ['Lepton1_eta', 'Lepton2_eta', 'nMediumDeepJetB']\n",
    "#ADD BACK IN jet pt's, maybe the eta's???\n",
    "#LAYER1 = [\"nJet\", \"HT\", \"HTH\", \"HTRat\", \"HTb\", \"bdisc_1\", \"bdisc_2\", \"bdisc_3\", \"bdisc_4\", \"MET_pt\", \"Lepton2_pt\", \n",
    "#          \"dRll\", \"dRbb\", \"jetpt_1\", \"jetpt_2\", \"jetpt_3\", \"jetpt_4\"]\n",
    "TRAIN_LAYER1 = UNNESTED\n",
    "#LAYER2 = LAYER1 + [\"nested_layer1\"]\n",
    "#TRAIN_nested_layer1 = LAYER1\n",
    "#TRAIN_nested_layer2 = LAYER2\n",
    "opt_models = {\n",
    "    \"vLF\":\n",
    "    {\"catboost\": None,\n",
    "     \"xgboost\": None},\n",
    "    \"vHF\":\n",
    "    {\"catboost\": None,\n",
    "     \"xgboost\": None},\n",
    "    \"nested_layer1\":\n",
    "    {\"catboost\": None,\n",
    "     \"xgboost\": None},\n",
    "    \"nested_layer2\":\n",
    "    {\"catboost\": None,\n",
    "     \"xgboost\": None},\n",
    "}\n",
    "model_inputs = {\n",
    "    \"vLF\":\n",
    "    {\"catboost\": TRAIN_vLF,\n",
    "     \"xgboost\": TRAIN_vLF},\n",
    "    \"vHF\":\n",
    "    {\"catboost\": TRAIN_vHF,\n",
    "     \"xgboost\": TRAIN_vHF},\n",
    "    \"nested_layer1\":\n",
    "    {\"catboost\": TRAIN_LAYER1,\n",
    "     \"xgboost\": TRAIN_LAYER1},\n",
    "    \"nested_layer2\":\n",
    "    {\"catboost\": TRAIN_LAYER1 + [\"catboost_nested_layer1\"],\n",
    "     \"xgboost\": TRAIN_LAYER1 + [\"xgboost_nested_layer1\"]},\n",
    "}"
   ]
  },
  {
   "cell_type": "code",
   "execution_count": 41,
   "id": "724ab749-6574-42f6-ada5-40380f25f81d",
   "metadata": {},
   "outputs": [],
   "source": [
    "params = {\n",
    "    \"vLF\": {\n",
    "        \"xgboost\": {\n",
    "            \"ntrees\": 100,\n",
    "            \"lrate\": 0.015625},\n",
    "        \"catboost\": {\n",
    "            \"ntrees\": 500,\n",
    "            \"lrate\": 0.984375}\n",
    "    },\n",
    "    \"vHF\": {\n",
    "        \"xgboost\": {\n",
    "            \"ntrees\": 500,\n",
    "            \"lrate\": 0.1},\n",
    "        \"catboost\": {\n",
    "            \"ntrees\": 500,\n",
    "            \"lrate\": 0.1}\n",
    "    },\n",
    "    \"nested_layer1\": {\n",
    "        \"xgboost\": {\n",
    "            \"ntrees\": 500,\n",
    "            \"lrate\": 0.1},\n",
    "        \"catboost\": {\n",
    "            \"ntrees\": 500,\n",
    "            \"lrate\": 0.1}\n",
    "    },\n",
    "    \"nested_layer2\": {\n",
    "        \"xgboost\": {\n",
    "            \"ntrees\": 500,\n",
    "            \"lrate\": 0.1},\n",
    "        \"catboost\": {\n",
    "            \"ntrees\": 500,\n",
    "            \"lrate\": 0.1}\n",
    "    }\n",
    "}"
   ]
  },
  {
   "cell_type": "code",
   "execution_count": 13,
   "id": "31b488fc-66f1-40bd-9b7d-1462492fa3f8",
   "metadata": {},
   "outputs": [],
   "source": [
    "mode = \"vLF\"\n",
    "#mode = \"vHF\"\n",
    "#mode = \"nested_layer1\"\n",
    "#mode = \"nested_layer2\""
   ]
  },
  {
   "cell_type": "code",
   "execution_count": 14,
   "id": "7adf68da-afdc-4d66-b506-f68b5071ba20",
   "metadata": {},
   "outputs": [
    {
     "name": "stdout",
     "output_type": "stream",
     "text": [
      "MET_pt\n",
      "MET_phi\n",
      "Lepton1_pt\n",
      "Lepton2_pt\n",
      "nJet\n",
      "HT\n",
      "HT2M\n",
      "HTRat\n",
      "H\n",
      "H2M\n",
      "HTH\n",
      "HTb\n",
      "dRll\n",
      "dRbb\n",
      "bdisc_1\n",
      "bdisc_2\n",
      "bdisc_3\n",
      "bdisc_4\n",
      "jetpt_1\n",
      "jetpt_2\n",
      "jetpt_3\n",
      "jetpt_4\n",
      "tttt vs ttlight\n",
      "signal: 114251 background: 457958\n"
     ]
    }
   ],
   "source": [
    "if mode in [\"vLF\", \"vHF\"]:\n",
    "    TRAIN_FEATURES = UNNESTED\n",
    "elif mode == \"nested_layer1\":\n",
    "    TRAIN_FEATURES = LAYER1\n",
    "elif mode == \"nested_layer2\":\n",
    "    #train against ttbb, with \n",
    "    raise ValueError(\"We need to rework this to do both models in parallel\")\n",
    "    TRAIN_FEATURES = LAYER2 + [\"model_0\"]\n",
    "for feat in TRAIN_FEATURES:\n",
    "    print(feat)\n",
    "    \n",
    "#Load up our dataframes for training... could cut out the pandas, but whatevs\n",
    "dfs = []\n",
    "if mode in [\"vLF\", \"nested_layer1\"]:\n",
    "    print(\"tttt vs ttlight\")\n",
    "    dfs.append(pd.DataFrame(get_features(tttt, is_mc=True, remove_negative_weights=True, \n",
    "                                         normalize_weights=True, scale_systematic=\"nom\", wgt_systematic=\"nom\")\n",
    "                     ).assign(proc=lambda x: 0))\n",
    "    dfs.append(pd.DataFrame(get_features(ttjj, is_mc=True, remove_negative_weights=True, \n",
    "                                         normalize_weights=True, scale_systematic=\"nom\", wgt_systematic=\"nom\")\n",
    "                      ).assign(proc=lambda x: 1))\n",
    "if mode in [\"vHF\", \"nested_layer2\"]:\n",
    "    print(\"tttt vs ttbb\")\n",
    "    if mode == \"vHF\":\n",
    "        named_models_features = None\n",
    "    elif mode == \"nested_layer2\":\n",
    "        if model_nested_layer1 is None:\n",
    "            raise ValueError(\"Untrained model, need to load it from somewhere!\")\n",
    "        named_models_features = [(\"nested_layer1\", model_nested_layer1, LAYER1)]\n",
    "    dfs.append(pd.DataFrame(get_features(tttt, is_mc=True, remove_negative_weights=True, \n",
    "                                         normalize_weights=True, scale_systematic=\"nom\", wgt_systematic=\"nom\",\n",
    "                                         named_models_features = named_models_features)\n",
    "                     ).assign(proc=lambda x: 0))\n",
    "    dfs.append(pd.DataFrame(get_features(ttbb, is_mc=True, remove_negative_weights=True,\n",
    "                                         normalize_weights=True,\n",
    "                                         scale_systematic=\"nom\", wgt_systematic=\"nom\",\n",
    "                                         named_models_features = named_models_features\n",
    "                                        )\n",
    "                      ).assign(proc=lambda x: 1))\n",
    "data = pd.concat(dfs, axis=0)\n",
    "prcs = data['proc']\n",
    "print(\"signal:\", len(prcs[prcs == 0]), \"background:\",len(prcs[prcs == 1]))"
   ]
  },
  {
   "cell_type": "code",
   "execution_count": 35,
   "id": "c136e42f-5137-41ef-b993-aa305d17033e",
   "metadata": {},
   "outputs": [
    {
     "name": "stdout",
     "output_type": "stream",
     "text": [
      "['MET_pt', 'MET_phi', 'Lepton1_pt', 'Lepton2_pt', 'nJet', 'HT', 'HT2M', 'HTRat', 'H', 'H2M', 'HTH', 'HTb', 'dRll', 'dRbb', 'bdisc_1', 'bdisc_2', 'bdisc_3', 'bdisc_4', 'jetpt_1', 'jetpt_2', 'jetpt_3', 'jetpt_4']\n",
      "114251 457958\n",
      "114251.00000000003 114251.0\n",
      "114251.0 114251.0\n"
     ]
    }
   ],
   "source": [
    "print(TRAIN_FEATURES)\n",
    "\n",
    "if True:\n",
    "    #Normalize xgboost weights\n",
    "    sig_mask = (data.proc == 0)\n",
    "    bkg_mask = (data.proc == 1)\n",
    "    data.loc[sig_mask, \"wgt\"] = np.sum(sig_mask) / np.sum(data.wgt[sig_mask]) * data.loc[sig_mask, \"wgt\"]\n",
    "    data.loc[bkg_mask, \"wgt\"] = np.sum(sig_mask) / np.sum(data.wgt[bkg_mask]) * data.loc[bkg_mask, \"wgt\"]\n",
    "    \n",
    "X_train, X_valtest, y_train, y_valtest, w_train_cb, w_valtest_cb, w_train_xgb, w_valtest_xgb,  = train_test_split(\n",
    "    data.loc[:, TRAIN_FEATURES].values,\n",
    "    data.proc,\n",
    "    data.wgt_normed,\n",
    "    data.wgt,\n",
    "    #data.loc[:, [\"wgt\", \"wgt_normed\"]], #Use unnormalized weight for XGBoost, normalized for CatBoost!\n",
    "    test_size=0.2,\n",
    "    random_state=12421)\n",
    "\n",
    "X_test, X_val, y_test, y_val, w_test_cb, w_val_cb, w_test_xgb, w_val_xgb,  = train_test_split(\n",
    "    X_valtest,\n",
    "    y_valtest,\n",
    "    w_valtest_cb,\n",
    "    w_valtest_xgb,\n",
    "    test_size=0.8,\n",
    "\n",
    "    random_state=5451)"
   ]
  },
  {
   "cell_type": "code",
   "execution_count": 16,
   "id": "42399c9b-e998-4ab8-a621-fccddd710df5",
   "metadata": {},
   "outputs": [],
   "source": [
    "def plot_feature_importances(f_imps, f_names, title=\"\"):\n",
    "    f_imps = np.array(f_imps)\n",
    "    f_names = np.array(f_names)\n",
    "    sort_inds = np.argsort(f_imps)\n",
    "    yy = np.arange(len(f_imps)).astype(np.int)\n",
    "    plt.barh(yy, f_imps[sort_inds])\n",
    "    plt.yticks(yy, f_names[sort_inds], size=14)\n",
    "    plt.xticks(size=14)\n",
    "    plt.xlabel(\"Feature importance\", size=14)\n",
    "    plt.title(title, size=14)\n",
    "    plt.show()\n",
    "    \n",
    "def plot_feature_importances_2d(f_imps1, f_names1, f_imps2, f_names2, f_label1, f_label2, title=\"\"):\n",
    "    if f_names1 != f_names2:\n",
    "        raise NotImplementedError(\"Must have same feature order\")\n",
    "    \n",
    "    annotations = f_names1\n",
    "    \n",
    "    f_imps1 = np.array(f_imps1)\n",
    "    f_names1 = np.array(f_names1)\n",
    "    f_imps2 = np.array(f_imps2)\n",
    "    f_names2 = np.array(f_names2)\n",
    "    \n",
    "    fig = plt.figure(figsize=(10, 10))\n",
    "    ax = plt.gca()\n",
    "    ax.set_yscale('log')\n",
    "    ax.set_xscale('log')\n",
    "    plt.scatter(f_imps1, f_imps2)\n",
    "    for i, label in enumerate(annotations):\n",
    "        plt.annotate(label, (f_imps1[i]+0.02, f_imps2[i]+0.02))\n",
    "    plt.xlabel(f_label1, size=14)\n",
    "    plt.ylabel(f_label2, size=14)\n",
    "    plt.xticks(size=14)\n",
    "    plt.yticks(size=14)\n",
    "    plt.title(title, size=14)\n",
    "    plt.show()\n",
    "    \n",
    "def plot_xgboost_validation(model):\n",
    "    results = model.evals_result()\n",
    "    eval_metrics = list(results[\"validation_0\"].keys())#[0]\n",
    "    n_metrics = len(eval_metrics)\n",
    "    fig, axs = plt.subplots(ncols=1, nrows=n_metrics, figsize=(10, n_metrics * 10),)\n",
    "                        #constrained_layout=True)\n",
    "    for emi, eval_metric in enumerate(eval_metrics):\n",
    "        axs[emi].plot(results[\"validation_0\"][eval_metric], label=\"Training \"+eval_metric)\n",
    "        axs[emi].plot(results[\"validation_1\"][eval_metric], label=\"Validation \"+eval_metric)\n",
    "        #plt.axvline(21, color=\"gray\", label=\"Optimal tree number\")\n",
    "        axs[emi].set(xlabel=\"Number of trees\", ylabel=eval_metric)\n",
    "        #axs[emi].xlabel(\"Number of trees\")\n",
    "        #axs[emi].ylabel(eval_metric)\n",
    "        axs[emi].legend()\n"
   ]
  },
  {
   "cell_type": "code",
   "execution_count": 17,
   "id": "2a89be27-aaeb-4910-a5d5-731634a5e095",
   "metadata": {},
   "outputs": [],
   "source": [
    "import time\n",
    "def evaluate_models(models_dict):\n",
    "    for model_name, model in models_dict.items():\n",
    "        start = time.time()\n",
    "        w_test=None\n",
    "        max_trees = 10 #int(params[mode][model_name][\"ntrees\"]/10)\n",
    "        l_rate = params[mode][model_name][\"lrate\"]\n",
    "        if isinstance(model, xgboost.sklearn.XGBClassifier):\n",
    "            w_test = w_test_xgb\n",
    "            model.learning_rate = l_rate\n",
    "            print(f\"{model_name} learning rate: {model.learning_rate}\")\n",
    "            # Modified: evaluation, early_stopping usese the 'last' eval_metric and last eval_set\n",
    "            eval_set = [(X_train, y_train), (X_val, y_val)]\n",
    "            w_set = [w_train_xgb, w_val_xgb]\n",
    "            #eval_set = [(X_val, y_val)]\n",
    "            #w_set = [w_val[:,0]]\n",
    "            model.fit(X_train, y_train,\n",
    "                      sample_weight=w_train_xgb,\n",
    "                      verbose=True,\n",
    "                      #eval_metric=\"auc\", # We use that metric for final scoring\n",
    "                      eval_metric=[\"error\", \"logloss\", \"auc\"],\n",
    "                      early_stopping_rounds=max_trees, # Try training this more rounds after reaching the best score\n",
    "                      #eval_set=eval_set,\n",
    "                      #sample_weight_eval_set=[w_val]\n",
    "                      eval_set=eval_set,\n",
    "                      sample_weight_eval_set=w_set,\n",
    "                      ) # Note that we use separate datasets for test and early stopping\n",
    "        elif isinstance(model, catboost.core.CatBoostClassifier):\n",
    "            #CATBOOST eval_metric is set in the constructor!\n",
    "            w_test = w_test_cb\n",
    "            max_trees = int(params[mode][model_name][\"ntrees\"]/10)\n",
    "            model.set_params(learning_rate=l_rate)\n",
    "            print(f\"{model_name} learning rate: {l_rate}\")\n",
    "            # Modified: evaluation\n",
    "            val_cb = catboost.Pool(data=X_val, label=y_val, weight=w_val_cb)\n",
    "            model.fit(X_train, y_train,\n",
    "                      sample_weight=w_train_cb, #NEW\n",
    "                      verbose=True,\n",
    "                      early_stopping_rounds=max_trees,\n",
    "                      eval_set=val_cb,\n",
    "                      plot=True,\n",
    "                     )                           \n",
    "                \n",
    "        # model.fit(X_train, y_train, sample_weight=w_train)\n",
    "        end = time.time()\n",
    "        print(\"{}; train time {:.3f} s; ROC AUC = {:.3f}\".format(\n",
    "              model_name,\n",
    "              end - start,\n",
    "              roc_auc_score(y_test, model.predict_proba(X_test)[:, 1], sample_weight=w_test)))"
   ]
  },
  {
   "cell_type": "code",
   "execution_count": 18,
   "id": "7d632989-4c4b-4ecb-8772-f01c2378068a",
   "metadata": {},
   "outputs": [],
   "source": [
    "def find_optimal_learning_rate(model, model_name, verbose:bool=False, return_best_model:bool=False, tolerance:float=0.01):\n",
    "    \"\"\"\n",
    "    Uses early stopping and bisection method to efficiently find the optimal learning rate.\n",
    "    \n",
    "    Boosting model performance is almost always a convex function of the learning rate when all other parameters are held constant.\n",
    "    When the learning rate is too low, the model underfits and underperformes; when it's too high, the model overfits.\n",
    "    The optimal learning rate is some sweet spot between 0 and 1. We can use this knowelage to create a smart\n",
    "    algorithm for finding the optimal learning rate.\n",
    "    We don't need to train a boosting model fully to know whether it overfits or underfits, as we can use early stopping!\n",
    "    If early stopping kicked in, that means the learning rate is too high. If it doesn't, this means it's too low.\n",
    "    \n",
    "    The funciton finds the highest learning rate for which early stopping doesn't kick in.\n",
    "    Arg:\n",
    "        model: a model with sklearn-type interface.\n",
    "           Supports XGBClassifier, LGBMClassifier, CatBoostClassifier\n",
    "        verbose: print the progress\n",
    "        return_best_model: if set, return (learning_rate, best_model)\n",
    "           if not set, return just learning_rate\n",
    "        tolerance: the maximum difference betweent the truly optimal and retured value\n",
    "    Returns:\n",
    "        optimal learning rate, if return_best_model is false\n",
    "        (optimal learning rate, best model) if return_best_model true\n",
    "    \"\"\"\n",
    "    # Use eval_set, w_val and val_cb for measuring the performance\n",
    "    # YOUR CODE HERE\n",
    "    max_trees = 10 #int(params[mode][model_name][\"ntrees\"]/10) #30\n",
    "    \n",
    "    learning_rate = 0.5\n",
    "    lr_low = 0.0\n",
    "    lr_high = 1.0\n",
    "    stop = False\n",
    "    itrn = 0\n",
    "    start_time = time.time()\n",
    "    cmodel = clone(model)\n",
    "    while(~stop):\n",
    "        total_time = time.time() - start_time\n",
    "        print(f\"iteration {itrn} learning_rate {learning_rate} at {total_time}s\")\n",
    "        itrn += 1\n",
    "        #if isinstance(cmodel, lightgbm.sklearn.LGBMClassifier):\n",
    "        #    cmodel.learning_rate = learning_rate\n",
    "        #    cmodel.fit(X_train, y_train,\n",
    "        #      verbose=False,\n",
    "        #      eval_metric=\"auc\",\n",
    "        #      early_stopping_rounds=max_trees,\n",
    "        #      eval_set=eval_set,\n",
    "        #      eval_sample_weight=[w_val])\n",
    "        #elif isinstance(cmodel, xgboost.sklearn.XGBClassifier):\n",
    "        if isinstance(cmodel, xgboost.sklearn.XGBClassifier):\n",
    "            cmodel.learning_rate = learning_rate\n",
    "            eval_set = [(X_train, y_train), (X_val, y_val)]\n",
    "            w_set = [w_train_xgb, w_val_xgb]\n",
    "            cmodel.fit(X_train, y_train,\n",
    "              sample_weight=w_train_xgb,\n",
    "              verbose=False,\n",
    "              #eval_metric=\"auc\", # We use that metric for final scoring\n",
    "              eval_metric=[\"error\", \"logloss\", \"auc\"],\n",
    "              early_stopping_rounds=max_trees, # Try training this more rounds after reaching the best score\n",
    "              eval_set=eval_set,\n",
    "              sample_weight_eval_set=w_set\n",
    "             ) # Note that we use separate datasets for test and early stopping\n",
    "        elif isinstance(cmodel, catboost.core.CatBoostClassifier):\n",
    "            cmodel.set_params(learning_rate=learning_rate)\n",
    "            # not the way we pass the validaton weights to catboost\n",
    "            val_cb = catboost.Pool(data=X_val, label=y_val, weight=w_val_cb)\n",
    "            cmodel.fit(X_train, y_train,\n",
    "                       sample_weight=w_train_cb,\n",
    "                       verbose=False,\n",
    "                       early_stopping_rounds=max_trees,\n",
    "                       eval_set=val_cb\n",
    "                      )\n",
    "        n_trees = None\n",
    "        if isinstance(cmodel, xgboost.sklearn.XGBClassifier):\n",
    "            n_trees = len(cmodel.get_booster().get_dump())\n",
    "        #elif isinstance(cmodel, lightgbm.sklearn.LGBMClassifier):\n",
    "        #    n_trees = cmodel.booster_.num_trees()\n",
    "        elif isinstance(cmodel, catboost.core.CatBoostClassifier):\n",
    "            n_trees = cmodel.tree_count_\n",
    "            #print(n_trees, max_trees)\n",
    "\n",
    "        if (isinstance(cmodel, xgboost.sklearn.XGBClassifier) and n_trees > max_trees + 1) or\\\n",
    "           (isinstance(cmodel, catboost.core.CatBoostClassifier) and n_trees < max_trees + 1): #or\\\n",
    "           #(isinstance(cmodel, lightgbm.sklearn.LGBMClassifier) and n_trees < max_trees + 1):\n",
    "            #early stop, lower the learning rate\n",
    "            lr_high = learning_rate\n",
    "            if abs(learning_rate - lr_low)/2 < tolerance:\n",
    "                break\n",
    "            learning_rate -= abs(learning_rate - lr_low)/2\n",
    "        else:\n",
    "            #no early stop, raise the rate\n",
    "            lr_low = learning_rate\n",
    "            if abs(lr_high - learning_rate)/2 < tolerance:\n",
    "                break\n",
    "            learning_rate += abs(lr_high - learning_rate)/2\n",
    "        cmodel = clone(model) #new model, in the event we haven't stopped. This is principally for catboost\n",
    "            \n",
    "    best_model = cmodel\n",
    "        \n",
    "    if return_best_model:\n",
    "        return (learning_rate, best_model)\n",
    "    else:\n",
    "        return learning_rate\n"
   ]
  },
  {
   "cell_type": "code",
   "execution_count": 19,
   "id": "ee3324b2-3ad3-402c-bacd-b0a7b1e0c5fe",
   "metadata": {},
   "outputs": [],
   "source": [
    "eval_set = [(X_val, y_val)]\n",
    "models_cpu = {\n",
    "    \"catboost\": catboost.CatBoostClassifier(n_estimators=params[mode][\"catboost\"][\"ntrees\"], verbose=False, thread_count=-1),\n",
    "    \"xgboost\": xgboost.XGBClassifier(n_estimators=params[mode][\"xgboost\"][\"ntrees\"], tree_method=\"hist\", nthread=-1, use_label_encoder=False),\n",
    "}"
   ]
  },
  {
   "cell_type": "code",
   "execution_count": 36,
   "id": "b9a3ec97-4eb7-41db-80bd-cb16b5c4eaa6",
   "metadata": {},
   "outputs": [
    {
     "name": "stdout",
     "output_type": "stream",
     "text": [
      "iteration 0 learning_rate 0.5 at 0.0001556873321533203s\n",
      "iteration 1 learning_rate 0.75 at 6.524273872375488s\n",
      "iteration 2 learning_rate 0.875 at 12.129086256027222s\n",
      "iteration 3 learning_rate 0.9375 at 18.45795178413391s\n",
      "iteration 4 learning_rate 0.96875 at 24.782296419143677s\n",
      "iteration 5 learning_rate 0.984375 at 30.760749578475952s\n",
      "0.984375\n"
     ]
    }
   ],
   "source": [
    "#find optimal learning rate, early-stopped model for catboost\n",
    "#eval_metric=\"AUC\"\n",
    "eval_metric=None #Default\n",
    "lr_cb, clf_cb = find_optimal_learning_rate(\n",
    "  catboost.CatBoostClassifier(n_estimators=params[mode][\"catboost\"][\"ntrees\"], verbose=False, task_type='CPU',\n",
    "                             eval_metric=eval_metric),\n",
    "  \"catboost\",\n",
    "  verbose=True, return_best_model=True)\n",
    "print(lr_cb)"
   ]
  },
  {
   "cell_type": "code",
   "execution_count": 37,
   "id": "679e09c4-b22b-4365-a094-81b54352df40",
   "metadata": {},
   "outputs": [
    {
     "name": "stdout",
     "output_type": "stream",
     "text": [
      "iteration 0 learning_rate 0.5 at 0.0012035369873046875s\n",
      "iteration 1 learning_rate 0.25 at 38.194435596466064s\n",
      "iteration 2 learning_rate 0.125 at 99.4063184261322s\n",
      "iteration 3 learning_rate 0.0625 at 214.17624473571777s\n",
      "iteration 4 learning_rate 0.03125 at 288.5866949558258s\n",
      "iteration 5 learning_rate 0.015625 at 359.7734043598175s\n",
      "0.015625\n"
     ]
    }
   ],
   "source": [
    "lr_xgb, clf_xgb = find_optimal_learning_rate(\n",
    "    xgboost.XGBClassifier(n_estimators=params[mode][\"xgboost\"][\"ntrees\"], nthread=-1, use_label_encoder=False), \n",
    "    \"xgboost\",\n",
    "    verbose=True, return_best_model=True)\n",
    "print(lr_xgb)\n",
    "#plot_feature_importances(clf_xgb.feature_importances_, TRAIN_FEATURES, \n",
    "#                         title=f\"XGBoost {era} {mode}\")\n",
    "#plot_xgboost_validation(clf_xgb)"
   ]
  },
  {
   "cell_type": "code",
   "execution_count": 38,
   "id": "17d2c4bb-e910-48ce-b64c-985b7d57491b",
   "metadata": {},
   "outputs": [],
   "source": [
    "if False:\n",
    "    for lr in np.logspace(-4, 1, num=5):\n",
    "        for nt in np.logspace(1, 3, num=4):\n",
    "            print(lr, max(1, int(nt)))\n",
    "            mod = xgboost.XGBClassifier(n_estimators=max(1, int(nt)), nthread=-1, use_label_encoder=False)\n",
    "            mod.learning_rate = lr\n",
    "            eval_set = [(X_train, y_train), (X_val, y_val)]\n",
    "            w_set = [w_train_xgb, w_val_xgb]\n",
    "            mod.fit(X_train, y_train,\n",
    "                    #sample_weight=w_train_xgb,\n",
    "                    verbose=False,\n",
    "                    #eval_metric=\"auc\", # We use that metric for final scoring\n",
    "                    eval_metric=[\"error\", \"logloss\", \"auc\"],\n",
    "                    early_stopping_rounds=5, # Try training this more rounds after reaching the best score\n",
    "                    eval_set=eval_set,\n",
    "                    sample_weight_eval_set=w_set\n",
    "                    )\n",
    "            print(len(mod.get_booster().get_dump()),\n",
    "                  roc_auc_score(y_train, mod.predict_proba(X_train)[:, 1], sample_weight=w_train_xgb),\n",
    "                  roc_auc_score(y_test, mod.predict_proba(X_test)[:, 1], sample_weight=w_test_xgb),\n",
    "                  \"\\n\"\n",
    "                 )"
   ]
  },
  {
   "cell_type": "code",
   "execution_count": 40,
   "id": "189b1423-c213-4279-a699-ad636bf7e091",
   "metadata": {},
   "outputs": [
    {
     "name": "stdout",
     "output_type": "stream",
     "text": [
      "catboost train 0.9443443581899064\n",
      "catboost test 0.9410228323727101\n",
      "xgboost train 0.9388085970318735\n",
      "xgboost test 0.936181171431212\n"
     ]
    }
   ],
   "source": [
    "opt_models[mode][\"catboost\"] = clf_cb\n",
    "opt_models[mode][\"xgboost\"] = clf_xgb\n",
    "print(\"catboost train\", roc_auc_score(y_train, clf_cb.predict_proba(X_train)[:, 1], sample_weight=w_train_cb))\n",
    "print(\"catboost test\", roc_auc_score(y_test, clf_cb.predict_proba(X_test)[:, 1], sample_weight=w_test_cb))\n",
    "print(\"xgboost train\", roc_auc_score(y_train, clf_xgb.predict_proba(X_train)[:, 1], sample_weight=w_train_xgb))\n",
    "print(\"xgboost test\", roc_auc_score(y_test, clf_xgb.predict_proba(X_test)[:, 1], sample_weight=w_test_xgb))"
   ]
  },
  {
   "cell_type": "code",
   "execution_count": 42,
   "id": "913e96ce-4699-47af-accc-4dc0e44c0e0c",
   "metadata": {},
   "outputs": [],
   "source": [
    "# Reset the models\n",
    "#eval_set = [(X_val, y_val)]\n",
    "models_cpu = {\n",
    "    \"catboost\": catboost.CatBoostClassifier(n_estimators=params[mode][\"catboost\"][\"ntrees\"], verbose=False, thread_count=-1),\n",
    "    \"xgboost\": xgboost.XGBClassifier(n_estimators=params[mode][\"xgboost\"][\"ntrees\"], tree_method=\"hist\", nthread=-1, use_label_encoder=False),\n",
    "}"
   ]
  },
  {
   "cell_type": "code",
   "execution_count": 43,
   "id": "1e974652-b6ed-4f2b-ac7c-34a4bb993d22",
   "metadata": {},
   "outputs": [
    {
     "name": "stdout",
     "output_type": "stream",
     "text": [
      "catboost learning rate: 0.984375\n"
     ]
    },
    {
     "data": {
      "application/vnd.jupyter.widget-view+json": {
       "model_id": "d43b99d191784c398020457d2a388f4d",
       "version_major": 2,
       "version_minor": 0
      },
      "text/plain": [
       "MetricVisualizer(layout=Layout(align_self='stretch', height='500px'))"
      ]
     },
     "metadata": {},
     "output_type": "display_data"
    },
    {
     "name": "stdout",
     "output_type": "stream",
     "text": [
      "0:\tlearn: 0.3522824\ttest: 0.3500494\tbest: 0.3500494 (0)\ttotal: 73.7ms\tremaining: 36.8s\n",
      "1:\tlearn: 0.3359511\ttest: 0.3363456\tbest: 0.3363456 (1)\ttotal: 114ms\tremaining: 28.5s\n",
      "2:\tlearn: 0.3265353\ttest: 0.3272786\tbest: 0.3272786 (2)\ttotal: 149ms\tremaining: 24.8s\n",
      "3:\tlearn: 0.3209718\ttest: 0.3228503\tbest: 0.3228503 (3)\ttotal: 186ms\tremaining: 23s\n",
      "4:\tlearn: 0.3188200\ttest: 0.3209748\tbest: 0.3209748 (4)\ttotal: 239ms\tremaining: 23.6s\n",
      "5:\tlearn: 0.3162594\ttest: 0.3190833\tbest: 0.3190833 (5)\ttotal: 278ms\tremaining: 22.9s\n",
      "6:\tlearn: 0.3133388\ttest: 0.3166529\tbest: 0.3166529 (6)\ttotal: 314ms\tremaining: 22.1s\n",
      "7:\tlearn: 0.3110579\ttest: 0.3147035\tbest: 0.3147035 (7)\ttotal: 353ms\tremaining: 21.7s\n",
      "8:\tlearn: 0.3087288\ttest: 0.3130087\tbest: 0.3130087 (8)\ttotal: 448ms\tremaining: 24.4s\n",
      "9:\tlearn: 0.3074200\ttest: 0.3125596\tbest: 0.3125596 (9)\ttotal: 523ms\tremaining: 25.6s\n",
      "10:\tlearn: 0.3060744\ttest: 0.3122804\tbest: 0.3122804 (10)\ttotal: 565ms\tremaining: 25.1s\n",
      "11:\tlearn: 0.3051469\ttest: 0.3118548\tbest: 0.3118548 (11)\ttotal: 617ms\tremaining: 25.1s\n",
      "12:\tlearn: 0.3043605\ttest: 0.3115975\tbest: 0.3115975 (12)\ttotal: 663ms\tremaining: 24.8s\n",
      "13:\tlearn: 0.3038476\ttest: 0.3111687\tbest: 0.3111687 (13)\ttotal: 711ms\tremaining: 24.7s\n",
      "14:\tlearn: 0.3033208\ttest: 0.3110480\tbest: 0.3110480 (14)\ttotal: 780ms\tremaining: 25.2s\n",
      "15:\tlearn: 0.3023047\ttest: 0.3104512\tbest: 0.3104512 (15)\ttotal: 818ms\tremaining: 24.7s\n",
      "16:\tlearn: 0.3015067\ttest: 0.3099362\tbest: 0.3099362 (16)\ttotal: 855ms\tremaining: 24.3s\n",
      "17:\tlearn: 0.3010652\ttest: 0.3102803\tbest: 0.3099362 (16)\ttotal: 887ms\tremaining: 23.7s\n",
      "18:\tlearn: 0.3005348\ttest: 0.3102859\tbest: 0.3099362 (16)\ttotal: 920ms\tremaining: 23.3s\n",
      "19:\tlearn: 0.2999901\ttest: 0.3107876\tbest: 0.3099362 (16)\ttotal: 951ms\tremaining: 22.8s\n",
      "20:\tlearn: 0.2993360\ttest: 0.3108079\tbest: 0.3099362 (16)\ttotal: 985ms\tremaining: 22.5s\n",
      "21:\tlearn: 0.2989248\ttest: 0.3108536\tbest: 0.3099362 (16)\ttotal: 1.02s\tremaining: 22.1s\n",
      "22:\tlearn: 0.2983509\ttest: 0.3107836\tbest: 0.3099362 (16)\ttotal: 1.05s\tremaining: 21.8s\n",
      "23:\tlearn: 0.2979893\ttest: 0.3107005\tbest: 0.3099362 (16)\ttotal: 1.08s\tremaining: 21.5s\n",
      "24:\tlearn: 0.2975438\ttest: 0.3103675\tbest: 0.3099362 (16)\ttotal: 1.11s\tremaining: 21.2s\n",
      "25:\tlearn: 0.2970706\ttest: 0.3103770\tbest: 0.3099362 (16)\ttotal: 1.14s\tremaining: 20.9s\n",
      "26:\tlearn: 0.2966477\ttest: 0.3107228\tbest: 0.3099362 (16)\ttotal: 1.18s\tremaining: 20.6s\n",
      "27:\tlearn: 0.2961864\ttest: 0.3105147\tbest: 0.3099362 (16)\ttotal: 1.21s\tremaining: 20.4s\n",
      "28:\tlearn: 0.2957578\ttest: 0.3106628\tbest: 0.3099362 (16)\ttotal: 1.24s\tremaining: 20.2s\n",
      "29:\tlearn: 0.2954349\ttest: 0.3105692\tbest: 0.3099362 (16)\ttotal: 1.28s\tremaining: 20s\n",
      "30:\tlearn: 0.2949975\ttest: 0.3106230\tbest: 0.3099362 (16)\ttotal: 1.31s\tremaining: 19.9s\n",
      "31:\tlearn: 0.2946153\ttest: 0.3105325\tbest: 0.3099362 (16)\ttotal: 1.35s\tremaining: 19.8s\n",
      "32:\tlearn: 0.2942280\ttest: 0.3107355\tbest: 0.3099362 (16)\ttotal: 1.39s\tremaining: 19.7s\n",
      "33:\tlearn: 0.2939165\ttest: 0.3111549\tbest: 0.3099362 (16)\ttotal: 1.43s\tremaining: 19.6s\n",
      "34:\tlearn: 0.2935164\ttest: 0.3114048\tbest: 0.3099362 (16)\ttotal: 1.5s\tremaining: 19.9s\n",
      "35:\tlearn: 0.2931376\ttest: 0.3115624\tbest: 0.3099362 (16)\ttotal: 1.54s\tremaining: 19.9s\n",
      "36:\tlearn: 0.2927448\ttest: 0.3118518\tbest: 0.3099362 (16)\ttotal: 1.58s\tremaining: 19.8s\n",
      "37:\tlearn: 0.2924001\ttest: 0.3117700\tbest: 0.3099362 (16)\ttotal: 1.66s\tremaining: 20.2s\n",
      "38:\tlearn: 0.2920854\ttest: 0.3119078\tbest: 0.3099362 (16)\ttotal: 1.71s\tremaining: 20.2s\n",
      "39:\tlearn: 0.2917982\ttest: 0.3123647\tbest: 0.3099362 (16)\ttotal: 1.75s\tremaining: 20.1s\n",
      "40:\tlearn: 0.2914336\ttest: 0.3125037\tbest: 0.3099362 (16)\ttotal: 1.8s\tremaining: 20.2s\n",
      "41:\tlearn: 0.2911775\ttest: 0.3125879\tbest: 0.3099362 (16)\ttotal: 1.85s\tremaining: 20.2s\n",
      "42:\tlearn: 0.2909388\ttest: 0.3127055\tbest: 0.3099362 (16)\ttotal: 1.9s\tremaining: 20.2s\n",
      "43:\tlearn: 0.2906196\ttest: 0.3124526\tbest: 0.3099362 (16)\ttotal: 1.94s\tremaining: 20.1s\n",
      "44:\tlearn: 0.2903205\ttest: 0.3125871\tbest: 0.3099362 (16)\ttotal: 1.98s\tremaining: 20s\n",
      "45:\tlearn: 0.2901088\ttest: 0.3128626\tbest: 0.3099362 (16)\ttotal: 2.02s\tremaining: 20s\n",
      "46:\tlearn: 0.2898698\ttest: 0.3131666\tbest: 0.3099362 (16)\ttotal: 2.06s\tremaining: 19.9s\n",
      "47:\tlearn: 0.2895763\ttest: 0.3130921\tbest: 0.3099362 (16)\ttotal: 2.1s\tremaining: 19.8s\n",
      "48:\tlearn: 0.2892379\ttest: 0.3131463\tbest: 0.3099362 (16)\ttotal: 2.13s\tremaining: 19.6s\n",
      "49:\tlearn: 0.2889847\ttest: 0.3133996\tbest: 0.3099362 (16)\ttotal: 2.17s\tremaining: 19.5s\n",
      "50:\tlearn: 0.2887301\ttest: 0.3137165\tbest: 0.3099362 (16)\ttotal: 2.21s\tremaining: 19.5s\n",
      "51:\tlearn: 0.2884752\ttest: 0.3140282\tbest: 0.3099362 (16)\ttotal: 2.25s\tremaining: 19.4s\n",
      "52:\tlearn: 0.2882370\ttest: 0.3143052\tbest: 0.3099362 (16)\ttotal: 2.33s\tremaining: 19.6s\n",
      "53:\tlearn: 0.2880131\ttest: 0.3147788\tbest: 0.3099362 (16)\ttotal: 2.4s\tremaining: 19.8s\n",
      "54:\tlearn: 0.2877522\ttest: 0.3148957\tbest: 0.3099362 (16)\ttotal: 2.45s\tremaining: 19.8s\n",
      "55:\tlearn: 0.2873548\ttest: 0.3151284\tbest: 0.3099362 (16)\ttotal: 2.49s\tremaining: 19.7s\n",
      "56:\tlearn: 0.2871115\ttest: 0.3152260\tbest: 0.3099362 (16)\ttotal: 2.53s\tremaining: 19.6s\n",
      "57:\tlearn: 0.2868636\ttest: 0.3152082\tbest: 0.3099362 (16)\ttotal: 2.56s\tremaining: 19.6s\n",
      "58:\tlearn: 0.2865488\ttest: 0.3152674\tbest: 0.3099362 (16)\ttotal: 2.61s\tremaining: 19.5s\n",
      "59:\tlearn: 0.2862827\ttest: 0.3153177\tbest: 0.3099362 (16)\ttotal: 2.65s\tremaining: 19.5s\n",
      "60:\tlearn: 0.2859828\ttest: 0.3153057\tbest: 0.3099362 (16)\ttotal: 2.7s\tremaining: 19.4s\n",
      "61:\tlearn: 0.2857257\ttest: 0.3155077\tbest: 0.3099362 (16)\ttotal: 2.74s\tremaining: 19.3s\n",
      "62:\tlearn: 0.2853491\ttest: 0.3154934\tbest: 0.3099362 (16)\ttotal: 2.77s\tremaining: 19.2s\n",
      "63:\tlearn: 0.2851400\ttest: 0.3155284\tbest: 0.3099362 (16)\ttotal: 2.81s\tremaining: 19.1s\n",
      "64:\tlearn: 0.2849235\ttest: 0.3157692\tbest: 0.3099362 (16)\ttotal: 2.84s\tremaining: 19s\n",
      "65:\tlearn: 0.2846666\ttest: 0.3159794\tbest: 0.3099362 (16)\ttotal: 2.89s\tremaining: 19s\n",
      "66:\tlearn: 0.2844965\ttest: 0.3161282\tbest: 0.3099362 (16)\ttotal: 2.92s\tremaining: 18.9s\n",
      "Stopped by overfitting detector  (50 iterations wait)\n",
      "\n",
      "bestTest = 0.3099361717\n",
      "bestIteration = 16\n",
      "\n",
      "Shrink model to first 17 iterations.\n",
      "catboost; train time 7.298 s; ROC AUC = 0.941\n",
      "xgboost learning rate: 0.015625\n",
      "[0]\tvalidation_0-error:0.14307\tvalidation_0-logloss:0.68407\tvalidation_0-auc:0.92995\tvalidation_1-error:0.14545\tvalidation_1-logloss:0.68414\tvalidation_1-auc:0.92855\n",
      "[1]\tvalidation_0-error:0.14267\tvalidation_0-logloss:0.67527\tvalidation_0-auc:0.93069\tvalidation_1-error:0.14524\tvalidation_1-logloss:0.67540\tvalidation_1-auc:0.92938\n",
      "[2]\tvalidation_0-error:0.14215\tvalidation_0-logloss:0.66674\tvalidation_0-auc:0.93124\tvalidation_1-error:0.14462\tvalidation_1-logloss:0.66692\tvalidation_1-auc:0.92997\n",
      "[3]\tvalidation_0-error:0.14192\tvalidation_0-logloss:0.65846\tvalidation_0-auc:0.93177\tvalidation_1-error:0.14437\tvalidation_1-logloss:0.65870\tvalidation_1-auc:0.93042\n",
      "[4]\tvalidation_0-error:0.14172\tvalidation_0-logloss:0.65042\tvalidation_0-auc:0.93185\tvalidation_1-error:0.14427\tvalidation_1-logloss:0.65072\tvalidation_1-auc:0.93051\n",
      "[5]\tvalidation_0-error:0.14186\tvalidation_0-logloss:0.64262\tvalidation_0-auc:0.93198\tvalidation_1-error:0.14377\tvalidation_1-logloss:0.64297\tvalidation_1-auc:0.93067\n",
      "[6]\tvalidation_0-error:0.14103\tvalidation_0-logloss:0.63504\tvalidation_0-auc:0.93218\tvalidation_1-error:0.14242\tvalidation_1-logloss:0.63544\tvalidation_1-auc:0.93086\n",
      "[7]\tvalidation_0-error:0.14096\tvalidation_0-logloss:0.62767\tvalidation_0-auc:0.93276\tvalidation_1-error:0.14180\tvalidation_1-logloss:0.62813\tvalidation_1-auc:0.93154\n",
      "[8]\tvalidation_0-error:0.14049\tvalidation_0-logloss:0.62051\tvalidation_0-auc:0.93281\tvalidation_1-error:0.14248\tvalidation_1-logloss:0.62102\tvalidation_1-auc:0.93159\n",
      "[9]\tvalidation_0-error:0.14042\tvalidation_0-logloss:0.61355\tvalidation_0-auc:0.93290\tvalidation_1-error:0.14183\tvalidation_1-logloss:0.61411\tvalidation_1-auc:0.93167\n",
      "[10]\tvalidation_0-error:0.13977\tvalidation_0-logloss:0.60679\tvalidation_0-auc:0.93303\tvalidation_1-error:0.14178\tvalidation_1-logloss:0.60738\tvalidation_1-auc:0.93184\n",
      "[11]\tvalidation_0-error:0.14038\tvalidation_0-logloss:0.60020\tvalidation_0-auc:0.93323\tvalidation_1-error:0.14175\tvalidation_1-logloss:0.60084\tvalidation_1-auc:0.93201\n",
      "[12]\tvalidation_0-error:0.14031\tvalidation_0-logloss:0.59380\tvalidation_0-auc:0.93327\tvalidation_1-error:0.14180\tvalidation_1-logloss:0.59447\tvalidation_1-auc:0.93207\n",
      "[13]\tvalidation_0-error:0.14019\tvalidation_0-logloss:0.58757\tvalidation_0-auc:0.93337\tvalidation_1-error:0.14153\tvalidation_1-logloss:0.58828\tvalidation_1-auc:0.93217\n",
      "[14]\tvalidation_0-error:0.13949\tvalidation_0-logloss:0.58150\tvalidation_0-auc:0.93345\tvalidation_1-error:0.14166\tvalidation_1-logloss:0.58226\tvalidation_1-auc:0.93222\n",
      "[15]\tvalidation_0-error:0.13953\tvalidation_0-logloss:0.57559\tvalidation_0-auc:0.93356\tvalidation_1-error:0.14164\tvalidation_1-logloss:0.57638\tvalidation_1-auc:0.93230\n",
      "[16]\tvalidation_0-error:0.13954\tvalidation_0-logloss:0.56984\tvalidation_0-auc:0.93379\tvalidation_1-error:0.14166\tvalidation_1-logloss:0.57065\tvalidation_1-auc:0.93260\n",
      "[17]\tvalidation_0-error:0.13953\tvalidation_0-logloss:0.56424\tvalidation_0-auc:0.93384\tvalidation_1-error:0.14177\tvalidation_1-logloss:0.56509\tvalidation_1-auc:0.93264\n",
      "[18]\tvalidation_0-error:0.13932\tvalidation_0-logloss:0.55877\tvalidation_0-auc:0.93404\tvalidation_1-error:0.14172\tvalidation_1-logloss:0.55966\tvalidation_1-auc:0.93278\n",
      "[19]\tvalidation_0-error:0.13925\tvalidation_0-logloss:0.55345\tvalidation_0-auc:0.93410\tvalidation_1-error:0.14133\tvalidation_1-logloss:0.55437\tvalidation_1-auc:0.93284\n",
      "[20]\tvalidation_0-error:0.13932\tvalidation_0-logloss:0.54826\tvalidation_0-auc:0.93416\tvalidation_1-error:0.14135\tvalidation_1-logloss:0.54922\tvalidation_1-auc:0.93290\n",
      "[21]\tvalidation_0-error:0.13921\tvalidation_0-logloss:0.54321\tvalidation_0-auc:0.93428\tvalidation_1-error:0.14102\tvalidation_1-logloss:0.54421\tvalidation_1-auc:0.93301\n",
      "[22]\tvalidation_0-error:0.13911\tvalidation_0-logloss:0.53828\tvalidation_0-auc:0.93437\tvalidation_1-error:0.14090\tvalidation_1-logloss:0.53932\tvalidation_1-auc:0.93309\n",
      "[23]\tvalidation_0-error:0.13911\tvalidation_0-logloss:0.53348\tvalidation_0-auc:0.93441\tvalidation_1-error:0.14060\tvalidation_1-logloss:0.53454\tvalidation_1-auc:0.93313\n",
      "[24]\tvalidation_0-error:0.13894\tvalidation_0-logloss:0.52880\tvalidation_0-auc:0.93445\tvalidation_1-error:0.14071\tvalidation_1-logloss:0.52991\tvalidation_1-auc:0.93314\n",
      "[25]\tvalidation_0-error:0.13903\tvalidation_0-logloss:0.52422\tvalidation_0-auc:0.93451\tvalidation_1-error:0.14080\tvalidation_1-logloss:0.52535\tvalidation_1-auc:0.93322\n",
      "[26]\tvalidation_0-error:0.13907\tvalidation_0-logloss:0.51976\tvalidation_0-auc:0.93455\tvalidation_1-error:0.14115\tvalidation_1-logloss:0.52094\tvalidation_1-auc:0.93326\n",
      "[27]\tvalidation_0-error:0.13900\tvalidation_0-logloss:0.51540\tvalidation_0-auc:0.93463\tvalidation_1-error:0.14100\tvalidation_1-logloss:0.51660\tvalidation_1-auc:0.93333\n",
      "[28]\tvalidation_0-error:0.13909\tvalidation_0-logloss:0.51115\tvalidation_0-auc:0.93469\tvalidation_1-error:0.14095\tvalidation_1-logloss:0.51238\tvalidation_1-auc:0.93342\n",
      "[29]\tvalidation_0-error:0.13894\tvalidation_0-logloss:0.50700\tvalidation_0-auc:0.93480\tvalidation_1-error:0.14078\tvalidation_1-logloss:0.50827\tvalidation_1-auc:0.93349\n",
      "[30]\tvalidation_0-error:0.13890\tvalidation_0-logloss:0.50295\tvalidation_0-auc:0.93483\tvalidation_1-error:0.14063\tvalidation_1-logloss:0.50424\tvalidation_1-auc:0.93353\n",
      "[31]\tvalidation_0-error:0.13883\tvalidation_0-logloss:0.49900\tvalidation_0-auc:0.93487\tvalidation_1-error:0.14063\tvalidation_1-logloss:0.50033\tvalidation_1-auc:0.93355\n",
      "[32]\tvalidation_0-error:0.13882\tvalidation_0-logloss:0.49515\tvalidation_0-auc:0.93491\tvalidation_1-error:0.14068\tvalidation_1-logloss:0.49651\tvalidation_1-auc:0.93360\n",
      "[33]\tvalidation_0-error:0.13878\tvalidation_0-logloss:0.49139\tvalidation_0-auc:0.93498\tvalidation_1-error:0.14062\tvalidation_1-logloss:0.49278\tvalidation_1-auc:0.93365\n",
      "[34]\tvalidation_0-error:0.13865\tvalidation_0-logloss:0.48771\tvalidation_0-auc:0.93504\tvalidation_1-error:0.14070\tvalidation_1-logloss:0.48914\tvalidation_1-auc:0.93371\n",
      "[35]\tvalidation_0-error:0.13884\tvalidation_0-logloss:0.48411\tvalidation_0-auc:0.93511\tvalidation_1-error:0.14093\tvalidation_1-logloss:0.48557\tvalidation_1-auc:0.93376\n",
      "[36]\tvalidation_0-error:0.13866\tvalidation_0-logloss:0.48060\tvalidation_0-auc:0.93518\tvalidation_1-error:0.14072\tvalidation_1-logloss:0.48209\tvalidation_1-auc:0.93385\n",
      "[37]\tvalidation_0-error:0.13859\tvalidation_0-logloss:0.47717\tvalidation_0-auc:0.93524\tvalidation_1-error:0.14071\tvalidation_1-logloss:0.47869\tvalidation_1-auc:0.93391\n",
      "[38]\tvalidation_0-error:0.13854\tvalidation_0-logloss:0.47381\tvalidation_0-auc:0.93530\tvalidation_1-error:0.14045\tvalidation_1-logloss:0.47539\tvalidation_1-auc:0.93393\n",
      "[39]\tvalidation_0-error:0.13842\tvalidation_0-logloss:0.47054\tvalidation_0-auc:0.93535\tvalidation_1-error:0.14038\tvalidation_1-logloss:0.47214\tvalidation_1-auc:0.93400\n",
      "[40]\tvalidation_0-error:0.13840\tvalidation_0-logloss:0.46733\tvalidation_0-auc:0.93542\tvalidation_1-error:0.14058\tvalidation_1-logloss:0.46897\tvalidation_1-auc:0.93406\n",
      "[41]\tvalidation_0-error:0.13835\tvalidation_0-logloss:0.46420\tvalidation_0-auc:0.93546\tvalidation_1-error:0.14056\tvalidation_1-logloss:0.46586\tvalidation_1-auc:0.93412\n",
      "[42]\tvalidation_0-error:0.13837\tvalidation_0-logloss:0.46114\tvalidation_0-auc:0.93552\tvalidation_1-error:0.14051\tvalidation_1-logloss:0.46283\tvalidation_1-auc:0.93415\n",
      "[43]\tvalidation_0-error:0.13819\tvalidation_0-logloss:0.45815\tvalidation_0-auc:0.93559\tvalidation_1-error:0.14059\tvalidation_1-logloss:0.45987\tvalidation_1-auc:0.93420\n",
      "[44]\tvalidation_0-error:0.13819\tvalidation_0-logloss:0.45522\tvalidation_0-auc:0.93567\tvalidation_1-error:0.14044\tvalidation_1-logloss:0.45697\tvalidation_1-auc:0.93429\n",
      "[45]\tvalidation_0-error:0.13824\tvalidation_0-logloss:0.45236\tvalidation_0-auc:0.93571\tvalidation_1-error:0.14041\tvalidation_1-logloss:0.45415\tvalidation_1-auc:0.93432\n",
      "[46]\tvalidation_0-error:0.13817\tvalidation_0-logloss:0.44956\tvalidation_0-auc:0.93577\tvalidation_1-error:0.14046\tvalidation_1-logloss:0.45138\tvalidation_1-auc:0.93435\n",
      "[47]\tvalidation_0-error:0.13813\tvalidation_0-logloss:0.44682\tvalidation_0-auc:0.93585\tvalidation_1-error:0.14040\tvalidation_1-logloss:0.44868\tvalidation_1-auc:0.93442\n",
      "[48]\tvalidation_0-error:0.13799\tvalidation_0-logloss:0.44415\tvalidation_0-auc:0.93590\tvalidation_1-error:0.14048\tvalidation_1-logloss:0.44604\tvalidation_1-auc:0.93446\n",
      "[49]\tvalidation_0-error:0.13803\tvalidation_0-logloss:0.44153\tvalidation_0-auc:0.93595\tvalidation_1-error:0.14078\tvalidation_1-logloss:0.44345\tvalidation_1-auc:0.93449\n",
      "[50]\tvalidation_0-error:0.13792\tvalidation_0-logloss:0.43895\tvalidation_0-auc:0.93602\tvalidation_1-error:0.14092\tvalidation_1-logloss:0.44091\tvalidation_1-auc:0.93455\n",
      "[51]\tvalidation_0-error:0.13791\tvalidation_0-logloss:0.43644\tvalidation_0-auc:0.93608\tvalidation_1-error:0.14104\tvalidation_1-logloss:0.43842\tvalidation_1-auc:0.93461\n",
      "[52]\tvalidation_0-error:0.13777\tvalidation_0-logloss:0.43398\tvalidation_0-auc:0.93614\tvalidation_1-error:0.14117\tvalidation_1-logloss:0.43599\tvalidation_1-auc:0.93466\n",
      "[53]\tvalidation_0-error:0.13758\tvalidation_0-logloss:0.43157\tvalidation_0-auc:0.93621\tvalidation_1-error:0.14092\tvalidation_1-logloss:0.43360\tvalidation_1-auc:0.93473\n",
      "[54]\tvalidation_0-error:0.13745\tvalidation_0-logloss:0.42921\tvalidation_0-auc:0.93628\tvalidation_1-error:0.14111\tvalidation_1-logloss:0.43128\tvalidation_1-auc:0.93478\n",
      "[55]\tvalidation_0-error:0.13745\tvalidation_0-logloss:0.42690\tvalidation_0-auc:0.93636\tvalidation_1-error:0.14098\tvalidation_1-logloss:0.42900\tvalidation_1-auc:0.93486\n",
      "[56]\tvalidation_0-error:0.13736\tvalidation_0-logloss:0.42465\tvalidation_0-auc:0.93643\tvalidation_1-error:0.14092\tvalidation_1-logloss:0.42678\tvalidation_1-auc:0.93492\n",
      "[57]\tvalidation_0-error:0.13728\tvalidation_0-logloss:0.42243\tvalidation_0-auc:0.93648\tvalidation_1-error:0.14094\tvalidation_1-logloss:0.42460\tvalidation_1-auc:0.93496\n",
      "[58]\tvalidation_0-error:0.13721\tvalidation_0-logloss:0.42026\tvalidation_0-auc:0.93653\tvalidation_1-error:0.14081\tvalidation_1-logloss:0.42246\tvalidation_1-auc:0.93501\n",
      "[59]\tvalidation_0-error:0.13718\tvalidation_0-logloss:0.41814\tvalidation_0-auc:0.93660\tvalidation_1-error:0.14072\tvalidation_1-logloss:0.42036\tvalidation_1-auc:0.93507\n",
      "[60]\tvalidation_0-error:0.13715\tvalidation_0-logloss:0.41608\tvalidation_0-auc:0.93666\tvalidation_1-error:0.14060\tvalidation_1-logloss:0.41833\tvalidation_1-auc:0.93512\n",
      "[61]\tvalidation_0-error:0.13700\tvalidation_0-logloss:0.41405\tvalidation_0-auc:0.93670\tvalidation_1-error:0.14054\tvalidation_1-logloss:0.41632\tvalidation_1-auc:0.93516\n",
      "[62]\tvalidation_0-error:0.13695\tvalidation_0-logloss:0.41206\tvalidation_0-auc:0.93676\tvalidation_1-error:0.14032\tvalidation_1-logloss:0.41436\tvalidation_1-auc:0.93520\n",
      "[63]\tvalidation_0-error:0.13696\tvalidation_0-logloss:0.41012\tvalidation_0-auc:0.93680\tvalidation_1-error:0.14025\tvalidation_1-logloss:0.41244\tvalidation_1-auc:0.93525\n",
      "[64]\tvalidation_0-error:0.13697\tvalidation_0-logloss:0.40822\tvalidation_0-auc:0.93684\tvalidation_1-error:0.14003\tvalidation_1-logloss:0.41057\tvalidation_1-auc:0.93528\n",
      "[65]\tvalidation_0-error:0.13689\tvalidation_0-logloss:0.40635\tvalidation_0-auc:0.93693\tvalidation_1-error:0.14006\tvalidation_1-logloss:0.40874\tvalidation_1-auc:0.93536\n",
      "[66]\tvalidation_0-error:0.13680\tvalidation_0-logloss:0.40452\tvalidation_0-auc:0.93697\tvalidation_1-error:0.13995\tvalidation_1-logloss:0.40695\tvalidation_1-auc:0.93539\n",
      "[67]\tvalidation_0-error:0.13666\tvalidation_0-logloss:0.40272\tvalidation_0-auc:0.93705\tvalidation_1-error:0.13984\tvalidation_1-logloss:0.40519\tvalidation_1-auc:0.93547\n",
      "[68]\tvalidation_0-error:0.13672\tvalidation_0-logloss:0.40096\tvalidation_0-auc:0.93710\tvalidation_1-error:0.13987\tvalidation_1-logloss:0.40347\tvalidation_1-auc:0.93551\n",
      "[69]\tvalidation_0-error:0.13663\tvalidation_0-logloss:0.39924\tvalidation_0-auc:0.93717\tvalidation_1-error:0.13987\tvalidation_1-logloss:0.40178\tvalidation_1-auc:0.93556\n",
      "[70]\tvalidation_0-error:0.13652\tvalidation_0-logloss:0.39756\tvalidation_0-auc:0.93722\tvalidation_1-error:0.13961\tvalidation_1-logloss:0.40013\tvalidation_1-auc:0.93560\n",
      "[71]\tvalidation_0-error:0.13649\tvalidation_0-logloss:0.39591\tvalidation_0-auc:0.93726\tvalidation_1-error:0.13971\tvalidation_1-logloss:0.39850\tvalidation_1-auc:0.93565\n",
      "[72]\tvalidation_0-error:0.13645\tvalidation_0-logloss:0.39429\tvalidation_0-auc:0.93732\tvalidation_1-error:0.13971\tvalidation_1-logloss:0.39691\tvalidation_1-auc:0.93570\n",
      "[73]\tvalidation_0-error:0.13637\tvalidation_0-logloss:0.39270\tvalidation_0-auc:0.93737\tvalidation_1-error:0.13973\tvalidation_1-logloss:0.39535\tvalidation_1-auc:0.93575\n",
      "[74]\tvalidation_0-error:0.13628\tvalidation_0-logloss:0.39114\tvalidation_0-auc:0.93742\tvalidation_1-error:0.13955\tvalidation_1-logloss:0.39382\tvalidation_1-auc:0.93579\n",
      "[75]\tvalidation_0-error:0.13620\tvalidation_0-logloss:0.38962\tvalidation_0-auc:0.93747\tvalidation_1-error:0.13955\tvalidation_1-logloss:0.39234\tvalidation_1-auc:0.93582\n",
      "[76]\tvalidation_0-error:0.13615\tvalidation_0-logloss:0.38813\tvalidation_0-auc:0.93751\tvalidation_1-error:0.13958\tvalidation_1-logloss:0.39087\tvalidation_1-auc:0.93585\n",
      "[77]\tvalidation_0-error:0.13607\tvalidation_0-logloss:0.38666\tvalidation_0-auc:0.93756\tvalidation_1-error:0.13948\tvalidation_1-logloss:0.38943\tvalidation_1-auc:0.93589\n",
      "[78]\tvalidation_0-error:0.13607\tvalidation_0-logloss:0.38523\tvalidation_0-auc:0.93760\tvalidation_1-error:0.13931\tvalidation_1-logloss:0.38804\tvalidation_1-auc:0.93592\n",
      "[79]\tvalidation_0-error:0.13601\tvalidation_0-logloss:0.38382\tvalidation_0-auc:0.93765\tvalidation_1-error:0.13941\tvalidation_1-logloss:0.38666\tvalidation_1-auc:0.93595\n",
      "[80]\tvalidation_0-error:0.13593\tvalidation_0-logloss:0.38244\tvalidation_0-auc:0.93769\tvalidation_1-error:0.13926\tvalidation_1-logloss:0.38531\tvalidation_1-auc:0.93599\n",
      "[81]\tvalidation_0-error:0.13590\tvalidation_0-logloss:0.38109\tvalidation_0-auc:0.93774\tvalidation_1-error:0.13927\tvalidation_1-logloss:0.38398\tvalidation_1-auc:0.93602\n",
      "[82]\tvalidation_0-error:0.13579\tvalidation_0-logloss:0.37977\tvalidation_0-auc:0.93779\tvalidation_1-error:0.13941\tvalidation_1-logloss:0.38269\tvalidation_1-auc:0.93606\n",
      "[83]\tvalidation_0-error:0.13573\tvalidation_0-logloss:0.37846\tvalidation_0-auc:0.93785\tvalidation_1-error:0.13960\tvalidation_1-logloss:0.38143\tvalidation_1-auc:0.93610\n",
      "[84]\tvalidation_0-error:0.13570\tvalidation_0-logloss:0.37719\tvalidation_0-auc:0.93790\tvalidation_1-error:0.13956\tvalidation_1-logloss:0.38019\tvalidation_1-auc:0.93613\n",
      "[85]\tvalidation_0-error:0.13568\tvalidation_0-logloss:0.37594\tvalidation_0-auc:0.93793\tvalidation_1-error:0.13974\tvalidation_1-logloss:0.37898\tvalidation_1-auc:0.93616\n",
      "[86]\tvalidation_0-error:0.13565\tvalidation_0-logloss:0.37470\tvalidation_0-auc:0.93799\tvalidation_1-error:0.13967\tvalidation_1-logloss:0.37777\tvalidation_1-auc:0.93621\n",
      "[87]\tvalidation_0-error:0.13556\tvalidation_0-logloss:0.37350\tvalidation_0-auc:0.93803\tvalidation_1-error:0.13961\tvalidation_1-logloss:0.37660\tvalidation_1-auc:0.93624\n",
      "[88]\tvalidation_0-error:0.13558\tvalidation_0-logloss:0.37233\tvalidation_0-auc:0.93808\tvalidation_1-error:0.13960\tvalidation_1-logloss:0.37547\tvalidation_1-auc:0.93626\n",
      "[89]\tvalidation_0-error:0.13562\tvalidation_0-logloss:0.37118\tvalidation_0-auc:0.93812\tvalidation_1-error:0.13956\tvalidation_1-logloss:0.37435\tvalidation_1-auc:0.93629\n",
      "[90]\tvalidation_0-error:0.13558\tvalidation_0-logloss:0.37002\tvalidation_0-auc:0.93817\tvalidation_1-error:0.13951\tvalidation_1-logloss:0.37323\tvalidation_1-auc:0.93633\n",
      "[91]\tvalidation_0-error:0.13545\tvalidation_0-logloss:0.36891\tvalidation_0-auc:0.93823\tvalidation_1-error:0.13917\tvalidation_1-logloss:0.37215\tvalidation_1-auc:0.93636\n",
      "[92]\tvalidation_0-error:0.13530\tvalidation_0-logloss:0.36782\tvalidation_0-auc:0.93826\tvalidation_1-error:0.13916\tvalidation_1-logloss:0.37110\tvalidation_1-auc:0.93639\n",
      "[93]\tvalidation_0-error:0.13527\tvalidation_0-logloss:0.36676\tvalidation_0-auc:0.93830\tvalidation_1-error:0.13917\tvalidation_1-logloss:0.37007\tvalidation_1-auc:0.93641\n",
      "[94]\tvalidation_0-error:0.13523\tvalidation_0-logloss:0.36569\tvalidation_0-auc:0.93835\tvalidation_1-error:0.13901\tvalidation_1-logloss:0.36904\tvalidation_1-auc:0.93646\n",
      "[95]\tvalidation_0-error:0.13517\tvalidation_0-logloss:0.36466\tvalidation_0-auc:0.93838\tvalidation_1-error:0.13896\tvalidation_1-logloss:0.36804\tvalidation_1-auc:0.93648\n",
      "[96]\tvalidation_0-error:0.13517\tvalidation_0-logloss:0.36364\tvalidation_0-auc:0.93843\tvalidation_1-error:0.13901\tvalidation_1-logloss:0.36706\tvalidation_1-auc:0.93651\n",
      "[97]\tvalidation_0-error:0.13513\tvalidation_0-logloss:0.36265\tvalidation_0-auc:0.93848\tvalidation_1-error:0.13890\tvalidation_1-logloss:0.36610\tvalidation_1-auc:0.93654\n",
      "[98]\tvalidation_0-error:0.13505\tvalidation_0-logloss:0.36166\tvalidation_0-auc:0.93853\tvalidation_1-error:0.13883\tvalidation_1-logloss:0.36516\tvalidation_1-auc:0.93658\n",
      "[99]\tvalidation_0-error:0.13502\tvalidation_0-logloss:0.36072\tvalidation_0-auc:0.93857\tvalidation_1-error:0.13881\tvalidation_1-logloss:0.36422\tvalidation_1-auc:0.93662\n",
      "xgboost; train time 40.149 s; ROC AUC = 0.936\n"
     ]
    }
   ],
   "source": [
    "evaluate_models(models_cpu)"
   ]
  },
  {
   "cell_type": "code",
   "execution_count": 44,
   "id": "abb460c2-bd11-430e-a1b6-3c060d32a05d",
   "metadata": {},
   "outputs": [
    {
     "name": "stderr",
     "output_type": "stream",
     "text": [
      "/tmp/nmangane/ipykernel_2103/2660663110.py:5: DeprecationWarning: `np.int` is a deprecated alias for the builtin `int`. To silence this warning, use `int` by itself. Doing this will not modify any behavior and is safe. When replacing `np.int`, you may wish to use e.g. `np.int64` or `np.int32` to specify the precision. If you wish to review your current use, check the release note link for additional information.\n",
      "Deprecated in NumPy 1.20; for more details and guidance: https://numpy.org/devdocs/release/1.20.0-notes.html#deprecations\n",
      "  yy = np.arange(len(f_imps)).astype(np.int)\n"
     ]
    },
    {
     "data": {
      "image/png": "[encoded data removed]",
      "text/plain": [
       "<Figure size 432x288 with 1 Axes>"
      ]
     },
     "metadata": {
      "needs_background": "light"
     },
     "output_type": "display_data"
    }
   ],
   "source": [
    "#plot_feature_importances(models_cpu[\"catboost\"].get_feature_importance(), TRAIN_FEATURES, \n",
    "#                         title=f\"Catboost {era} {mode}\")\n",
    "plot_feature_importances(opt_models[mode][\"catboost\"].get_feature_importance(), TRAIN_FEATURES, \n",
    "                         title=f\"Catboost {era} {mode}\")"
   ]
  },
  {
   "cell_type": "code",
   "execution_count": 45,
   "id": "3788f6e8-c9c4-4647-911d-caa320f6e278",
   "metadata": {},
   "outputs": [
    {
     "name": "stderr",
     "output_type": "stream",
     "text": [
      "/tmp/nmangane/ipykernel_2103/2660663110.py:5: DeprecationWarning: `np.int` is a deprecated alias for the builtin `int`. To silence this warning, use `int` by itself. Doing this will not modify any behavior and is safe. When replacing `np.int`, you may wish to use e.g. `np.int64` or `np.int32` to specify the precision. If you wish to review your current use, check the release note link for additional information.\n",
      "Deprecated in NumPy 1.20; for more details and guidance: https://numpy.org/devdocs/release/1.20.0-notes.html#deprecations\n",
      "  yy = np.arange(len(f_imps)).astype(np.int)\n"
     ]
    },
    {
     "data": {
      "image/png": "[encoded data removed]",
      "text/plain": [
       "<Figure size 432x288 with 1 Axes>"
      ]
     },
     "metadata": {
      "needs_background": "light"
     },
     "output_type": "display_data"
    },
    {
     "data": {
      "image/png": "[encoded data removed]",
      "text/plain": [
       "<Figure size 720x2160 with 3 Axes>"
      ]
     },
     "metadata": {
      "needs_background": "light"
     },
     "output_type": "display_data"
    }
   ],
   "source": [
    "#plot_feature_importances(models_cpu[\"xgboost\"].feature_importances_, TRAIN_FEATURES, \n",
    "#                         title=f\"XGBoost {era} {mode}\")\n",
    "#plot_xgboost_validation(models_cpu[\"xgboost\"]) #model.evals_result()\n",
    "plot_feature_importances(opt_models[mode][\"xgboost\"].feature_importances_, TRAIN_FEATURES, \n",
    "                         title=f\"XGBoost {era} {mode}\")\n",
    "plot_xgboost_validation(opt_models[mode][\"xgboost\"]) "
   ]
  },
  {
   "cell_type": "code",
   "execution_count": 26,
   "id": "09937a3e-74e8-4e50-9046-1c66c38e2302",
   "metadata": {},
   "outputs": [],
   "source": [
    "#help(models_cpu[\"xgboost\"].evals_result)\n",
    "#results"
   ]
  },
  {
   "cell_type": "code",
   "execution_count": 46,
   "id": "ee39df80-b57b-4b31-86c0-ad76afab5864",
   "metadata": {},
   "outputs": [
    {
     "name": "stdout",
     "output_type": "stream",
     "text": [
      "vLF catboost\n",
      "0.9410228323727101\n",
      "<catboost.core.CatBoostClassifier object at 0x7f0fbaa322b0> None None None\n"
     ]
    }
   ],
   "source": [
    "#preferred = \"xgboost\"\n",
    "preferred = \"catboost\"\n",
    "if preferred == \"catboost\":\n",
    "    w_test = w_test_cb\n",
    "elif preferred == \"xgboost\":\n",
    "    w_test = w_test_xgb\n",
    "print(mode, preferred)\n",
    "if mode == \"vLF\":\n",
    "    model_vLF = models_cpu[preferred]\n",
    "    print(roc_auc_score(y_test, model_vLF.predict_proba(X_test)[:, 1], sample_weight=w_test))\n",
    "if mode == \"vHF\":\n",
    "    model_vHF = models_cpu[preferred]\n",
    "    print(roc_auc_score(y_test, model_vHF.predict_proba(X_test)[:, 1], sample_weight=w_test))\n",
    "if mode == \"nested_layer1\":\n",
    "    model_nested_layer1 = models_cpu[preferred]\n",
    "    print(roc_auc_score(y_test, model_nested_layer1.predict_proba(X_test)[:, 1], sample_weight=w_test))\n",
    "if mode == \"nested_layer2\":\n",
    "    model_nested_layer2 = models_cpu[preferred]\n",
    "    print(roc_auc_score(y_test, model_nested_layer2.predict_proba(X_test)[:, 1], sample_weight=w_test))\n",
    "print(model_vLF, model_vHF,  model_nested_layer1,  model_nested_layer2)\n",
    "\n",
    "models_cpu[\"catboost\"].save_model(f\"catboost_{mode}_{era}\",\n",
    "                                     format=\"cbm\",\n",
    "                                     export_parameters=None,\n",
    "                                     pool=None\n",
    "                                    )\n",
    "models_cpu[\"xgboost\"].save_model(f\"xgboost_{mode}_{era}.json\")\n",
    "with open(f\"{mode}_{era}.inputs\", \"w\") as fi:\n",
    "    for variable in TRAIN_FEATURES:\n",
    "        fi.write(variable)"
   ]
  },
  {
   "cell_type": "code",
   "execution_count": 28,
   "id": "4200dfbf-f7bc-4d77-b328-74fda48dec10",
   "metadata": {},
   "outputs": [],
   "source": [
    "if model_vLF and model_vHF:\n",
    "    if hasattr(model_vLF, \"feature_importances_\"):\n",
    "        fi1 = model_vLF.feature_importances_\n",
    "    elif hasattr(model_vLF, \"get_feature_importance\"):\n",
    "        fi1 = model_vLF.get_feature_importance()\n",
    "        \n",
    "    if hasattr(model_vHF, \"feature_importances_\"):\n",
    "        fi2 = model_vHF.feature_importances_\n",
    "    elif hasattr(model_vHF, \"get_feature_importance\"):\n",
    "        fi2 = model_vHF.get_feature_importance()\n",
    "        \n",
    "    plot_feature_importances_2d(fi1, TRAIN_FEATURES, \n",
    "                                fi2, TRAIN_FEATURES,\n",
    "                                \"tttt vs ttlight feature importance\", \n",
    "                                \"tttt vs ttbb feature importance\",\n",
    "                                title=preferred)"
   ]
  },
  {
   "cell_type": "code",
   "execution_count": 29,
   "id": "7e1102d1-8236-46cc-b3f5-5d0b30462534",
   "metadata": {},
   "outputs": [],
   "source": [
    "#### TRY PROCESSING ALL THE DATASETS ####"
   ]
  },
  {
   "cell_type": "code",
   "execution_count": 47,
   "id": "1d1bea5d-f4f0-428e-961b-5c2abf7c998b",
   "metadata": {},
   "outputs": [],
   "source": [
    "class SimplePlotter(processor.ProcessorABC):\n",
    "    def __init__(self, channel: str, named_models_features: Any = None, mode = None):\n",
    "        self.channel = channel\n",
    "        self.named_models_features = named_models_features\n",
    "        self.mode = mode\n",
    "\n",
    "    def process(self, events: Any) -> Any:\n",
    "        # Multidimensional histograms are super dangerous... and super fun!!!!\n",
    "        # This might be about 2GB if RAM for the full tttt analysis 50datasets * 50systematics * 10channels(lets do trilepton for funsies)\n",
    "        # * 5btags * 10njets * 10leadleppt * 10subleadleppt * 10HTbins\n",
    "        h = hist.Hist( \n",
    "            hist.axis.StrCategory([], name=\"era\", growth=True),\n",
    "            hist.axis.StrCategory([], name=\"dataset\", growth=True),\n",
    "            hist.axis.StrCategory([], name=\"systematic\", growth=True),\n",
    "            hist.axis.StrCategory(\n",
    "                [], name=\"channel\", label=\"lepton channel\", growth=True\n",
    "            ),\n",
    "            hist.axis.StrCategory(\n",
    "                [], name=\"mva_ver\", label=\"MVA version\", growth=True,\n",
    "                #[\"vLF\", \"vHF\", \"nested_layer1\", \"nested_layer2\"], name=\"mva_ver\", label=\"MVA version\", growth=False\n",
    "            ),\n",
    "            hist.axis.Regular(\n",
    "                4,\n",
    "                0,\n",
    "                4,\n",
    "                name=\"nbtag\",\n",
    "                label=\"$N_{btag}$\",\n",
    "                underflow=False,\n",
    "                overflow=True,\n",
    "            ),\n",
    "            hist.axis.Regular(\n",
    "                10, 2, 12, name=\"njet\", label=\"$N_{jet}$\", underflow=True, overflow=True\n",
    "            ),\n",
    "            hist.axis.Variable(\n",
    "                [300, 400, 500, 600, 700, 800, 900, 1000, 1200, 1500, 2000],\n",
    "                name=\"HT\",\n",
    "                label=r\"$H_{T}$\",\n",
    "            ),\n",
    "            hist.axis.Variable(\n",
    "                [0.0, 0.1, 0.2, 0.3, 0.4, 0.5, 0.6, 0.7, 0.8, 0.9, 1.0],\n",
    "                name=\"mva\",\n",
    "                label=r\"MVA score\",\n",
    "            ),\n",
    "            hist.storage.Weight(),\n",
    "        )        \n",
    "        dataset = events.metadata[\"dataset\"]\n",
    "        era = events.metadata.get(\"era\", None)\n",
    "        is_mc = events.metadata.get(\"is_mc\", None)\n",
    "        train_test = events.metadata.get(\"train_test\", None)\n",
    "        \n",
    "        train_bound = 500\n",
    "        train_mask = events.dsid1k < train_bound\n",
    "        renorm = dict()\n",
    "        #More efficient to only get_features for scale systematics, but... quick and dirty\n",
    "        for syst in [\"nom\"]:\n",
    "            this_wgt = getattr(events, f\"wgt___{syst}\")\n",
    "            #multiplicative weight to scale it back up to 'nominal' size\n",
    "            if self.mode is None:\n",
    "                if train_test is not None:\n",
    "                    raise ValueError(\"mode is set to None but sample is marked as a train_test split\")\n",
    "                fltr = None\n",
    "                renorm[syst] = 1\n",
    "            elif self.mode == \"train\":\n",
    "                if train_test is None:\n",
    "                    raise ValueError(\"mode is set to train but sample is not marked as a train_test split\")\n",
    "                fltr = lambda e: e.dsid1k < train_bound\n",
    "                renorm[syst] = np.sum(this_wgt) / np.sum(this_wgt[train_mask])\n",
    "            elif self.mode == \"test\":\n",
    "                if train_test is None:\n",
    "                    raise ValueError(\"mode is set to test but sample is not marked as a train_test split\")\n",
    "                fltr = lambda e: e.dsid1k >= train_bound\n",
    "                renorm[syst] = np.sum(this_wgt) / np.sum(this_wgt[~train_mask])\n",
    "            #non-train_renorm[syst] = np.sum(this_wgt) / np.sum(this_wgt[~train_mask])\n",
    "            # = np.sum(this_wgt) / (np.sum(this_wgt) - np.sum(this_wgt[train_mask]))\n",
    "            # = train_renorm[syst] / \n",
    "            else:\n",
    "                raise ValueError(\"That just can't be!\")\n",
    "            \n",
    "            \n",
    "            #models_features = [(model_nested_layer1, LAYER1)]\n",
    "            variables = get_features(events, \n",
    "                                 remove_negative_weights=False, # DO NOT DO IT\n",
    "                                 normalize_weights=False, # NEGATORY\n",
    "                                 scale_systematic=\"nom\", # FIXME \n",
    "                                 wgt_systematic=syst,\n",
    "                                 is_mc=is_mc,\n",
    "                                 e_filter=fltr,\n",
    "                                 named_models_features = self.named_models_features,\n",
    "                                )\n",
    "            \n",
    "            if variables[\"wgt\"] is not None:\n",
    "                variables[\"wgt\"] = renorm[syst] * variables[\"wgt\"]\n",
    "            for name, model, features in self.named_models_features:\n",
    "                h.fill(era=era, \n",
    "                       dataset=dataset, \n",
    "                       systematic=syst, \n",
    "                       channel=self.channel, \n",
    "                       mva_ver=name,\n",
    "                       nbtag=variables[\"nMediumDeepJetB\"], \n",
    "                       njet=variables[\"nJet\"], \n",
    "                       HT=variables[\"HT\"], \n",
    "                       mva=variables[name],\n",
    "                       weight=variables[\"wgt\"]\n",
    "                      )\n",
    "        return {\n",
    "            #\"sumw\": {dataset: ak.sum(events.genWeight) if is_mc else 0},\n",
    "            # \"event_id\": {dataset: events.event}, #Need to copy the array somehow, or write it out instead?\n",
    "            \"hist\": h,\n",
    "        }\n",
    "\n",
    "    def postprocess(self, accumulator: Any) -> Any:\n",
    "        return accumulator\n",
    "\n"
   ]
  },
  {
   "cell_type": "code",
   "execution_count": 48,
   "id": "705183f7-519b-4dec-8b41-fd6903186626",
   "metadata": {},
   "outputs": [],
   "source": [
    "#from ColumnarFTA.processors.osdilepton import LeptonJetTest as LJT    \n",
    "#2018___WJets_SL.root    \n",
    "if era == \"2018\":\n",
    "    suberas = [\"A\", \"B\", \"C\", \"D\"]\n",
    "else:\n",
    "    suberas = [\"B\", \"C\", \"D\", \"E\", \"F\"]\n",
    "    \n",
    "channel = \"ElMu\"\n",
    "prefix=f\"/eos/home-n/nmangane/analysis/February10_Baseline_{era}/Nano/{channel}/\"    \n",
    "train_set = {\n",
    "      \"tttt_train\": {\n",
    "        \"files\": [\n",
    "            prefix+f\"{era}___tttt.root\",\n",
    "        ],\n",
    "        \"treename\": \"Events\",\n",
    "        \"metadata\": {\"is_mc\": True, \"era\": era, \"train_test\": True},\n",
    "    },\n",
    "    \"ttjj_train\": {\n",
    "        \"files\": [\n",
    "            prefix+f\"{era}___ttother_{decay}.root\" for decay in [\"SL_nr\", \"SL_fr\", \"SL-GF_fr\", \n",
    "                                                                 \"DL_nr\", \"DL_fr\", \"DL-GF_fr\"]\n",
    "        ],\n",
    "        \"treename\": \"Events\",\n",
    "        \"metadata\": {\"is_mc\": True, \"era\": era, \"train_test\": True},\n",
    "    },\n",
    "    \"ttbb_train\": {\n",
    "        \"files\": [\n",
    "            prefix+f\"{era}___ttbb_{decay}.root\" for decay in [\"SL_nr\", \"SL_fr\", \"SL-GF_fr\", \n",
    "                                                                 \"DL_nr\", \"DL_fr\", \"DL-GF_fr\"]\n",
    "        ],\n",
    "        \"treename\": \"Events\",\n",
    "        \"metadata\": {\"is_mc\": True, \"era\": era, \"train_test\": True},\n",
    "    },\n",
    "} \n",
    "test_set = {\n",
    "      \"tttt\": {\n",
    "        \"files\": [\n",
    "            prefix+f\"{era}___tttt.root\",\n",
    "        ],\n",
    "        \"treename\": \"Events\",\n",
    "        \"metadata\": {\"is_mc\": True, \"era\": era, \"train_test\": True},\n",
    "    },\n",
    "    \"ttjj\": {\n",
    "        \"files\": [\n",
    "            prefix+f\"{era}___ttother_{decay}.root\" for decay in [\"SL_nr\", \"SL_fr\", \"SL-GF_fr\", \n",
    "                                                                 \"DL_nr\", \"DL_fr\", \"DL-GF_fr\"]\n",
    "        ],\n",
    "        \"treename\": \"Events\",\n",
    "        \"metadata\": {\"is_mc\": True, \"era\": era, \"train_test\": True},\n",
    "    },\n",
    "    \"ttbb\": {\n",
    "        \"files\": [\n",
    "            prefix+f\"{era}___ttbb_{decay}.root\" for decay in [\"SL_nr\", \"SL_fr\", \"SL-GF_fr\", \n",
    "                                                                 \"DL_nr\", \"DL_fr\", \"DL-GF_fr\"]\n",
    "        ],\n",
    "        \"treename\": \"Events\",\n",
    "        \"metadata\": {\"is_mc\": True, \"era\": era, \"train_test\": True},\n",
    "    },\n",
    "}\n",
    "fileset = {\n",
    "    f\"{channel}\": {\n",
    "        \"files\": [\n",
    "            prefix+f\"{era}___{channel}_{subera}.root\" for subera in suberas\n",
    "        ],\n",
    "        \"treename\": \"Events\",\n",
    "        \"metadata\": {\"is_mc\": False, \"era\": era},\n",
    "    },\n",
    "    \"DY\": {\n",
    "        \"files\": [\n",
    "            #prefix+f\"{era}___DYJets_DL-HT100.root\",\n",
    "            prefix+f\"{era}___DYJets_DL-HT200.root\",\n",
    "            prefix+f\"{era}___DYJets_DL-HT400.root\",\n",
    "            prefix+f\"{era}___DYJets_DL-HT600.root\",\n",
    "            prefix+f\"{era}___DYJets_DL-HT800.root\",\n",
    "            prefix+f\"{era}___DYJets_DL-HT1200.root\",\n",
    "            prefix+f\"{era}___DYJets_DL-HT2500.root\",\n",
    "        ],\n",
    "        \"treename\": \"Events\",\n",
    "        \"metadata\": {\"is_mc\": True, \"era\": era, \"train\": None},\n",
    "    },\n",
    "    \"WJets\": {\n",
    "        \"files\": [\n",
    "            #prefix+f\"{era}___WJets_SL-HT100.root\",\n",
    "            #prefix+f\"{era}___WJets_SL-HT200.root\",\n",
    "            prefix+f\"{era}___WJets_SL-HT400.root\",\n",
    "            prefix+f\"{era}___WJets_SL-HT600.root\",\n",
    "            prefix+f\"{era}___WJets_SL-HT800.root\",\n",
    "            prefix+f\"{era}___WJets_SL-HT1200.root\",\n",
    "            prefix+f\"{era}___WJets_SL-HT2500.root\",\n",
    "        ],\n",
    "        \"treename\": \"Events\",\n",
    "        \"metadata\": {\"is_mc\": True, \"era\": era, \"train\": None},\n",
    "    },\n",
    "    \"Diboson\": {\n",
    "        \"files\": [\n",
    "            prefix+f\"{era}___WW.root\",\n",
    "            prefix+f\"{era}___WZ.root\",\n",
    "            prefix+f\"{era}___ZZ.root\",\n",
    "        ],\n",
    "        \"treename\": \"Events\",\n",
    "        \"metadata\": {\"is_mc\": True, \"era\": era, \"train\": None},\n",
    "    },\n",
    "    \"ttrare\": {\n",
    "        \"files\": [\n",
    "            prefix+f\"{era}___tttJ.root\",\n",
    "            prefix+f\"{era}___tttW.root\",\n",
    "            prefix+f\"{era}___ttWW.root\",\n",
    "            prefix+f\"{era}___ttWZ.root\",\n",
    "            prefix+f\"{era}___ttWH.root\",\n",
    "            prefix+f\"{era}___ttZH.root\",\n",
    "            prefix+f\"{era}___ttZZ.root\",\n",
    "            prefix+f\"{era}___ttHH.root\",\n",
    "        ],\n",
    "        \"treename\": \"Events\",\n",
    "        \"metadata\": {\"is_mc\": True, \"era\": era, \"train\": None},\n",
    "    },\n",
    "    \"ttVJets\": {\n",
    "        \"files\": [\n",
    "            prefix+f\"{era}___ttZJets.root\",\n",
    "            prefix+f\"{era}___ttWJets.root\",\n",
    "        ],\n",
    "        \"treename\": \"Events\",\n",
    "        \"metadata\": {\"is_mc\": True, \"era\": era, \"train\": None},\n",
    "    },\n",
    "    \"ttH\": {\n",
    "        \"files\": [\n",
    "            prefix+f\"{era}___ttH_DL-bb.root\",\n",
    "            prefix+f\"{era}___ttH_SL-bb.root\",\n",
    "        ],\n",
    "        \"treename\": \"Events\",\n",
    "        \"metadata\": {\"is_mc\": True, \"era\": era, \"train\": None},\n",
    "    },\n",
    "    \"ST\": {\n",
    "        \"files\": [\n",
    "            prefix+f\"{era}___ST_tbarW-NoFHad.root\",\n",
    "            prefix+f\"{era}___ST_tW-NoFHad.root\",\n",
    "        ],\n",
    "        \"treename\": \"Events\",\n",
    "        \"metadata\": {\"is_mc\": True, \"era\": era, \"train\": None},\n",
    "    },\n",
    "}"
   ]
  },
  {
   "cell_type": "code",
   "execution_count": 49,
   "id": "03879d05-59f7-41be-944b-1f96ff6d3ed5",
   "metadata": {},
   "outputs": [
    {
     "data": {
      "application/vnd.jupyter.widget-view+json": {
       "model_id": "ab403c31450444c4a8c24addab950eea",
       "version_major": 2,
       "version_minor": 0
      },
      "text/plain": [
       "Preprocessing:   0%|          | 0/32 [00:00<?, ?file/s]"
      ]
     },
     "metadata": {},
     "output_type": "display_data"
    },
    {
     "data": {
      "application/vnd.jupyter.widget-view+json": {
       "model_id": "f68910b0c319405d98a4dd7975e3a509",
       "version_major": 2,
       "version_minor": 0
      },
      "text/plain": [
       "Processing:   0%|          | 0/33 [00:00<?, ?chunk/s]"
      ]
     },
     "metadata": {},
     "output_type": "display_data"
    },
    {
     "data": {
      "application/vnd.jupyter.widget-view+json": {
       "model_id": "41c635d3f1224780b63b42c49806fa19",
       "version_major": 2,
       "version_minor": 0
      },
      "text/plain": [
       "Preprocessing:   0%|          | 0/13 [00:00<?, ?file/s]"
      ]
     },
     "metadata": {},
     "output_type": "display_data"
    },
    {
     "data": {
      "application/vnd.jupyter.widget-view+json": {
       "model_id": "69bf7abbde4c4e6f9b7cfc9573674200",
       "version_major": 2,
       "version_minor": 0
      },
      "text/plain": [
       "Processing:   0%|          | 0/20 [00:00<?, ?chunk/s]"
      ]
     },
     "metadata": {},
     "output_type": "display_data"
    },
    {
     "data": {
      "application/vnd.jupyter.widget-view+json": {
       "model_id": "4af44b55108141a38948e981bd5c24b1",
       "version_major": 2,
       "version_minor": 0
      },
      "text/plain": [
       "Processing:   0%|          | 0/20 [00:00<?, ?chunk/s]"
      ]
     },
     "metadata": {},
     "output_type": "display_data"
    }
   ],
   "source": [
    "\n",
    "# https://github.com/scikit-hep/uproot4/issues/122\n",
    "uproot.open.defaults[\"xrootd_handler\"] = uproot.source.xrootd.MultithreadedXRootDSource\n",
    "iterative_run = processor.Runner(\n",
    "    # executor = processor.FuturesExecutor(compression=None),\n",
    "    executor=processor.IterativeExecutor(compression=None),\n",
    "    metadata_cache={},\n",
    "    schema=BaseSchema,\n",
    "    maxchunks=None,\n",
    ")\n",
    "nmf = []\n",
    "for m_mode in opt_models:\n",
    "    for classifier in opt_models[m_mode]:\n",
    "        if opt_models[m_mode][classifier] is not None:\n",
    "            nmf.append((f\"{classifier}_{mode}\", opt_models[m_mode][classifier], model_inputs[m_mode][classifier]))\n",
    "#if model_vLF is not None:\n",
    "#    nmf.append((\"vLF\", model_vLF, TRAIN_vLF))\n",
    "#if model_vHF is not None:\n",
    "#    nmf.append((\"vHF\", model_vHF, TRAIN_vHF))\n",
    "#if model_nested_layer1 is not None:\n",
    "#    nmf.append((\"nested_layer1\", model_nested_layer1, TRAIN_nested_layer1))\n",
    "#if model_nested_layer2 is not None:\n",
    "#    nmf.append((\"nested_layer2\", model_nested_layer2, TRAIN_nested_layer2))\n",
    "out1 = iterative_run(\n",
    "    fileset,\n",
    "    treename=\"Events\",\n",
    "    processor_instance=SimplePlotter(channel=channel, \n",
    "                                     named_models_features=nmf,\n",
    "                                     mode=None,\n",
    "                                    ),\n",
    ")\n",
    "out2 = iterative_run(\n",
    "    train_set,\n",
    "    treename=\"Events\",\n",
    "    processor_instance=SimplePlotter(channel=channel, \n",
    "                                     named_models_features=nmf,\n",
    "                                     mode=\"train\"\n",
    "                                    ),\n",
    ")\n",
    "out3 = iterative_run(\n",
    "    test_set,\n",
    "    treename=\"Events\",\n",
    "    processor_instance=SimplePlotter(channel=channel, \n",
    "                                     named_models_features=nmf,\n",
    "                                     mode=\"test\"\n",
    "                                    ),\n",
    ")\n",
    "out = dict()\n",
    "for k, v in out1.items():\n",
    "    out[k] = v\n",
    "for k, v in out2.items():\n",
    "    out[k] += v\n",
    "for k, v in out3.items():\n",
    "    out[k] += v"
   ]
  },
  {
   "cell_type": "code",
   "execution_count": 50,
   "id": "c302e8a4-0420-4b39-9076-bc145f0b10de",
   "metadata": {},
   "outputs": [],
   "source": [
    "sig = NanoEventsFactory.from_root(\n",
    "            \"/eos/home-n/nmangane/analysis/February10_Baseline_2018/Nano/ElMu/2018___tttt.root\",\n",
    "            schemaclass=BaseSchema, \n",
    "            entry_stop=None\n",
    "        ).events()\n",
    "sig_feat = get_features(sig, remove_negative_weights=False, normalize_weights=False, scale_systematic=\"nom\",\n",
    "                    wgt_systematic=\"nom\", is_mc=True, e_filter=None,\n",
    "                    #named_models_features=[(\"vLF\", model_vLF, TRAIN_vLF)],\n",
    "                  )\n",
    "bkg = NanoEventsFactory.from_root(\n",
    "            \"/eos/home-n/nmangane/analysis/February10_Baseline_2018/Nano/ElMu/2018___ttother_DL-GF_fr.root\",\n",
    "            schemaclass=BaseSchema, \n",
    "            entry_stop=None\n",
    "        ).events()\n",
    "bkg_feat = get_features(bkg, remove_negative_weights=False, normalize_weights=False, scale_systematic=\"nom\",\n",
    "                    wgt_systematic=\"nom\", is_mc=True, e_filter=None,\n",
    "                    #named_models_features=[(\"vLF\", model_vLF, TRAIN_vLF)],\n",
    "                  )\n",
    "results = {\"sig\":dict(), \"bkg\": dict()}\n",
    "for name, model, features in [(\"catboost_vLF\", models_cpu[\"catboost\"], TRAIN_vLF),\n",
    "                              (\"xgboost_vLF\", models_cpu[\"xgboost\"], TRAIN_vLF)\n",
    "                             ]:\n",
    "    inputs = np.column_stack([sig_feat[feat] for feat in features])\n",
    "    results[\"sig\"][name] = model.predict_proba(inputs)\n",
    "    inputs = np.column_stack([bkg_feat[feat] for feat in features])\n",
    "    results[\"bkg\"][name] = model.predict_proba(inputs)"
   ]
  },
  {
   "cell_type": "code",
   "execution_count": 51,
   "id": "59d16aaf-5254-479d-b754-c935004cf78d",
   "metadata": {},
   "outputs": [
    {
     "name": "stdout",
     "output_type": "stream",
     "text": [
      "catboost\n",
      "\tsignal 0.821423526282373 0.178576473717627\n",
      "\tbackground 0.24873444362952643 0.7512655563704735\n",
      "xgboost\n",
      "\tsignal 0.7393949 0.26060507\n",
      "\tbackground 0.3212832 0.6787168\n"
     ]
    }
   ],
   "source": [
    "print(\"catboost\")\n",
    "print(\"\\tsignal\", np.mean(results[\"sig\"]['catboost_vLF'][:, 0]), np.mean(results[\"sig\"]['catboost_vLF'][:, 1]))\n",
    "print(\"\\tbackground\", np.mean(results[\"bkg\"]['catboost_vLF'][:, 0]), np.mean(results[\"bkg\"]['catboost_vLF'][:, 1]))\n",
    "print(\"xgboost\")\n",
    "print(\"\\tsignal\", np.mean(results[\"sig\"]['xgboost_vLF'][:, 0]), np.mean(results[\"sig\"]['xgboost_vLF'][:, 1]))\n",
    "print(\"\\tbackground\", np.mean(results[\"bkg\"]['xgboost_vLF'][:, 0]), np.mean(results[\"bkg\"]['xgboost_vLF'][:, 1]))"
   ]
  },
  {
   "cell_type": "code",
   "execution_count": 73,
   "id": "6d657aac-6e8f-4c6b-9ecf-76a3a2ede281",
   "metadata": {},
   "outputs": [
    {
     "name": "stderr",
     "output_type": "stream",
     "text": [
      "/afs/cern.ch/user/n/nmangane/.local/lib/python3.9/site-packages/boost_histogram/_internal/hist.py:872: UserWarning: List indexing selection is experimental. Removed bins are not placed in overflow.\n",
      "  warnings.warn(\n",
      "/afs/cern.ch/user/n/nmangane/.local/lib/python3.9/site-packages/boost_histogram/_internal/hist.py:872: UserWarning: List indexing selection is experimental. Removed bins are not placed in overflow.\n",
      "  warnings.warn(\n",
      "/afs/cern.ch/user/n/nmangane/.local/lib/python3.9/site-packages/boost_histogram/_internal/hist.py:872: UserWarning: List indexing selection is experimental. Removed bins are not placed in overflow.\n",
      "  warnings.warn(\n",
      "/afs/cern.ch/user/n/nmangane/.local/lib/python3.9/site-packages/boost_histogram/_internal/hist.py:872: UserWarning: List indexing selection is experimental. Removed bins are not placed in overflow.\n",
      "  warnings.warn(\n",
      "/afs/cern.ch/user/n/nmangane/.local/lib/python3.9/site-packages/boost_histogram/_internal/hist.py:872: UserWarning: List indexing selection is experimental. Removed bins are not placed in overflow.\n",
      "  warnings.warn(\n",
      "/afs/cern.ch/user/n/nmangane/.local/lib/python3.9/site-packages/boost_histogram/_internal/hist.py:872: UserWarning: List indexing selection is experimental. Removed bins are not placed in overflow.\n",
      "  warnings.warn(\n"
     ]
    },
    {
     "data": {
      "image/png": "[encoded data removed]",
      "text/plain": [
       "<Figure size 1440x1152 with 6 Axes>"
      ]
     },
     "metadata": {
      "needs_background": "light"
     },
     "output_type": "display_data"
    }
   ],
   "source": [
    "test = out[\"hist\"][{\"era\":\"2018\", \"systematic\": \"nom\", \"channel\":\"ElMu\"}]\n",
    "fig, axs = plt.subplots(2, 3, figsize=(20, 16))\n",
    "for i, model in enumerate([\"catboost\", \"xgboost\"]):\n",
    "    for j, sample in enumerate([\"tttt\", \"ttjj\", \"ttbb\"]):\n",
    "        h_train = test[[sample+\"_train\"], [model+'_'+mode], ...].project(\"mva\")\n",
    "        h_test = test[[sample], [model+'_'+mode], ...].project(\"mva\")\n",
    "        #axs[j].plot(h, style='fill')\n",
    "        axs[i, j].stairs(\n",
    "                edges=h_train.axes[0].edges,\n",
    "                baseline=h_train.values() - np.sqrt(h_train.variances()),\n",
    "                values=h_train.values() + np.sqrt(h_train.variances()),\n",
    "                hatch=\"///\",\n",
    "                label=sample+\" train\",\n",
    "                facecolor=\"blue\",\n",
    "                linewidth=0,\n",
    "                color=\"blue\",\n",
    "            )\n",
    "        h_test.plot1d(\n",
    "                    ax=axs[i, j], histtype=\"errorbar\", color=\"black\", label=sample+\" test\"\n",
    "                )\n",
    "        axs[i, j].set_title(sample)\n",
    "        axs[i, j].legend()\n",
    "\n",
    "      #      components = self.background.plot1d(\n",
    "      #      ax=subpad,\n",
    "      #      stack=True,\n",
    "      #      overlay=\"process\",\n",
    "      #      histtype=\"fill\",\n",
    "      #      edgecolor=(0, 0, 0, 0.3),\n",
    "      #  )\n",
    "fig.savefig(f\"{mode}_traintest_sigbkg.pdf\", format=\"pdf\")"
   ]
  },
  {
   "cell_type": "code",
   "execution_count": 83,
   "id": "e34ebaca-0c69-4f99-bc9f-6f76fe820bd7",
   "metadata": {},
   "outputs": [
    {
     "name": "stderr",
     "output_type": "stream",
     "text": [
      "/afs/cern.ch/user/n/nmangane/.local/lib/python3.9/site-packages/boost_histogram/_internal/hist.py:872: UserWarning: List indexing selection is experimental. Removed bins are not placed in overflow.\n",
      "  warnings.warn(\n",
      "/afs/cern.ch/user/n/nmangane/.local/lib/python3.9/site-packages/boost_histogram/_internal/hist.py:872: UserWarning: List indexing selection is experimental. Removed bins are not placed in overflow.\n",
      "  warnings.warn(\n"
     ]
    },
    {
     "data": {
      "image/png": "[encoded data removed]",
      "text/plain": [
       "<Figure size 2160x1080 with 2 Axes>"
      ]
     },
     "metadata": {
      "needs_background": "light"
     },
     "output_type": "display_data"
    }
   ],
   "source": [
    "test = out[\"hist\"][{\"era\":\"2018\", \"systematic\": \"nom\", \"channel\":\"ElMu\"}]\n",
    "fig, axs = plt.subplots(1, 2, figsize=(30, 15))\n",
    "for i, model in enumerate([\"catboost\", \"xgboost\"]):\n",
    "    bkg = test[['ST', 'ttH', 'ttVJets', 'ttrare', 'Diboson', 'WJets', 'DY', 'ttbb', 'ttjj'],\n",
    "               [model+'_'+mode], ...].project(\"mva\", \"dataset\")\n",
    "    sig = test[['tttt'], [model+'_'+mode], ...].project(\"mva\")\n",
    "    data = test[['ElMu'], [model+'_'+mode], ...].project(\"mva\")\n",
    "    components = bkg.plot1d(\n",
    "        ax=axs[i],\n",
    "        stack=True,\n",
    "        overlay=\"dataset\",\n",
    "        histtype=\"fill\",\n",
    "        edgecolor=(0, 0, 0, 0.3),\n",
    "    )\n",
    "    axs[i].stairs(\n",
    "                edges=sig.axes[0].edges,\n",
    "                baseline=(bkg.project(\"mva\").values()), # - np.sqrt((bkg.project(\"mva\")+sig).variances()),\n",
    "                values=(bkg.project(\"mva\")+sig).values(), # + np.sqrt((bkg.project(\"mva\")+sig).variances()),\n",
    "                #hatch=\"///\",\n",
    "                label=\"tttt\",\n",
    "                facecolor=\"red\",\n",
    "                linewidth=1,\n",
    "                color=\"red\",\n",
    "    )\n",
    "    data.plot1d(\n",
    "        ax=axs[i], histtype=\"errorbar\", color=\"black\", label=\"data\"\n",
    "    )\n",
    "    axs[i].set_title(mode+\" \"+model)\n",
    "    axs[i].set_yscale('log')\n",
    "    axs[i].legend()\n",
    "\n",
    "\n",
    "fig.savefig(f\"{mode}_stack.pdf\", format=\"pdf\")"
   ]
  },
  {
   "cell_type": "code",
   "execution_count": 53,
   "id": "6202b6de-e955-450b-b320-72145e933d85",
   "metadata": {},
   "outputs": [
    {
     "data": {
      "text/html": [
       "<html>\n",
       "<div style=\"display:flex; align-items:center;\">\n",
       "<div style=\"width:290px;\">\n",
       "<svg xmlns=\"http://www.w3.org/2000/svg\" viewBox=\"-10 -10 220 220\">\n",
       "<rect x=\"0\" y=\"0\" width=\"160\" height=\"160\" style=\"fill:white;opacity:.5;stroke-width:2;stroke:currentColor;\"/>\n",
       "<rect x=\"20\" y=\"20\" width=\"160\" height=\"160\" style=\"fill:white;opacity:.5;stroke-width:2;stroke:currentColor;\"/>\n",
       "<rect x=\"40\" y=\"40\" width=\"160\" height=\"160\" style=\"fill:white;opacity:.5;stroke-width:2;stroke:currentColor;\"/>\n",
       "<text x=\"120.0\" y=\"120.0\" style=\"font-size: 26pt; font-family: verdana; font-style: bold; fill: black;\" text-anchor=\"middle\" alignment-baseline=\"middle\">\n",
       "6D\n",
       "</text>\n",
       "</svg>\n",
       "</div>\n",
       "<div style=\"flex=grow:1;\">\n",
       "StrCategory(['ST', 'ttH', 'ttVJets', 'ttrare', 'Diboson', 'WJets', 'DY', 'ElMu', 'ttbb_train', 'ttjj_train', 'tttt_train', 'ttbb', 'ttjj', 'tttt'], growth=True, name='dataset', label='dataset')<br/>\n",
       "StrCategory(['catboost_vLF', 'xgboost_vLF'], growth=True, name='mva_ver', label='MVA version')<br/>\n",
       "Regular(4, 0, 4, underflow=False, name='nbtag', label='$N_{btag}$')<br/>\n",
       "Regular(10, 2, 12, name='njet', label='$N_{jet}$')<br/>\n",
       "Variable([300, 400, 500, 600, 700, 800, 900, 1000, 1200, 1500, 2000], name='HT', label='$H_{T}$')<br/>\n",
       "Variable([0, 0.1, 0.2, 0.3, 0.4, 0.5, 0.6, 0.7, 0.8, 0.9, 1], name='mva', label='MVA score')<br/>\n",
       "<hr style=\"margin-top:.2em; margin-bottom:.2em;\"/>\n",
       "Weight() Σ=WeightedSum(value=36061.9, variance=14368.9) <em>(WeightedSum(value=36819.9, variance=14688.4) with flow)</em>\n",
       "\n",
       "</div>\n",
       "</div>\n",
       "</html>"
      ],
      "text/plain": [
       "Hist(\n",
       "  StrCategory(['ST', 'ttH', 'ttVJets', 'ttrare', 'Diboson', 'WJets', 'DY', 'ElMu', 'ttbb_train', 'ttjj_train', 'tttt_train', 'ttbb', 'ttjj', 'tttt'], growth=True, name='dataset', label='dataset'),\n",
       "  StrCategory(['catboost_vLF', 'xgboost_vLF'], growth=True, name='mva_ver', label='MVA version'),\n",
       "  Regular(4, 0, 4, underflow=False, name='nbtag', label='$N_{btag}$'),\n",
       "  Regular(10, 2, 12, name='njet', label='$N_{jet}$'),\n",
       "  Variable([300, 400, 500, 600, 700, 800, 900, 1000, 1200, 1500, 2000], name='HT', label='$H_{T}$'),\n",
       "  Variable([0, 0.1, 0.2, 0.3, 0.4, 0.5, 0.6, 0.7, 0.8, 0.9, 1], name='mva', label='MVA score'),\n",
       "  storage=Weight()) # Sum: WeightedSum(value=36061.9, variance=14368.9) (WeightedSum(value=36819.9, variance=14688.4) with flow)"
      ]
     },
     "execution_count": 53,
     "metadata": {},
     "output_type": "execute_result"
    }
   ],
   "source": [
    "#test[[\"tttt\", \"tttt_train\", \"ttjj\", \"ttjj_train\", \"ttbb\", \"ttbb_train\"], \n",
    "#     ['vLF'], \n",
    "#     ...].project(\"mva\", \"dataset\").plot(density=True)\n",
    "test"
   ]
  },
  {
   "cell_type": "code",
   "execution_count": 58,
   "id": "0fbcc9a8-0892-4a01-bac2-0ac9e68de7de",
   "metadata": {},
   "outputs": [
    {
     "name": "stdout",
     "output_type": "stream",
     "text": [
      "[ 4.26054198e-05  2.79952107e-02  5.37773629e-02 -9.67943349e-03\n",
      "  5.26123802e-02 -5.29842926e-02 -7.93066286e-02 -6.80532573e-02\n",
      " -2.54256195e-02 -8.07370769e-03]\n"
     ]
    }
   ],
   "source": [
    "diff = test[\"tttt\", \"vHF\", ...].project(\"mva\").to_numpy()[0] - test[\"tttt_train\", \"vHF\", ...].project(\"mva\").to_numpy()[0]\n",
    "print(diff)"
   ]
  },
  {
   "cell_type": "code",
   "execution_count": 59,
   "id": "430d8dbf-c76b-40ad-ad20-c9703eb88362",
   "metadata": {},
   "outputs": [],
   "source": [
    "#OLDER STUFF#"
   ]
  },
  {
   "cell_type": "code",
   "execution_count": 160,
   "id": "628e54a0-3e3c-47de-9c97-32ac8e3054ec",
   "metadata": {},
   "outputs": [
    {
     "name": "stdout",
     "output_type": "stream",
     "text": [
      "CATBOOST AUC\n",
      "0.8539057567732808\n",
      "XGB AUC\n",
      "0.6133516187703523\n"
     ]
    }
   ],
   "source": [
    "print(\"CATBOOST AUC\")\n",
    "print(roc_auc_score(y_test, clf_cb.predict_proba(X_test)[:, 1], sample_weight=w_test))\n",
    "print(\"XGB AUC\")\n",
    "print(roc_auc_score(y_test, clf_xgb.predict_proba(X_test)[:, 1], sample_weight=w_test))"
   ]
  },
  {
   "cell_type": "code",
   "execution_count": 161,
   "id": "9cc16d3a-e7f4-4ef5-b525-7408f80616e7",
   "metadata": {},
   "outputs": [
    {
     "name": "stderr",
     "output_type": "stream",
     "text": [
      "/tmp/nmangane/ipykernel_25064/2498021274.py:5: DeprecationWarning: `np.int` is a deprecated alias for the builtin `int`. To silence this warning, use `int` by itself. Doing this will not modify any behavior and is safe. When replacing `np.int`, you may wish to use e.g. `np.int64` or `np.int32` to specify the precision. If you wish to review your current use, check the release note link for additional information.\n",
      "Deprecated in NumPy 1.20; for more details and guidance: https://numpy.org/devdocs/release/1.20.0-notes.html#deprecations\n",
      "  yy = np.arange(len(f_imps)).astype(np.int)\n"
     ]
    },
    {
     "data": {
      "image/png": "[encoded data removed]",
      "text/plain": [
       "<Figure size 432x288 with 1 Axes>"
      ]
     },
     "metadata": {
      "needs_background": "light"
     },
     "output_type": "display_data"
    }
   ],
   "source": [
    "cb_fi = clf_cb.get_feature_importance()\n",
    "plot_feature_importances(cb_fi, TRAIN_FEATURES, title=\"Catboost\")\n",
    "#for feat, imp in sorted(zip(TRAIN_FEATURES, cb_fi), key=lambda tup: tup[1], reverse=True):\n",
    "#    print(f\"{feat:20s} \\t {imp}\")"
   ]
  },
  {
   "cell_type": "code",
   "execution_count": 162,
   "id": "c2afac76-8019-4b6a-b68d-09a2ba6b1647",
   "metadata": {},
   "outputs": [
    {
     "name": "stderr",
     "output_type": "stream",
     "text": [
      "/tmp/nmangane/ipykernel_25064/2498021274.py:5: DeprecationWarning: `np.int` is a deprecated alias for the builtin `int`. To silence this warning, use `int` by itself. Doing this will not modify any behavior and is safe. When replacing `np.int`, you may wish to use e.g. `np.int64` or `np.int32` to specify the precision. If you wish to review your current use, check the release note link for additional information.\n",
      "Deprecated in NumPy 1.20; for more details and guidance: https://numpy.org/devdocs/release/1.20.0-notes.html#deprecations\n",
      "  yy = np.arange(len(f_imps)).astype(np.int)\n"
     ]
    },
    {
     "data": {
      "image/png": "[encoded data removed]",
      "text/plain": [
       "<Figure size 432x288 with 1 Axes>"
      ]
     },
     "metadata": {
      "needs_background": "light"
     },
     "output_type": "display_data"
    }
   ],
   "source": [
    "xgb_fi = clf_xgb.feature_importances_\n",
    "plot_feature_importances(xgb_fi, TRAIN_FEATURES, title=\"XGBoost\")\n",
    "#for feat, imp in sorted(zip(TRAIN_FEATURES, xgb_fi), key=lambda tup: tup[1], reverse=True):\n",
    "#    print(f\"{feat:20s} \\t {imp}\")"
   ]
  },
  {
   "cell_type": "code",
   "execution_count": 163,
   "id": "ec27d5de-a162-4953-a01c-d5ed4160823c",
   "metadata": {},
   "outputs": [],
   "source": [
    "#for field in events.fields:\n",
    "#    print(f\"{field:35s}\\t\\t{(np.mean(ak.num(field, axis=0)))}\\t{(np.var(ak.num(field, axis=0)))}\")"
   ]
  },
  {
   "cell_type": "code",
   "execution_count": null,
   "id": "2abd2579-0e19-4724-952b-70e9ddc9758e",
   "metadata": {},
   "outputs": [],
   "source": []
  },
  {
   "cell_type": "code",
   "execution_count": 29,
   "id": "92a4a4af-4e19-4eb4-a0d3-238a90a35d7f",
   "metadata": {},
   "outputs": [
    {
     "data": {
      "text/plain": [
       "<Array [4, 12, 7, 6, 8, 10, ... 5, 2, 6, 8, 7] type='10000 * int64'>"
      ]
     },
     "execution_count": 29,
     "metadata": {},
     "output_type": "execute_result"
    }
   ],
   "source": []
  },
  {
   "cell_type": "code",
   "execution_count": 33,
   "id": "07d55154-7a77-42c6-b061-7cb3f6c6e2ab",
   "metadata": {},
   "outputs": [
    {
     "name": "stdout",
     "output_type": "stream",
     "text": [
      "263\n",
      "34\n",
      "229\n",
      "['wgt___nom', 'wgt___OSDL_2018_jesTotalDown', 'wgt___OSDL_2018_HEMDown', 'wgt___OSDL_2018_pileupDown', 'wgt___OSDL_2018_jerDown', 'wgt___OSDL_RunII_btagSF_shape_hfDown', 'wgt___OSDL_2018_btagSF_shape_hfstats1Down', 'wgt___OSDL_2018_btagSF_shape_hfstats2Down', 'wgt___OSDL_RunII_btagSF_shape_cferr1Down', 'wgt___OSDL_RunII_btagSF_shape_cferr2Down', 'wgt___OSDL_RunII_btagSF_shape_lfDown', 'wgt___OSDL_2018_btagSF_shape_lfstats1Down', 'wgt___OSDL_2018_btagSF_shape_lfstats2Down', 'wgt___OSDL_RunII_ISRUp', 'wgt___OSDL_RunII_FSRUp', 'wgt___OSDL_RunII_muFNomRUp', 'wgt___OSDL_RunII_muRNomFUp', 'wgt___OSDL_RunII_muRFcorrelatedDown', 'wgt___OSDL_RunII_pdf2', 'wgt___OSDL_RunII_pdf4', 'wgt___OSDL_RunII_pdf6', 'wgt___OSDL_RunII_pdf8', 'wgt___OSDL_RunII_pdf10', 'wgt___OSDL_RunII_pdf12', 'wgt___OSDL_RunII_pdf14', 'wgt___OSDL_RunII_pdf16', 'wgt___OSDL_RunII_pdf18', 'wgt___OSDL_RunII_pdf20', 'wgt___OSDL_RunII_pdf22', 'wgt___OSDL_RunII_pdf24', 'wgt___OSDL_RunII_pdf26', 'wgt___OSDL_RunII_pdf28', 'wgt___OSDL_RunII_pdf30', 'wgt___OSDL_RunII_pdf32']\n"
     ]
    }
   ],
   "source": [
    "all_fields = events.fields\n",
    "print(len(all_fields))\n",
    "wgts = [all_fields.pop(all_fields.index(f)) for f in all_fields if f.startswith(\"wgt_\")]\n",
    "\n",
    "print(len(wgts))\n",
    "print(len(all_fields))"
   ]
  },
  {
   "cell_type": "code",
   "execution_count": null,
   "id": "a6066611-7857-4353-8632-10bc673033d8",
   "metadata": {},
   "outputs": [],
   "source": []
  }
 ],
 "metadata": {
  "kernelspec": {
   "display_name": "Python 3 (ipykernel)",
   "language": "python",
   "name": "python3"
  },
  "language_info": {
   "codemirror_mode": {
    "name": "ipython",
    "version": 3
   },
   "file_extension": ".py",
   "mimetype": "text/x-python",
   "name": "python",
   "nbconvert_exporter": "python",
   "pygments_lexer": "ipython3",
   "version": "3.9.10"
  }
 },
 "nbformat": 4,
 "nbformat_minor": 5
}

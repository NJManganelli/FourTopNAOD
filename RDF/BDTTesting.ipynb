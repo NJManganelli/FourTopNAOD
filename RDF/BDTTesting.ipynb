{
 "cells": [
  {
   "cell_type": "code",
   "execution_count": 1,
   "id": "95020edb-f791-4724-9ea5-c8666ce232ee",
   "metadata": {},
   "outputs": [
    {
     "name": "stderr",
     "output_type": "stream",
     "text": [
      "/afs/cern.ch/user/n/nmangane/.local/lib/python3.9/site-packages/xgboost/compat.py:36: FutureWarning: pandas.Int64Index is deprecated and will be removed from pandas in a future version. Use pandas.Index with the appropriate dtype instead.\n",
      "  from pandas import MultiIndex, Int64Index\n"
     ]
    }
   ],
   "source": [
    "import awkward as ak\n",
    "import numpy as np\n",
    "import pandas as pd\n",
    "import matplotlib.pyplot as plt\n",
    "import os\n",
    "from sklearn.metrics import roc_auc_score\n",
    "from sklearn.model_selection import train_test_split\n",
    "from sklearn.base import clone\n",
    "from tqdm import tqdm\n",
    "import xgboost\n",
    "import catboost\n",
    "import coffea\n",
    "import hist\n",
    "import vector\n",
    "vector.register_awkward()"
   ]
  },
  {
   "cell_type": "code",
   "execution_count": 2,
   "id": "148e2c13-f19d-4c75-ae99-96923ef2243d",
   "metadata": {},
   "outputs": [],
   "source": [
    "#help(train_test_split)"
   ]
  },
  {
   "cell_type": "code",
   "execution_count": 3,
   "id": "28ce27cc-87d8-4ff8-8563-6c5ef0c04f66",
   "metadata": {},
   "outputs": [],
   "source": [
    "from coffea import processor\n",
    "from coffea.nanoevents import NanoEventsFactory, NanoAODSchema, BaseSchema"
   ]
  },
  {
   "cell_type": "code",
   "execution_count": 4,
   "id": "8c1421e7-f060-4279-9deb-92e8b543d3c4",
   "metadata": {},
   "outputs": [],
   "source": [
    "tttt = NanoEventsFactory.from_root(\n",
    "    \"/eos/home-n/nmangane/analysis/February10_Baseline_2018/Nano/ElMu/2018___tttt.root\",\n",
    "    schemaclass=BaseSchema, \n",
    "    entry_stop=None\n",
    ").events()\n",
    "#tttt = tttt[tttt.dsid1k < 50]\n",
    "ttlight = NanoEventsFactory.from_root(\n",
    "    \"/eos/home-n/nmangane/analysis/February10_Baseline_2018/Nano/ElMu/2018___ttother_DL-GF_fr.root\", \n",
    "    schemaclass=BaseSchema, \n",
    "    entry_stop=None\n",
    ").events()\n",
    "#ttlight = ttlight[ttlight.dsid1k < 50] #Need to recreate this dataset... le sigh\n",
    "ttbb = NanoEventsFactory.from_root(\n",
    "    \"/eos/home-n/nmangane/analysis/February10_Baseline_2018/Nano/ElMu/2018___ttbb_DL-GF_fr.root\", \n",
    "    schemaclass=BaseSchema, \n",
    "    entry_stop=None\n",
    ").events()\n",
    "#mumu_tttt = NanoEventsFactory.from_root(\n",
    "#    \"/eos/home-n/nmangane/analysis/February10_Baseline_2018/Nano/MuMu/2018___tttt.root\", schemaclass=BaseSchema, entry_stop=10000\n",
    "#).events()"
   ]
  },
  {
   "cell_type": "code",
   "execution_count": 5,
   "id": "8bced953-bc61-4593-8e01-b904bc5706f9",
   "metadata": {},
   "outputs": [],
   "source": [
    "events = tttt"
   ]
  },
  {
   "cell_type": "code",
   "execution_count": 6,
   "id": "df47cefe-3ced-4cee-888f-3dc89519dc58",
   "metadata": {},
   "outputs": [
    {
     "data": {
      "text/plain": [
       "(208181, 744126, 24965)"
      ]
     },
     "execution_count": 6,
     "metadata": {},
     "output_type": "execute_result"
    }
   ],
   "source": [
    "len(tttt), len(ttlight), len(ttbb)"
   ]
  },
  {
   "cell_type": "code",
   "execution_count": null,
   "id": "dcda5d80-5190-4c70-aafe-59593afc7249",
   "metadata": {},
   "outputs": [],
   "source": [
    "model_vLF = None\n",
    "model_vHF = None\n",
    "model_nested_layer1 = None\n",
    "model_nested_layer2 = None"
   ]
  },
  {
   "cell_type": "code",
   "execution_count": 7,
   "id": "b7d8ef85-711c-4efc-900d-da147ec10d70",
   "metadata": {},
   "outputs": [],
   "source": [
    "def get_features(events, \n",
    "                 remove_negative_weights=False, \n",
    "                 scale_systematic=\"nom\", \n",
    "                 wgt_systematic=\"nom\", \n",
    "                 e_filter=lambda e: e.dsid1k < 500,\n",
    "                 models_features=None\n",
    "                ):\n",
    "    ret = dict()\n",
    "    mus = ak.zip({\"pt\": events.FTAMuon_pt, \n",
    "                  \"eta\": events.FTAMuon_eta, \n",
    "                  \"phi\": events.FTAMuon_phi, \n",
    "                  \"mass\": events.FTAMuon_mass,\n",
    "                  \"loose\": events.FTAMuon_looseId,\n",
    "                  #\"isolation\": (events.FTAMuon_pfIsoId >= 4)\n",
    "                 },\n",
    "                 with_name=\"Momentum4D\"\n",
    "                )\n",
    "    els = ak.zip({\"pt\": events.FTAElectron_pt, \n",
    "                  \"eta\": events.FTAElectron_eta, \n",
    "                  \"phi\": events.FTAElectron_phi, \n",
    "                  \"mass\": events.FTAElectron_mass,\n",
    "                  \"loose\": (events.FTAElectron_cutBased >= 2),\n",
    "                  #\"isolation\": (don't have it... le sigh)\n",
    "                 },\n",
    "                 with_name=\"Momentum4D\"\n",
    "                )\n",
    "    jets = ak.zip({\"pt\": getattr(events, f\"FTAJet__{scale_systematic}_pt\"), \n",
    "                  \"eta\": getattr(events, f\"FTAJet__{scale_systematic}_eta\"), \n",
    "                  \"phi\": getattr(events, f\"FTAJet__{scale_systematic}_phi\"), \n",
    "                  \"mass\": getattr(events, f\"FTAJet__{scale_systematic}_mass\"),\n",
    "                  \"btag\": getattr(events, f\"FTAJet__{scale_systematic}_DeepJetB\"),\n",
    "                 },\n",
    "                 with_name=\"Momentum4D\"\n",
    "                )\n",
    "\n",
    "    selection = (\n",
    "        (ak.num(getattr(events, f\"FTAJet__{scale_systematic}_pt\"), axis=1) >= 4) \n",
    "        & (ak.sum(getattr(events, f\"FTAJet__{scale_systematic}_pt\"), axis=1) >= 500)\n",
    "        & (np.abs(getattr(events, f\"FTAMuon_InvariantMass\") - 91) > 15)\n",
    "        & (\n",
    "            (getattr(events, f\"FTAMuon_InvariantMass\") < 0)\n",
    "            | (getattr(events, f\"FTAMuon_InvariantMass\") > 20)\n",
    "        )\n",
    "        & (\n",
    "            (ak.num(els, axis=1) + ak.num(mus, axis=1)) == 2\n",
    "        )\n",
    "        & (getattr(events, f\"nMediumDeepJetB__{scale_systematic}\") > 1)\n",
    "    )\n",
    "    if remove_negative_weights:\n",
    "        selection = selection & (getattr(events, f\"wgt___{wgt_systematic}\") > 0)\n",
    "    events = events[selection]\n",
    "    \n",
    "    if e_filter:\n",
    "        events = events[e_filter(events)]\n",
    "    \n",
    "    ret[\"MET_pt\"] = getattr(events, f\"FTAMET__{scale_systematic}_pt\")\n",
    "    ret[\"MET_phi\"] = getattr(events, f\"FTAMET__{scale_systematic}_phi\")\n",
    "    ret[\"Lepton1_pt\"] = events.FTALepton1_pt\n",
    "    ret[\"Lepton2_pt\"] = events.FTALepton2_pt\n",
    "    ret[\"Lepton1_eta\"] = events.FTALepton1_eta\n",
    "    ret[\"Lepton2_eta\"] = events.FTALepton2_eta\n",
    "    ret[\"nMediumDeepJetB\"] = getattr(events, f\"nMediumDeepJetB__{scale_systematic}\")\n",
    "    ret[\"nJet\"] = np.asarray(ak.num(getattr(events, f\"FTAJet__{scale_systematic}_pt\"), axis=1))\n",
    "    #Add in the 4+ jet pts, the lepton isolations, the 4+ jet btag discriminants\n",
    "    ret[\"ST\"] = getattr(events, f\"ST__{scale_systematic}\")\n",
    "    ret[\"HT\"] = getattr(events, f\"HT__{scale_systematic}\")\n",
    "    ret[\"HT2M\"] = getattr(events, f\"HT2M__{scale_systematic}\")\n",
    "    ret[\"HTRat\"] = getattr(events, f\"HTRat__{scale_systematic}\")\n",
    "    ret[\"H\"] = getattr(events, f\"H__{scale_systematic}\")\n",
    "    ret[\"H2M\"] = getattr(events, f\"H2M__{scale_systematic}\")\n",
    "    ret[\"HTH\"] = getattr(events, f\"HTH__{scale_systematic}\")\n",
    "    ret[\"HTb\"] = getattr(events, f\"HTb__{scale_systematic}\")\n",
    "    ret[\"dRll\"] = events.FTALepton_dRll\n",
    "    ret[\"dRbb\"] = getattr(events, f\"dRbb__{scale_systematic}\")\n",
    "    ret[\"wgt\"] = getattr(events, f\"wgt___{wgt_systematic}\")\n",
    "    \n",
    "    if models_features is not None:\n",
    "        for index, (model, features) in enumerate(models_features):\n",
    "            inputs = np.column_stack([ret[feat] for feat in features])\n",
    "            ret[f\"model_{index}\"] = model.predict_proba(inputs)[:, 1]         \n",
    "    return ret"
   ]
  },
  {
   "cell_type": "code",
   "execution_count": 29,
   "id": "31b488fc-66f1-40bd-9b7d-1462492fa3f8",
   "metadata": {},
   "outputs": [],
   "source": [
    "#mode = \"vLF\"\n",
    "mode = \"vHF\"\n",
    "#mode = \"nested_layer1\"\n",
    "#mode = \"nested_layer2\""
   ]
  },
  {
   "cell_type": "code",
   "execution_count": 48,
   "id": "7adf68da-afdc-4d66-b506-f68b5071ba20",
   "metadata": {},
   "outputs": [
    {
     "name": "stdout",
     "output_type": "stream",
     "text": [
      "MET_pt\n",
      "MET_phi\n",
      "Lepton1_pt\n",
      "Lepton2_pt\n",
      "Lepton1_eta\n",
      "Lepton2_eta\n",
      "nMediumDeepJetB\n",
      "nJet\n",
      "HT\n",
      "HT2M\n",
      "HTRat\n",
      "H\n",
      "H2M\n",
      "HTH\n",
      "HTb\n",
      "dRll\n",
      "dRbb\n",
      "tttt vs ttbb\n",
      "\n",
      "\n",
      "82368\n",
      "61170 21198\n"
     ]
    }
   ],
   "source": [
    "\n",
    "\n",
    "#UNNESTED = [col for col in data.keys() if col not in [\"proc\", \"wgt\", \"ST\"]]\n",
    "UNNESTED = ['MET_pt', 'MET_phi', 'Lepton1_pt', 'Lepton2_pt', 'Lepton1_eta', 'Lepton2_eta', \n",
    "            'nMediumDeepJetB', 'nJet', 'HT', 'HT2M', 'HTRat', \n",
    "            'H', 'H2M', 'HTH', 'HTb', 'dRll', 'dRbb']\n",
    "LAYER1 = [\"nJet\", \"nMediumDeepJetB\", \"HTH\"]\n",
    "LAYER2 = []\n",
    "if mode in [\"vLF\", \"vHF\"]:\n",
    "    TRAIN_FEATURES = UNNESTED\n",
    "elif mode == \"nested_layer1\":\n",
    "    TRAIN_FEATURES = LAYER1\n",
    "elif mode == \"nested_layer2\":\n",
    "    #train against ttbb, with \n",
    "    TRAIN_FEATURES = LAYER2 + [\"model_0\"]\n",
    "for feat in TRAIN_FEATURES:\n",
    "    print(feat)\n",
    "    \n",
    "#Load up our dataframes for training... could cut out the pandas, but whatevs\n",
    "dfs = []\n",
    "dfs.append(pd.DataFrame(get_features(tttt, remove_negative_weights=True, scale_systematic=\"nom\", wgt_systematic=\"nom\")\n",
    "                 ).assign(proc=lambda x: 0))\n",
    "if mode in [\"vLF\", \"nested_layer1\"]:\n",
    "    N_TREES=250\n",
    "    print(\"tttt vs ttlight\")\n",
    "    dfs.append(pd.DataFrame(get_features(ttlight, remove_negative_weights=True, scale_systematic=\"nom\", wgt_systematic=\"nom\")\n",
    "                      ).assign(proc=lambda x: 1))\n",
    "if mode in [\"vHF\", \"nested_layer2\"]:\n",
    "    N_TREES=100\n",
    "    print(\"tttt vs ttbb\")\n",
    "    if mode == \"vHF\":\n",
    "        models_features = None\n",
    "    elif mode == \"nested_layer2\":\n",
    "        if model_nested_layer1 is None:\n",
    "            raise ValueError(\"Untrained model, need to load it from somewhere!\")\n",
    "        models_features = [(model_nested_layer1, LAYER1)]\n",
    "    dfs.append(pd.DataFrame(get_features(ttbb, remove_negative_weights=True, \n",
    "                                         scale_systematic=\"nom\", wgt_systematic=\"nom\",\n",
    "                                         models_features = models_features\n",
    "                                        )\n",
    "                      ).assign(proc=lambda x: 1))\n",
    "if mode in [\"vHF\", \"nested_layer2\"]:\n",
    "    dfs.append(pd.DataFrame(get_features(ttbb, remove_negative_weights=True, scale_systematic=\"nom\", wgt_systematic=\"nom\")\n",
    "                      ).assign(proc=lambda x: 1))\n",
    "data = pd.concat(dfs, axis=0)\n",
    "prcs = data['proc']\n",
    "print(\"\\n\\n\" + str(len(data)))\n",
    "print(len(prcs[prcs == 0]), len(prcs[prcs == 1]))"
   ]
  },
  {
   "cell_type": "code",
   "execution_count": 49,
   "id": "c136e42f-5137-41ef-b993-aa305d17033e",
   "metadata": {},
   "outputs": [
    {
     "name": "stdout",
     "output_type": "stream",
     "text": [
      "['MET_pt', 'MET_phi', 'Lepton1_pt', 'Lepton2_pt', 'Lepton1_eta', 'Lepton2_eta', 'nMediumDeepJetB', 'nJet', 'HT', 'HT2M', 'HTRat', 'H', 'H2M', 'HTH', 'HTb', 'dRll', 'dRbb']\n"
     ]
    }
   ],
   "source": [
    "print(TRAIN_FEATURES)\n",
    "X_train, X_valtest, y_train, y_valtest, w_train, w_valtest = train_test_split(\n",
    "    data.loc[:, TRAIN_FEATURES].values,\n",
    "    data.proc,\n",
    "    data.wgt,\n",
    "    test_size=0.3,\n",
    "    random_state=12421)\n",
    "\n",
    "X_test, X_val, y_test, y_val, w_test, w_val = train_test_split(\n",
    "    X_valtest,\n",
    "    y_valtest,\n",
    "    w_valtest,\n",
    "    test_size=0.5,\n",
    "\n",
    "    random_state=5451)"
   ]
  },
  {
   "cell_type": "code",
   "execution_count": 65,
   "id": "3aff1d2f-da45-4bc7-92d4-9196a93a22c3",
   "metadata": {},
   "outputs": [],
   "source": [
    "\n",
    "models_cpu = {\n",
    "    \"catboost\": catboost.CatBoostClassifier(n_estimators=N_TREES, verbose=False, thread_count=-1),\n",
    "    \"xgboost\": xgboost.XGBClassifier(n_estimators=N_TREES, tree_method=\"hist\", nthread=-1, use_label_encoder=False),\n",
    "}"
   ]
  },
  {
   "cell_type": "code",
   "execution_count": 51,
   "id": "8a7a1173-2625-4e33-af6a-50285f7d3487",
   "metadata": {},
   "outputs": [],
   "source": [
    "import time\n",
    "def evaluate_models(models_dict, learning_rates = None):\n",
    "    for model_name, model in models_dict.items():\n",
    "        start = time.time()\n",
    "        if learning_rates and model_name in learning_rates:\n",
    "            if isinstance(model, xgboost.sklearn.XGBClassifier):\n",
    "                model.learning_rate = learning_rates[model_name]\n",
    "            elif isinstance(model, catboost.core.CatBoostClassifier):\n",
    "                model.set_params(learning_rate=learning_rates[model_name])\n",
    "        model.fit(X_train, y_train, sample_weight=w_train)\n",
    "        end = time.time()\n",
    "        print(\"{}; train time {:.3f} s; ROC AUC = {:.3f}\".format(\n",
    "              model_name,\n",
    "              end - start,\n",
    "              roc_auc_score(y_test, model.predict_proba(X_test)[:, 1], sample_weight=w_test)))"
   ]
  },
  {
   "cell_type": "code",
   "execution_count": 82,
   "id": "42399c9b-e998-4ab8-a621-fccddd710df5",
   "metadata": {},
   "outputs": [],
   "source": [
    "def plot_feature_importances(f_imps, f_names, title=\"\"):\n",
    "    f_imps = np.array(f_imps)\n",
    "    f_names = np.array(f_names)\n",
    "    sort_inds = np.argsort(f_imps)\n",
    "    yy = np.arange(len(f_imps)).astype(np.int)\n",
    "    plt.barh(yy, f_imps[sort_inds])\n",
    "    plt.yticks(yy, f_names[sort_inds], size=14)\n",
    "    plt.xticks(size=14)\n",
    "    plt.xlabel(\"Feature importance\", size=14)\n",
    "    plt.title(title, size=14)\n",
    "    plt.show()\n",
    "    \n",
    "def plot_feature_importances_2d(f_imps1, f_names1, f_imps2, f_names2, f_label1, f_label2, title=\"\"):\n",
    "    if f_names1 != f_names2:\n",
    "        raise NotImplementedError(\"Must have same feature order\")\n",
    "    \n",
    "    annotations = f_names1\n",
    "    \n",
    "    f_imps1 = np.array(f_imps1)\n",
    "    f_names1 = np.array(f_names1)\n",
    "    f_imps2 = np.array(f_imps2)\n",
    "    f_names2 = np.array(f_names2)\n",
    "    \n",
    "    fig = plt.figure(figsize=(10, 10))\n",
    "    ax = plt.gca()\n",
    "    ax.set_yscale('log')\n",
    "    ax.set_xscale('log')\n",
    "    plt.scatter(f_imps1, f_imps2)\n",
    "    for i, label in enumerate(annotations):\n",
    "        plt.annotate(label, (f_imps1[i]+0.02, f_imps2[i]+0.02))\n",
    "    plt.xlabel(f_label1, size=14)\n",
    "    plt.ylabel(f_label2, size=14)\n",
    "    plt.xticks(size=14)\n",
    "    plt.yticks(size=14)\n",
    "    plt.title(title, size=14)\n",
    "    plt.show()"
   ]
  },
  {
   "cell_type": "code",
   "execution_count": 66,
   "id": "7d632989-4c4b-4ecb-8772-f01c2378068a",
   "metadata": {},
   "outputs": [],
   "source": [
    "def find_optimal_learning_rate(model, verbose:bool=False, return_best_model:bool=False, tolerance:float=0.01):\n",
    "    \"\"\"\n",
    "    Uses early stopping and bisection method to efficiently find the optimal learning rate.\n",
    "    \n",
    "    Boosting model performance is almost always a convex function of the learning rate when all other parameters are held constant.\n",
    "    When the learning rate is too low, the model underfits and underperformes; when it's too high, the model overfits.\n",
    "    The optimal learning rate is some sweet spot between 0 and 1. We can use this knowelage to create a smart\n",
    "    algorithm for finding the optimal learning rate.\n",
    "    We don't need to train a boosting model fully to know whether it overfits or underfits, as we can use early stopping!\n",
    "    If early stopping kicked in, that means the learning rate is too high. If it doesn't, this means it's too low.\n",
    "    \n",
    "    The funciton finds the highest learning rate for which early stopping doesn't kick in.\n",
    "    Arg:\n",
    "        model: a model with sklearn-type interface.\n",
    "           Supports XGBClassifier, LGBMClassifier, CatBoostClassifier\n",
    "        verbose: print the progress\n",
    "        return_best_model: if set, return (learning_rate, best_model)\n",
    "           if not set, return just learning_rate\n",
    "        tolerance: the maximum difference betweent the truly optimal and retured value\n",
    "    Returns:\n",
    "        optimal learning rate, if return_best_model is false\n",
    "        (optimal learning rate, best model) if return_best_model true\n",
    "    \"\"\"\n",
    "    # Use eval_set, w_val and val_cb for measuring the performance\n",
    "    # YOUR CODE HERE\n",
    "    max_trees = N_TREES #30\n",
    "    \n",
    "    learning_rate = 0.5\n",
    "    lr_low = 0.0\n",
    "    lr_high = 1.0\n",
    "    stop = False\n",
    "    \n",
    "    cmodel = clone(model)\n",
    "    while(~stop):\n",
    "        #if isinstance(cmodel, lightgbm.sklearn.LGBMClassifier):\n",
    "        #    cmodel.learning_rate = learning_rate\n",
    "        #    cmodel.fit(X_train, y_train,\n",
    "        #      verbose=False,\n",
    "        #      eval_metric=\"auc\",\n",
    "        #      early_stopping_rounds=max_trees,\n",
    "        #      eval_set=eval_set,\n",
    "        #      eval_sample_weight=[w_val])\n",
    "        #elif isinstance(cmodel, xgboost.sklearn.XGBClassifier):\n",
    "        if isinstance(cmodel, xgboost.sklearn.XGBClassifier):\n",
    "            cmodel.learning_rate = learning_rate\n",
    "            cmodel.fit(X_train, y_train,\n",
    "              sample_weight=w_train,\n",
    "              verbose=False,\n",
    "              eval_metric=\"auc\", # We use that metric for final scoring\n",
    "              early_stopping_rounds=max_trees, # Try training this more rounds after reaching the best score\n",
    "              eval_set=eval_set,\n",
    "              sample_weight_eval_set=[w_val]\n",
    "             ) # Note that we use separate datasets for test and early stopping\n",
    "        elif isinstance(cmodel, catboost.core.CatBoostClassifier):\n",
    "            cmodel.set_params(learning_rate=learning_rate)\n",
    "            # not the way we pass the validaton weights to catboost\n",
    "            val_cb = catboost.Pool(data=X_val, label=y_val, weight=w_val)\n",
    "            cmodel.fit(X_train, y_train,\n",
    "                         verbose=False,\n",
    "                         early_stopping_rounds=max_trees,\n",
    "                         eval_set=val_cb)\n",
    "        n_trees = None\n",
    "        if isinstance(cmodel, xgboost.sklearn.XGBClassifier):\n",
    "            n_trees = len(cmodel.get_booster().get_dump())\n",
    "        #elif isinstance(cmodel, lightgbm.sklearn.LGBMClassifier):\n",
    "        #    n_trees = cmodel.booster_.num_trees()\n",
    "        elif isinstance(cmodel, catboost.core.CatBoostClassifier):\n",
    "            n_trees = cmodel.tree_count_\n",
    "\n",
    "        if (isinstance(cmodel, xgboost.sklearn.XGBClassifier) and n_trees > max_trees + 1) or\\\n",
    "           (isinstance(cmodel, catboost.core.CatBoostClassifier) and n_trees < max_trees + 1): #or\\\n",
    "           #(isinstance(cmodel, lightgbm.sklearn.LGBMClassifier) and n_trees < max_trees + 1):\n",
    "            #early stop, lower the learning rate\n",
    "            lr_high = learning_rate\n",
    "            if abs(learning_rate - lr_low)/2 < tolerance:\n",
    "                break\n",
    "            learning_rate -= abs(learning_rate - lr_low)/2\n",
    "        else:\n",
    "            #no early stop, raise the rate\n",
    "            lr_low = learning_rate\n",
    "            if abs(lr_high - learning_rate)/2 < tolerance:\n",
    "                break\n",
    "            learning_rate += abs(lr_high - learning_rate)/2\n",
    "        cmodel = clone(model) #new model, in the event we haven't stopped. This is principally for catboost\n",
    "            \n",
    "    best_model = cmodel\n",
    "        \n",
    "    if return_best_model:\n",
    "        return (learning_rate, best_model)\n",
    "    else:\n",
    "        return learning_rate\n"
   ]
  },
  {
   "cell_type": "code",
   "execution_count": 67,
   "id": "b9a3ec97-4eb7-41db-80bd-cb16b5c4eaa6",
   "metadata": {},
   "outputs": [
    {
     "name": "stdout",
     "output_type": "stream",
     "text": [
      "0.015625\n"
     ]
    }
   ],
   "source": [
    "#find optimal learning rate, early-stopped model for catboost\n",
    "lr_cb, clf_cb = find_optimal_learning_rate(\n",
    "  catboost.CatBoostClassifier(n_estimators=N_TREES, verbose=False, task_type='CPU'),\n",
    "  verbose=True, return_best_model=True)\n",
    "print(lr_cb)"
   ]
  },
  {
   "cell_type": "code",
   "execution_count": 68,
   "id": "679e09c4-b22b-4365-a094-81b54352df40",
   "metadata": {},
   "outputs": [
    {
     "name": "stdout",
     "output_type": "stream",
     "text": [
      "0.984375\n"
     ]
    }
   ],
   "source": [
    "eval_set = [(X_val, y_val)]\n",
    "lr_xgb, clf_xgb = find_optimal_learning_rate(\n",
    "    xgboost.XGBClassifier(n_estimators=N_TREES, nthread=-1, use_label_encoder=False), verbose=True, return_best_model=True)\n",
    "print(lr_xgb)"
   ]
  },
  {
   "cell_type": "code",
   "execution_count": 69,
   "id": "deea34ac-c34f-4a46-9982-e2778b8053ac",
   "metadata": {},
   "outputs": [
    {
     "name": "stdout",
     "output_type": "stream",
     "text": [
      "Learning rates for vHF: \n",
      "{'catboost': 0.015625, 'xgboost': 0.984375}\n"
     ]
    }
   ],
   "source": [
    "learning_rates = {\n",
    "    \"catboost\": lr_cb,\n",
    "    \"xgboost\": lr_xgb,\n",
    "}\n",
    "print(f\"Learning rates for {mode}: \\n{learning_rates}\") "
   ]
  },
  {
   "cell_type": "code",
   "execution_count": 70,
   "id": "1e974652-b6ed-4f2b-ac7c-34a4bb993d22",
   "metadata": {},
   "outputs": [
    {
     "name": "stdout",
     "output_type": "stream",
     "text": [
      "catboost; train time 0.731 s; ROC AUC = 0.782\n",
      "[11:19:40] WARNING: /home/conda/feedstock_root/build_artifacts/xgboost-split_1645117766796/work/src/learner.cc:1115: Starting in XGBoost 1.3.0, the default evaluation metric used with the objective 'binary:logistic' was changed from 'error' to 'logloss'. Explicitly set eval_metric if you'd like to restore the old behavior.\n",
      "xgboost; train time 0.236 s; ROC AUC = 0.789\n"
     ]
    }
   ],
   "source": [
    "evaluate_models(models_cpu, learning_rates)"
   ]
  },
  {
   "cell_type": "code",
   "execution_count": 71,
   "id": "abb460c2-bd11-430e-a1b6-3c060d32a05d",
   "metadata": {},
   "outputs": [
    {
     "name": "stderr",
     "output_type": "stream",
     "text": [
      "/tmp/nmangane/ipykernel_3411/2763308995.py:5: DeprecationWarning: `np.int` is a deprecated alias for the builtin `int`. To silence this warning, use `int` by itself. Doing this will not modify any behavior and is safe. When replacing `np.int`, you may wish to use e.g. `np.int64` or `np.int32` to specify the precision. If you wish to review your current use, check the release note link for additional information.\n",
      "Deprecated in NumPy 1.20; for more details and guidance: https://numpy.org/devdocs/release/1.20.0-notes.html#deprecations\n",
      "  yy = np.arange(len(f_imps)).astype(np.int)\n"
     ]
    },
    {
     "data": {
      "image/png": "[encoded data removed]",
      "text/plain": [
       "<Figure size 432x288 with 1 Axes>"
      ]
     },
     "metadata": {
      "needs_background": "light"
     },
     "output_type": "display_data"
    }
   ],
   "source": [
    "plot_feature_importances(models_cpu[\"catboost\"].get_feature_importance(), TRAIN_FEATURES, title=\"Catboost\")"
   ]
  },
  {
   "cell_type": "code",
   "execution_count": 72,
   "id": "3788f6e8-c9c4-4647-911d-caa320f6e278",
   "metadata": {},
   "outputs": [
    {
     "name": "stderr",
     "output_type": "stream",
     "text": [
      "/tmp/nmangane/ipykernel_3411/2763308995.py:5: DeprecationWarning: `np.int` is a deprecated alias for the builtin `int`. To silence this warning, use `int` by itself. Doing this will not modify any behavior and is safe. When replacing `np.int`, you may wish to use e.g. `np.int64` or `np.int32` to specify the precision. If you wish to review your current use, check the release note link for additional information.\n",
      "Deprecated in NumPy 1.20; for more details and guidance: https://numpy.org/devdocs/release/1.20.0-notes.html#deprecations\n",
      "  yy = np.arange(len(f_imps)).astype(np.int)\n"
     ]
    },
    {
     "data": {
      "image/png": "[encoded data removed]",
      "text/plain": [
       "<Figure size 432x288 with 1 Axes>"
      ]
     },
     "metadata": {
      "needs_background": "light"
     },
     "output_type": "display_data"
    }
   ],
   "source": [
    "plot_feature_importances(models_cpu[\"xgboost\"].feature_importances_, TRAIN_FEATURES, title=\"XGBoost\")"
   ]
  },
  {
   "cell_type": "code",
   "execution_count": 73,
   "id": "ee39df80-b57b-4b31-86c0-ad76afab5864",
   "metadata": {},
   "outputs": [
    {
     "name": "stdout",
     "output_type": "stream",
     "text": [
      "vHF catboost\n",
      "0.7822713798348918\n",
      "<catboost.core.CatBoostClassifier object at 0x7fb71a14df40> <catboost.core.CatBoostClassifier object at 0x7fb7146c40a0> None None\n"
     ]
    }
   ],
   "source": [
    "preferred = \"catboost\"\n",
    "print(mode, preferred)\n",
    "if mode == \"vLF\":\n",
    "    model_vLF = models_cpu[preferred]\n",
    "    print(roc_auc_score(y_test, model_vLF.predict_proba(X_test)[:, 1], sample_weight=w_test))\n",
    "if mode == \"vHF\":\n",
    "    model_vHF = models_cpu[preferred]\n",
    "    print(roc_auc_score(y_test, model_vHF.predict_proba(X_test)[:, 1], sample_weight=w_test))\n",
    "if mode == \"nested_layer1\":\n",
    "    model_nested_layer1 = models_cpu[preferred]\n",
    "    print(roc_auc_score(y_test, model_nested_layer1.predict_proba(X_test)[:, 1], sample_weight=w_test))\n",
    "if mode == \"nested_layer2\":\n",
    "    model_nested_layer2 = models_cpu[preferred]\n",
    "    print(roc_auc_score(y_test, model_nested_layer2.predict_proba(X_test)[:, 1], sample_weight=w_test))\n",
    "print(model_vLF, model_vHF,  model_nested_layer1,  model_nested_layer2)\n",
    "\n",
    "if preferred == \"catboost\":\n",
    "    models_cpu[preferred].save_model(f\"{preferred}_{mode}\",\n",
    "                                     format=\"cbm\",\n",
    "                                     export_parameters=None,\n",
    "                                     pool=None\n",
    "                                    )\n",
    "if preferred == \"xgboost\":\n",
    "    models_cpu[preferred].save_model(f\"{preferred}_{mode}.json\")\n",
    "with open(f\"{preferred}_{mode}.inputs\", \"w\") as fi:\n",
    "    for variable in TRAIN_FEATURES:\n",
    "        fi.write(variable)"
   ]
  },
  {
   "cell_type": "code",
   "execution_count": 83,
   "id": "4200dfbf-f7bc-4d77-b328-74fda48dec10",
   "metadata": {},
   "outputs": [
    {
     "data": {
      "image/png": "[encoded data removed]",
      "text/plain": [
       "<Figure size 720x720 with 1 Axes>"
      ]
     },
     "metadata": {
      "needs_background": "light"
     },
     "output_type": "display_data"
    }
   ],
   "source": [
    "if model_vLF and model_vHF:\n",
    "    if hasattr(model_vLF, \"feature_importances_\"):\n",
    "        fi1 = model_vLF.feature_importances_\n",
    "    elif hasattr(model_vLF, \"get_feature_importance\"):\n",
    "        fi1 = model_vLF.get_feature_importance()\n",
    "        \n",
    "    if hasattr(model_vHF, \"feature_importances_\"):\n",
    "        fi2 = model_vHF.feature_importances_\n",
    "    elif hasattr(model_vHF, \"get_feature_importance\"):\n",
    "        fi2 = model_vHF.get_feature_importance()\n",
    "        \n",
    "    plot_feature_importances_2d(fi1, TRAIN_FEATURES, \n",
    "                                fi2, TRAIN_FEATURES,\n",
    "                                \"tttt vs ttlight feature importance\", \n",
    "                                \"tttt vs ttbb feature importance\",\n",
    "                                title=preferred)"
   ]
  },
  {
   "cell_type": "code",
   "execution_count": null,
   "id": "7e1102d1-8236-46cc-b3f5-5d0b30462534",
   "metadata": {},
   "outputs": [],
   "source": []
  },
  {
   "cell_type": "code",
   "execution_count": null,
   "id": "430d8dbf-c76b-40ad-ad20-c9703eb88362",
   "metadata": {},
   "outputs": [],
   "source": [
    "#OLDER STUFF#"
   ]
  },
  {
   "cell_type": "code",
   "execution_count": 160,
   "id": "628e54a0-3e3c-47de-9c97-32ac8e3054ec",
   "metadata": {},
   "outputs": [
    {
     "name": "stdout",
     "output_type": "stream",
     "text": [
      "CATBOOST AUC\n",
      "0.8539057567732808\n",
      "XGB AUC\n",
      "0.6133516187703523\n"
     ]
    }
   ],
   "source": [
    "print(\"CATBOOST AUC\")\n",
    "print(roc_auc_score(y_test, clf_cb.predict_proba(X_test)[:, 1], sample_weight=w_test))\n",
    "print(\"XGB AUC\")\n",
    "print(roc_auc_score(y_test, clf_xgb.predict_proba(X_test)[:, 1], sample_weight=w_test))"
   ]
  },
  {
   "cell_type": "code",
   "execution_count": 161,
   "id": "9cc16d3a-e7f4-4ef5-b525-7408f80616e7",
   "metadata": {},
   "outputs": [
    {
     "name": "stderr",
     "output_type": "stream",
     "text": [
      "/tmp/nmangane/ipykernel_25064/2498021274.py:5: DeprecationWarning: `np.int` is a deprecated alias for the builtin `int`. To silence this warning, use `int` by itself. Doing this will not modify any behavior and is safe. When replacing `np.int`, you may wish to use e.g. `np.int64` or `np.int32` to specify the precision. If you wish to review your current use, check the release note link for additional information.\n",
      "Deprecated in NumPy 1.20; for more details and guidance: https://numpy.org/devdocs/release/1.20.0-notes.html#deprecations\n",
      "  yy = np.arange(len(f_imps)).astype(np.int)\n"
     ]
    },
    {
     "data": {
      "image/png": "[encoded data removed]",
      "text/plain": [
       "<Figure size 432x288 with 1 Axes>"
      ]
     },
     "metadata": {
      "needs_background": "light"
     },
     "output_type": "display_data"
    }
   ],
   "source": [
    "cb_fi = clf_cb.get_feature_importance()\n",
    "plot_feature_importances(cb_fi, TRAIN_FEATURES, title=\"Catboost\")\n",
    "#for feat, imp in sorted(zip(TRAIN_FEATURES, cb_fi), key=lambda tup: tup[1], reverse=True):\n",
    "#    print(f\"{feat:20s} \\t {imp}\")"
   ]
  },
  {
   "cell_type": "code",
   "execution_count": 162,
   "id": "c2afac76-8019-4b6a-b68d-09a2ba6b1647",
   "metadata": {},
   "outputs": [
    {
     "name": "stderr",
     "output_type": "stream",
     "text": [
      "/tmp/nmangane/ipykernel_25064/2498021274.py:5: DeprecationWarning: `np.int` is a deprecated alias for the builtin `int`. To silence this warning, use `int` by itself. Doing this will not modify any behavior and is safe. When replacing `np.int`, you may wish to use e.g. `np.int64` or `np.int32` to specify the precision. If you wish to review your current use, check the release note link for additional information.\n",
      "Deprecated in NumPy 1.20; for more details and guidance: https://numpy.org/devdocs/release/1.20.0-notes.html#deprecations\n",
      "  yy = np.arange(len(f_imps)).astype(np.int)\n"
     ]
    },
    {
     "data": {
      "image/png": "[encoded data removed]",
      "text/plain": [
       "<Figure size 432x288 with 1 Axes>"
      ]
     },
     "metadata": {
      "needs_background": "light"
     },
     "output_type": "display_data"
    }
   ],
   "source": [
    "xgb_fi = clf_xgb.feature_importances_\n",
    "plot_feature_importances(xgb_fi, TRAIN_FEATURES, title=\"XGBoost\")\n",
    "#for feat, imp in sorted(zip(TRAIN_FEATURES, xgb_fi), key=lambda tup: tup[1], reverse=True):\n",
    "#    print(f\"{feat:20s} \\t {imp}\")"
   ]
  },
  {
   "cell_type": "code",
   "execution_count": 163,
   "id": "ec27d5de-a162-4953-a01c-d5ed4160823c",
   "metadata": {},
   "outputs": [],
   "source": [
    "#for field in events.fields:\n",
    "#    print(f\"{field:35s}\\t\\t{(np.mean(ak.num(field, axis=0)))}\\t{(np.var(ak.num(field, axis=0)))}\")"
   ]
  },
  {
   "cell_type": "code",
   "execution_count": null,
   "id": "2abd2579-0e19-4724-952b-70e9ddc9758e",
   "metadata": {},
   "outputs": [],
   "source": []
  },
  {
   "cell_type": "code",
   "execution_count": 29,
   "id": "92a4a4af-4e19-4eb4-a0d3-238a90a35d7f",
   "metadata": {},
   "outputs": [
    {
     "data": {
      "text/plain": [
       "<Array [4, 12, 7, 6, 8, 10, ... 5, 2, 6, 8, 7] type='10000 * int64'>"
      ]
     },
     "execution_count": 29,
     "metadata": {},
     "output_type": "execute_result"
    }
   ],
   "source": []
  },
  {
   "cell_type": "code",
   "execution_count": 33,
   "id": "07d55154-7a77-42c6-b061-7cb3f6c6e2ab",
   "metadata": {},
   "outputs": [
    {
     "name": "stdout",
     "output_type": "stream",
     "text": [
      "263\n",
      "34\n",
      "229\n",
      "['wgt___nom', 'wgt___OSDL_2018_jesTotalDown', 'wgt___OSDL_2018_HEMDown', 'wgt___OSDL_2018_pileupDown', 'wgt___OSDL_2018_jerDown', 'wgt___OSDL_RunII_btagSF_shape_hfDown', 'wgt___OSDL_2018_btagSF_shape_hfstats1Down', 'wgt___OSDL_2018_btagSF_shape_hfstats2Down', 'wgt___OSDL_RunII_btagSF_shape_cferr1Down', 'wgt___OSDL_RunII_btagSF_shape_cferr2Down', 'wgt___OSDL_RunII_btagSF_shape_lfDown', 'wgt___OSDL_2018_btagSF_shape_lfstats1Down', 'wgt___OSDL_2018_btagSF_shape_lfstats2Down', 'wgt___OSDL_RunII_ISRUp', 'wgt___OSDL_RunII_FSRUp', 'wgt___OSDL_RunII_muFNomRUp', 'wgt___OSDL_RunII_muRNomFUp', 'wgt___OSDL_RunII_muRFcorrelatedDown', 'wgt___OSDL_RunII_pdf2', 'wgt___OSDL_RunII_pdf4', 'wgt___OSDL_RunII_pdf6', 'wgt___OSDL_RunII_pdf8', 'wgt___OSDL_RunII_pdf10', 'wgt___OSDL_RunII_pdf12', 'wgt___OSDL_RunII_pdf14', 'wgt___OSDL_RunII_pdf16', 'wgt___OSDL_RunII_pdf18', 'wgt___OSDL_RunII_pdf20', 'wgt___OSDL_RunII_pdf22', 'wgt___OSDL_RunII_pdf24', 'wgt___OSDL_RunII_pdf26', 'wgt___OSDL_RunII_pdf28', 'wgt___OSDL_RunII_pdf30', 'wgt___OSDL_RunII_pdf32']\n"
     ]
    }
   ],
   "source": [
    "all_fields = events.fields\n",
    "print(len(all_fields))\n",
    "wgts = [all_fields.pop(all_fields.index(f)) for f in all_fields if f.startswith(\"wgt_\")]\n",
    "\n",
    "print(len(wgts))\n",
    "print(len(all_fields))"
   ]
  },
  {
   "cell_type": "code",
   "execution_count": null,
   "id": "a6066611-7857-4353-8632-10bc673033d8",
   "metadata": {},
   "outputs": [],
   "source": []
  }
 ],
 "metadata": {
  "kernelspec": {
   "display_name": "Python 3 (ipykernel)",
   "language": "python",
   "name": "python3"
  },
  "language_info": {
   "codemirror_mode": {
    "name": "ipython",
    "version": 3
   },
   "file_extension": ".py",
   "mimetype": "text/x-python",
   "name": "python",
   "nbconvert_exporter": "python",
   "pygments_lexer": "ipython3",
   "version": "3.9.10"
  }
 },
 "nbformat": 4,
 "nbformat_minor": 5
}

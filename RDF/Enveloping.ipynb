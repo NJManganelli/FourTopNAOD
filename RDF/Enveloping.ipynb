{
 "cells": [
  {
   "cell_type": "code",
   "execution_count": 3,
   "id": "e5ddc85e-1b66-42cc-ab84-5d611343f237",
   "metadata": {},
   "outputs": [],
   "source": [
    "from __future__ import annotations\n",
    "from typing import Any, Optional\n",
    "import uproot, hist\n",
    "import numpy as np\n",
    "from copy import deepcopy"
   ]
  },
  {
   "cell_type": "code",
   "execution_count": 4,
   "id": "eaecec50-e276-4a34-8005-e5e3d563e49e",
   "metadata": {},
   "outputs": [],
   "source": [
    "fi = uproot.open(\"CI_2018_ElMu_HT.root\")"
   ]
  },
  {
   "cell_type": "code",
   "execution_count": 5,
   "id": "a1dcc232-d93f-4727-8961-deca626df91d",
   "metadata": {},
   "outputs": [
    {
     "name": "stdout",
     "output_type": "stream",
     "text": [
      "84.5 ms ± 690 µs per loop (mean ± std. dev. of 7 runs, 10 loops each)\n"
     ]
    }
   ],
   "source": [
    "%%timeit\n",
    "\n",
    "x = [key for key in fi.keys(filter_name=\"*muRFcorrelated*\")]"
   ]
  },
  {
   "cell_type": "code",
   "execution_count": 6,
   "id": "3d5c87b8-8358-45e1-b136-31d859ec4e4d",
   "metadata": {},
   "outputs": [
    {
     "name": "stdout",
     "output_type": "stream",
     "text": [
      "55.4 ms ± 822 µs per loop (mean ± std. dev. of 7 runs, 10 loops each)\n"
     ]
    }
   ],
   "source": [
    "%%timeit\n",
    "\n",
    "x = [key for key in fi.keys() if \"muRFcorrelated\" in key]"
   ]
  },
  {
   "cell_type": "code",
   "execution_count": 7,
   "id": "6c70baa6-0ec2-467a-aa03-85f8af3b2498",
   "metadata": {},
   "outputs": [
    {
     "data": {
      "text/plain": [
       "'ttH___HT500_nMediumDeepJetB0_nJet4___HT___nom;1'"
      ]
     },
     "execution_count": 7,
     "metadata": {},
     "output_type": "execute_result"
    }
   ],
   "source": [
    "fi.keys()[0]"
   ]
  },
  {
   "cell_type": "code",
   "execution_count": 8,
   "id": "07c85427-86ba-4790-8b2a-39365513a9cd",
   "metadata": {},
   "outputs": [
    {
     "data": {
      "text/plain": [
       "30650"
      ]
     },
     "execution_count": 8,
     "metadata": {},
     "output_type": "execute_result"
    }
   ],
   "source": [
    "len(fi.keys())"
   ]
  },
  {
   "cell_type": "code",
   "execution_count": 9,
   "id": "80e6842d-fcba-4806-b749-60709fd37f4b",
   "metadata": {},
   "outputs": [
    {
     "data": {
      "text/plain": [
       "9450"
      ]
     },
     "execution_count": 9,
     "metadata": {},
     "output_type": "execute_result"
    }
   ],
   "source": [
    "len(fi.keys(filter_name=\"/.*___HT___.*mu(R|F).*/\"))"
   ]
  },
  {
   "cell_type": "code",
   "execution_count": 10,
   "id": "0e4e5425-f9d1-4558-8f47-11630b65ef61",
   "metadata": {},
   "outputs": [],
   "source": [
    "mus = fi.keys(filter_name=\"/.*___HT___.*mu(R|F).*/\")"
   ]
  },
  {
   "cell_type": "code",
   "execution_count": 11,
   "id": "5489e7ff-2cfc-41f0-9840-e79ce548c573",
   "metadata": {},
   "outputs": [
    {
     "data": {
      "text/plain": [
       "['ttH___HT500_nMediumDeepJetB0_nJet4___HT___OSDL_RunII_ewkmuFNomRDown;1',\n",
       " 'ttH___HT500_nMediumDeepJetB0_nJet4___HT___OSDL_RunII_ttmuFNomRDown;1',\n",
       " 'ttH___HT500_nMediumDeepJetB0_nJet4___HT___OSDL_RunII_ttnobbmuFNomRDown;1',\n",
       " 'ttH___HT500_nMediumDeepJetB0_nJet4___HT___OSDL_RunII_ttbbmuFNomRDown;1',\n",
       " 'ttH___HT500_nMediumDeepJetB0_nJet4___HT___OSDL_RunII_ttultrararemuFNomRDown;1',\n",
       " 'ttH___HT500_nMediumDeepJetB0_nJet4___HT___OSDL_RunII_ttVJetsmuFNomRDown;1',\n",
       " 'ttH___HT500_nMediumDeepJetB0_nJet4___HT___OSDL_RunII_ttHmuFNomRDown;1',\n",
       " 'ttH___HT500_nMediumDeepJetB0_nJet4___HT___OSDL_RunII_singletopmuFNomRDown;1',\n",
       " 'ttH___HT500_nMediumDeepJetB0_nJet4___HT___OSDL_RunII_ttttmuFNomRDown;1',\n",
       " 'ttH___HT500_nMediumDeepJetB0_nJet4___HT___OSDL_RunII_ewkmuFNomRUp;1',\n",
       " 'ttH___HT500_nMediumDeepJetB0_nJet4___HT___OSDL_RunII_ttmuFNomRUp;1',\n",
       " 'ttH___HT500_nMediumDeepJetB0_nJet4___HT___OSDL_RunII_ttnobbmuFNomRUp;1',\n",
       " 'ttH___HT500_nMediumDeepJetB0_nJet4___HT___OSDL_RunII_ttbbmuFNomRUp;1',\n",
       " 'ttH___HT500_nMediumDeepJetB0_nJet4___HT___OSDL_RunII_ttultrararemuFNomRUp;1',\n",
       " 'ttH___HT500_nMediumDeepJetB0_nJet4___HT___OSDL_RunII_ttVJetsmuFNomRUp;1',\n",
       " 'ttH___HT500_nMediumDeepJetB0_nJet4___HT___OSDL_RunII_ttHmuFNomRUp;1',\n",
       " 'ttH___HT500_nMediumDeepJetB0_nJet4___HT___OSDL_RunII_singletopmuFNomRUp;1',\n",
       " 'ttH___HT500_nMediumDeepJetB0_nJet4___HT___OSDL_RunII_ttttmuFNomRUp;1',\n",
       " 'ttH___HT500_nMediumDeepJetB0_nJet4___HT___OSDL_RunII_ewkmuRNomFDown;1',\n",
       " 'ttH___HT500_nMediumDeepJetB0_nJet4___HT___OSDL_RunII_ttmuRNomFDown;1',\n",
       " 'ttH___HT500_nMediumDeepJetB0_nJet4___HT___OSDL_RunII_ttnobbmuRNomFDown;1',\n",
       " 'ttH___HT500_nMediumDeepJetB0_nJet4___HT___OSDL_RunII_ttbbmuRNomFDown;1',\n",
       " 'ttH___HT500_nMediumDeepJetB0_nJet4___HT___OSDL_RunII_ttultrararemuRNomFDown;1',\n",
       " 'ttH___HT500_nMediumDeepJetB0_nJet4___HT___OSDL_RunII_ttVJetsmuRNomFDown;1',\n",
       " 'ttH___HT500_nMediumDeepJetB0_nJet4___HT___OSDL_RunII_ttHmuRNomFDown;1',\n",
       " 'ttH___HT500_nMediumDeepJetB0_nJet4___HT___OSDL_RunII_singletopmuRNomFDown;1',\n",
       " 'ttH___HT500_nMediumDeepJetB0_nJet4___HT___OSDL_RunII_ttttmuRNomFDown;1',\n",
       " 'ttH___HT500_nMediumDeepJetB0_nJet4___HT___OSDL_RunII_ewkmuRNomFUp;1',\n",
       " 'ttH___HT500_nMediumDeepJetB0_nJet4___HT___OSDL_RunII_ttmuRNomFUp;1',\n",
       " 'ttH___HT500_nMediumDeepJetB0_nJet4___HT___OSDL_RunII_ttnobbmuRNomFUp;1',\n",
       " 'ttH___HT500_nMediumDeepJetB0_nJet4___HT___OSDL_RunII_ttbbmuRNomFUp;1',\n",
       " 'ttH___HT500_nMediumDeepJetB0_nJet4___HT___OSDL_RunII_ttultrararemuRNomFUp;1',\n",
       " 'ttH___HT500_nMediumDeepJetB0_nJet4___HT___OSDL_RunII_ttVJetsmuRNomFUp;1',\n",
       " 'ttH___HT500_nMediumDeepJetB0_nJet4___HT___OSDL_RunII_ttHmuRNomFUp;1',\n",
       " 'ttH___HT500_nMediumDeepJetB0_nJet4___HT___OSDL_RunII_singletopmuRNomFUp;1',\n",
       " 'ttH___HT500_nMediumDeepJetB0_nJet4___HT___OSDL_RunII_ttttmuRNomFUp;1',\n",
       " 'ttH___HT500_nMediumDeepJetB0_nJet4___HT___OSDL_RunII_ewkmuRFcorrelatedUp;1',\n",
       " 'ttH___HT500_nMediumDeepJetB0_nJet4___HT___OSDL_RunII_ttmuRFcorrelatedUp;1',\n",
       " 'ttH___HT500_nMediumDeepJetB0_nJet4___HT___OSDL_RunII_ttnobbmuRFcorrelatedUp;1',\n",
       " 'ttH___HT500_nMediumDeepJetB0_nJet4___HT___OSDL_RunII_ttbbmuRFcorrelatedUp;1',\n",
       " 'ttH___HT500_nMediumDeepJetB0_nJet4___HT___OSDL_RunII_ttultrararemuRFcorrelatedUp;1',\n",
       " 'ttH___HT500_nMediumDeepJetB0_nJet4___HT___OSDL_RunII_ttVJetsmuRFcorrelatedUp;1',\n",
       " 'ttH___HT500_nMediumDeepJetB0_nJet4___HT___OSDL_RunII_ttHmuRFcorrelatedUp;1',\n",
       " 'ttH___HT500_nMediumDeepJetB0_nJet4___HT___OSDL_RunII_singletopmuRFcorrelatedUp;1',\n",
       " 'ttH___HT500_nMediumDeepJetB0_nJet4___HT___OSDL_RunII_ttttmuRFcorrelatedUp;1',\n",
       " 'ttH___HT500_nMediumDeepJetB0_nJet4___HT___OSDL_RunII_ewkmuRFcorrelatedDown;1',\n",
       " 'ttH___HT500_nMediumDeepJetB0_nJet4___HT___OSDL_RunII_ttmuRFcorrelatedDown;1',\n",
       " 'ttH___HT500_nMediumDeepJetB0_nJet4___HT___OSDL_RunII_ttnobbmuRFcorrelatedDown;1',\n",
       " 'ttH___HT500_nMediumDeepJetB0_nJet4___HT___OSDL_RunII_ttbbmuRFcorrelatedDown;1',\n",
       " 'ttH___HT500_nMediumDeepJetB0_nJet4___HT___OSDL_RunII_ttultrararemuRFcorrelatedDown;1',\n",
       " 'ttH___HT500_nMediumDeepJetB0_nJet4___HT___OSDL_RunII_ttVJetsmuRFcorrelatedDown;1',\n",
       " 'ttH___HT500_nMediumDeepJetB0_nJet4___HT___OSDL_RunII_ttHmuRFcorrelatedDown;1',\n",
       " 'ttH___HT500_nMediumDeepJetB0_nJet4___HT___OSDL_RunII_singletopmuRFcorrelatedDown;1',\n",
       " 'ttH___HT500_nMediumDeepJetB0_nJet4___HT___OSDL_RunII_ttttmuRFcorrelatedDown;1']"
      ]
     },
     "execution_count": 11,
     "metadata": {},
     "output_type": "execute_result"
    }
   ],
   "source": [
    "fi.keys(filter_name=\"/ttH___HT500_nMediumDeepJetB0_nJet4___HT___.*mu(R|F).*/\")"
   ]
  },
  {
   "cell_type": "code",
   "execution_count": 12,
   "id": "f0b35152-c887-449e-b3d0-f55483de1149",
   "metadata": {},
   "outputs": [
    {
     "name": "stdout",
     "output_type": "stream",
     "text": [
      "71.9 ms ± 739 µs per loop (mean ± std. dev. of 7 runs, 10 loops each)\n"
     ]
    }
   ],
   "source": [
    "%%timeit\n",
    "\n",
    "mus = fi.keys(filter_name=\"/.*___HT___.*mu(R|F).*/\")\n",
    "split_keys = [mu.split(\"___\") for mu in mus]\n",
    "procs = list(set([k[0] for k in split_keys]))\n",
    "cats = list(set([k[1] for k in split_keys]))\n",
    "variables = list(set([k[2] for k in split_keys]))\n",
    "systs = list(set([k[3] for k in split_keys]))\n"
   ]
  },
  {
   "cell_type": "code",
   "execution_count": 13,
   "id": "91db475e-306a-4457-b351-983949dd95d5",
   "metadata": {},
   "outputs": [],
   "source": [
    "def make_QCDScales_with_rate_tttt(tfile, \n",
    "                                  mode=\"add\", \n",
    "                                  filter_name=\"/tttt___.*___HT___OSDL_RunII_ttttmu.*/\", \n",
    "                                  normalizations={\n",
    "                                      \"OSDL_RunII_ttttmuRFcorrelatedDown\": 1.2991,\n",
    "                                      \"OSDL_RunII_ttttmuFNomRDown\": 1.2298,\n",
    "                                      \"OSDL_RunII_ttttmuRNomFDown\": 1.0753,\n",
    "                                      \"OSDL_RunII_ttttmuRNomFUp\": 0.9358,\n",
    "                                      \"OSDL_RunII_ttttmuFNomRUp\":  0.8088,\n",
    "                                      \"OSDL_RunII_ttttmuRFcorrelatedUp\": 0.7490\n",
    "                                  }\n",
    "                                 ):\n",
    "    _mode = mode.lower()\n",
    "    if _mode not in [\"add\", \"remove\"]:\n",
    "        raise ValueError(self.name + \" requires mode to be 'add (scale)' or 'remove (divide out)' for the normalizations\")\n",
    "    \n",
    "    \n",
    "    ret = {}\n",
    "    for k, v in tfile.items(filter_name=filter_name, cycle=False):\n",
    "        mu_type = k.split(\"___\")[-1]\n",
    "        if _mode == \"add\":\n",
    "            mu_factor = normalizations[mu_type]\n",
    "            name = k.replace(\"ttttmu\", \"ttttmuWithRate\")\n",
    "        else:\n",
    "            mu_factor = 1.0/normalizations[mu_type]\n",
    "            name = k.replace(\"ttttmu\", \"ttttmuWithoutRate\")\n",
    "        ret[name] = mu_factor * v.to_hist()\n",
    "    return ret\n",
    "    "
   ]
  },
  {
   "cell_type": "code",
   "execution_count": 14,
   "id": "0f46e28f-cfa9-4ca7-88f7-3530773c6713",
   "metadata": {},
   "outputs": [],
   "source": [
    "def make_envelope_hists(hist_list, nom_hist=None):\n",
    "    \"\"\"Wonky but minimally working 1D and 2D envelopes. Do not trust for more dimensions, it probably doesn't generalize.\"\"\"\n",
    "    new_axis=0 #don't play around with it\n",
    "    new_hist_up = deepcopy(hist_list[0])\n",
    "    new_hist_up.reset()\n",
    "    new_hist_down = deepcopy(new_hist_up)\n",
    "    \n",
    "    values = []\n",
    "    variances = []\n",
    "    i = 0\n",
    "    for i, h in enumerate(hist_list):\n",
    "        values.append(h.values(flow=True))\n",
    "        variances.append(h.variances(flow=True))\n",
    "    if nom_hist:\n",
    "        values.append(nom_hist.values(flow=True))\n",
    "        variances.append(nom_hist.variances(flow=True))\n",
    "    #Stack values and variances\n",
    "    s_values = np.stack(values, axis=new_axis)\n",
    "    s_variances = np.stack(variances, axis=new_axis)\n",
    "    \n",
    "    # Find the minima and maxima per bin, corresponding to new_axis\n",
    "    s_val_argmax = np.argmax(s_values, axis=new_axis, keepdims=True)\n",
    "    s_val_argmin = np.argmin(s_values, axis=new_axis, keepdims=True)\n",
    "    \n",
    "    # Get the corresponding minima and maxima and (for now) matching variances\n",
    "    s_val_max = np.take_along_axis(s_values, s_val_argmax, axis=new_axis)[0]\n",
    "    s_var_max = np.take_along_axis(s_variances, s_val_argmax, axis=new_axis)[0]\n",
    "    s_val_min = np.take_along_axis(s_values, s_val_argmin, axis=new_axis)[0]\n",
    "    s_var_min = np.take_along_axis(s_variances, s_val_argmin, axis=new_axis)[0]\n",
    "    \n",
    "    # Set the values and variances accordingly, this one doesn't use new_axis\n",
    "    new_hist_up.view(flow=True)[...] = np.stack([s_val_max, s_var_max], axis=-1)\n",
    "    new_hist_down.view(flow=True)[...] = np.stack([s_val_min, s_var_min], axis=-1)\n",
    "    \n",
    "    return new_hist_up, new_hist_down\n",
    "    "
   ]
  },
  {
   "cell_type": "code",
   "execution_count": 15,
   "id": "d577a82d-3276-4662-af43-9f17350e14cc",
   "metadata": {},
   "outputs": [],
   "source": [
    "def test_envelope():\n",
    "    init = hist.Hist.new.Reg(3, 0, 3, name=\"x\", flow=False).Reg(3, 0, 3, name=\"y\", flow=False).Weight()\n",
    "    a = deepcopy(init)\n",
    "    b = deepcopy(init)\n",
    "    c = deepcopy(init)\n",
    "    a.values()[...] = np.array([[-2, -1, 0],\n",
    "                                [-1, -1, 0],\n",
    "                                [0, 1, 1]], dtype=np.int32).T[:, ::-1]\n",
    "    b.values()[...] = np.array([[0, 1, 1],\n",
    "                                [-2, 0, 1],\n",
    "                                [-2, -1, -2]], dtype=np.int32).T[:, ::-1]\n",
    "    c.values()[...] = np.array([[1, 0, -2],\n",
    "                                [1, 1, -2],\n",
    "                                [1, 0, 0]], dtype=np.int32).T[:, ::-1]\n",
    "    d1, d2 = make_envelope_hists([a, b, c])\n",
    "    #d2.plot()\n",
    "    d2.plot()\n",
    "    assert np.all(d1.values() == 1)\n",
    "    print(d2.values()[:, :])\n",
    "    assert np.all(d2.values()[0, :] == -2)\n",
    "    assert np.all(d2.values()[1, :] == -1)\n",
    "    assert np.all(d2.values()[2, :] == -2)"
   ]
  },
  {
   "cell_type": "code",
   "execution_count": 16,
   "id": "8f7bb960-e858-4567-9b89-97542e2c4cb4",
   "metadata": {},
   "outputs": [
    {
     "name": "stdout",
     "output_type": "stream",
     "text": [
      "[[-2. -2. -2.]\n",
      " [-1. -1. -1.]\n",
      " [-2. -2. -2.]]\n"
     ]
    },
    {
     "data": {
      "image/png": "[encoded data removed]",
      "text/plain": [
       "<Figure size 432x288 with 2 Axes>"
      ]
     },
     "metadata": {
      "needs_background": "light"
     },
     "output_type": "display_data"
    }
   ],
   "source": [
    "test_envelope()"
   ]
  },
  {
   "cell_type": "code",
   "execution_count": 17,
   "id": "c9de9810-5884-435f-907c-7e6996e15328",
   "metadata": {},
   "outputs": [],
   "source": [
    "def get_hist_storages(string: bool = True):\n",
    "    available = [\n",
    "        k for k in dir(hist.storage) if not (k in [\"annotations\"] or k.startswith(\"_\"))\n",
    "    ]\n",
    "    if string:\n",
    "        return available\n",
    "    else:\n",
    "        return tuple([getattr(hist.storage, a) for a in available])\n",
    "\n",
    "def dict_to_hist_axis(\n",
    "    histos: dict[str, hist.hist.Hist],\n",
    "    axis_name: str,\n",
    "    axis_label: str | None = None,\n",
    "    axis_type: str = \"StrCategory\",\n",
    "    axis_storage: str | None = None,\n",
    "    axis_args: dict[str, Any] | None = None,\n",
    "    axis_iter_override: Any | None = None,\n",
    ") -> hist.hist.Hist:\n",
    "    keys = []\n",
    "    axes = None\n",
    "    storage = None\n",
    "    for it, (key, val) in enumerate(histos.items()):\n",
    "        keys.append(key)\n",
    "        if it == 0:\n",
    "            axes = [axis for axis in val.axes]\n",
    "            storage = val._storage_type()\n",
    "    if axis_storage is None:\n",
    "        pass  # use storage of the first histogram type\n",
    "    elif isinstance(axis_storage, str):\n",
    "        try:\n",
    "            storage = getattr(hist.storage, axis_storage)()\n",
    "        except:\n",
    "            available_storages = get_hist_storages(string=True)\n",
    "            raise ValueError(\n",
    "                f\"{axis_storage} not a valid type, choose from {available_storages}\"\n",
    "            )\n",
    "    elif isinstance(axis_storage, get_hist_storages(string=False)):\n",
    "        storage = axis_storage\n",
    "    else:\n",
    "        raise ValueError(f\"Unsupport storage type requested: {axis_storage}\")\n",
    "\n",
    "    all_args = {\n",
    "        \"name\": axis_name,\n",
    "        \"label\": axis_label if axis_label else axis_name,\n",
    "    }\n",
    "    if axis_args:\n",
    "        all_args.update(axis_args)\n",
    "\n",
    "    flow = True\n",
    "    # if \"flow\" in all_args:\n",
    "    #     flow = all_args[\"flow\"]\n",
    "\n",
    "    # Determine iterable categories\n",
    "\n",
    "    if axis_type == \"Boolean\":\n",
    "        # Boolean(*, name: 'str' = '', label: 'str' = '', metadata: 'Any' = None, __dict__: 'dict[str, Any] | None' = None) -> 'None'\n",
    "        new_axis = hist.axis.Boolean(**all_args)\n",
    "        axes.insert(0, new_axis)\n",
    "        h = hist.hist.Hist(\n",
    "            *axes,\n",
    "            storage,\n",
    "        )\n",
    "        for key, val in histos.items():\n",
    "            if key.lower() == \"true\":\n",
    "                idx = new_axis.index(True)\n",
    "            elif key.lower() == \"false\":\n",
    "                idx = new_axis.index(False)\n",
    "            else:\n",
    "                raise ValueError(f\"Unsupported axis value for Boolean type: {key}\")\n",
    "            h.view(flow=flow)[idx, ...] = val.view(flow=flow)\n",
    "    elif axis_type == \"IntCategory\":\n",
    "        # IntCategory(categories: 'Iterable[int]', *, name: 'str' = '', label: 'str' = '', metadata: 'Any' = None, growth: 'bool' = False, __dict__: 'dict[str, Any] | None' = None) -> 'None'\n",
    "        if axis_iter_override:\n",
    "            iterator = axis_iter_override\n",
    "        else:\n",
    "            iterator = [int(key) for key in keys]\n",
    "        new_axis = hist.axis.IntCategory(iterator, **all_args)\n",
    "        axes.insert(0, new_axis)\n",
    "        h = hist.hist.Hist(\n",
    "            *axes,\n",
    "            storage,\n",
    "        )\n",
    "        filled_keys = set()\n",
    "        for key, val in histos.items():\n",
    "            idx = new_axis.index(int(key))\n",
    "            if idx in filled_keys:\n",
    "                raise ValueError(\n",
    "                    f\"Duplicate key found for IntCategory type: {key} -> {int(key)}\"\n",
    "                )\n",
    "            else:\n",
    "                filled_keys.add(idx)\n",
    "            h.view(flow=flow)[idx, ...] = val.view(flow=flow)\n",
    "    elif axis_type == \"Integer\":\n",
    "        # Integer(start: 'int', stop: 'int', *, name: 'str' = '', label: 'str' = '', metadata: 'Any' = None, flow: 'bool' = True, underflow: 'bool | None' = None, overflow: 'bool | None' = None, growth: 'bool' = False, circular: 'bool' = False, __dict__: 'dict[str, Any] | None' = None) -> 'None'\n",
    "        if axis_iter_override:\n",
    "            iterator = axis_iter_override\n",
    "        else:\n",
    "            iterator = [\n",
    "                int(key) for key in keys if key.lower() not in [\"underflow\", \"overflow\"]\n",
    "            ]\n",
    "        if \"start\" not in all_args:\n",
    "            all_args[\"start\"] = min(iterator)\n",
    "        if \"stop\" not in all_args:\n",
    "            all_args[\"stop\"] = max(iterator)\n",
    "        new_axis = hist.axis.Integer(**all_args)\n",
    "        axes.insert(0, new_axis)\n",
    "        h = hist.hist.Hist(\n",
    "            *axes,\n",
    "            storage,\n",
    "        )\n",
    "        filled_keys = set()\n",
    "        for key, val in histos.items():\n",
    "            if key.lower() == \"underflow\":\n",
    "                idx = new_axis.underflow\n",
    "            elif key.lower() == \"overflow\":\n",
    "                idx = new_axis.overflow\n",
    "            else:\n",
    "                idx = new_axis.index(int(key))\n",
    "            if idx in filled_keys:\n",
    "                raise ValueError(\n",
    "                    f\"Duplicate key found for Integer type: {key} -> {int(key)}\"\n",
    "                )\n",
    "            else:\n",
    "                filled_keys.add(idx)\n",
    "            h.view(flow=flow)[idx, ...] = val.view(flow=flow)\n",
    "    elif axis_type == \"Regular\":\n",
    "        # Regular(bins: 'int', start: 'float', stop: 'float', *, name: 'str' = '', label: 'str' = '', metadata: 'Any' = None, flow: 'bool' = True, underflow: 'bool | None' = None, overflow: 'bool | None' = None, growth: 'bool' = False, circular: 'bool' = False, transform: 'bha.transform.AxisTransform | None' = None, __dict__: 'dict[str, Any] | None' = None) -> 'None'\n",
    "        if axis_iter_override:\n",
    "            iterator = axis_iter_override\n",
    "        else:\n",
    "            iterator = [\n",
    "                float(key)\n",
    "                for key in keys\n",
    "                if key.lower() not in [\"underflow\", \"overflow\"]\n",
    "            ]\n",
    "        if \"bins\" not in all_args:\n",
    "            all_args[\"bins\"] = len(iterator)\n",
    "        if \"start\" not in all_args:\n",
    "            all_args[\"start\"] = min(iterator)\n",
    "        if \"stop\" not in all_args:\n",
    "            all_args[\"stop\"] = max(iterator)\n",
    "        new_axis = hist.axis.Regular(**all_args)\n",
    "        axes.insert(0, new_axis)\n",
    "        h = hist.hist.Hist(\n",
    "            *axes,\n",
    "            storage,\n",
    "        )\n",
    "        filled_keys = set()\n",
    "        for key, val in histos.items():\n",
    "            if key.lower() == \"underflow\" and flow:\n",
    "                idx = 0\n",
    "            elif key.lower() == \"overflow\" and flow:\n",
    "                idx = new_axis.extent - 1\n",
    "            else:\n",
    "                idx = new_axis.index(float(key))\n",
    "\n",
    "            if idx in filled_keys:\n",
    "                raise ValueError(\n",
    "                    f\"Duplicate key found for Integer type: {key} -> {float(key)}\"\n",
    "                )\n",
    "            else:\n",
    "                filled_keys.add(idx)\n",
    "            h.view(flow=flow)[idx, ...] = val.view(flow=flow)\n",
    "    elif axis_type == \"StrCategory\":\n",
    "        # StrCategory(categories: 'Iterable[str]', *, name: 'str' = '', label: 'str' = '', metadata: 'Any' = None, growth: 'bool' = False, __dict__: 'dict[str, Any] | None' = None) -> 'None'\n",
    "        if axis_iter_override:\n",
    "            iterator = axis_iter_override\n",
    "        else:\n",
    "            iterator = [key for key in keys]\n",
    "        new_axis = hist.axis.StrCategory(iterator, **all_args)\n",
    "        axes.insert(0, new_axis)\n",
    "        h = hist.hist.Hist(\n",
    "            *axes,\n",
    "            storage,\n",
    "        )\n",
    "        filled_keys = set()\n",
    "        for key, val in histos.items():\n",
    "            idx = new_axis.index(key)\n",
    "\n",
    "            if idx in filled_keys:\n",
    "                raise ValueError(\n",
    "                    f\"Duplicate key found for Variable type: {key} -> {float(key)}\"\n",
    "                )\n",
    "            else:\n",
    "                filled_keys.add(idx)\n",
    "            h.view(flow=flow)[idx, ...] = val.view(flow=flow)\n",
    "    elif axis_type == \"Variable\":\n",
    "        # Variable(edges: 'Iterable[float]', *, name: 'str' = '', label: 'str' = '', metadata: 'Any' = None, flow: 'bool' = True, underflow: 'bool | None' = None, overflow: 'bool | None' = None, growth: 'bool' = False, circular: 'bool' = False, __dict__: 'dict[str, Any] | None' = None) -> 'None'\n",
    "        if axis_iter_override:\n",
    "            iterator = axis_iter_override\n",
    "        else:\n",
    "            iterator = sorted(\n",
    "                [\n",
    "                    float(key)\n",
    "                    for key in keys\n",
    "                    if key.lower() not in [\"underflow\", \"overflow\"]\n",
    "                ]\n",
    "            )\n",
    "        new_axis = hist.axis.Variable(**all_args)\n",
    "        axes.insert(0, new_axis)\n",
    "        h = hist.hist.Hist(\n",
    "            *axes,\n",
    "            storage,\n",
    "        )\n",
    "        filled_keys = set()\n",
    "        for key, val in histos.items():\n",
    "            if key.lower() == \"underflow\" and flow:\n",
    "                idx = 0\n",
    "            elif key.lower() == \"overflow\" and flow:\n",
    "                idx = new_axis.extent - 1\n",
    "            else:\n",
    "                idx = new_axis.index(float(key))\n",
    "\n",
    "            if idx in filled_keys:\n",
    "                raise ValueError(\n",
    "                    f\"Duplicate key found for Variable type: {key} -> {float(key)}\"\n",
    "                )\n",
    "            else:\n",
    "                filled_keys.add(idx)\n",
    "            h.view(flow=flow)[idx, ...] = val.view(flow=flow)\n",
    "    else:\n",
    "        raise ValueError(f\"Unsupported axis_type {axis_type}\")\n",
    "\n",
    "    return h\n"
   ]
  },
  {
   "cell_type": "code",
   "execution_count": 23,
   "id": "986036a5-a868-4a9b-b6d1-046676738015",
   "metadata": {},
   "outputs": [],
   "source": [
    "def make_QCDScales_envelopes(tfile,\n",
    "                  top_filter_name=\"/.*___.*___HT___OSDL_RunII_.*mu(R|F).*(Down|Up)/\"):\n",
    "    keys = tfile.keys(filter_name=top_filter_name, cycle=False)\n",
    "    skeys = [kk.split(\"___\") for kk in keys]\n",
    "    \n",
    "    tttt_rates = make_QCDScales_with_rate_tttt(tfile, \n",
    "                                               mode=\"add\", \n",
    "                                               filter_name=top_filter_name.replace(\".*mu\", \"ttttmu\")\n",
    "                                               #filter_name=f\"/tttt___.*___.*___OSDL_RunII_ttttmu.*/\"\n",
    "                                              )\n",
    "                                             \n",
    "    tree = {}\n",
    "    ret_hists = {}\n",
    "    ret_rates = {}\n",
    "    for proc, cat, var, syst in skeys + [kk.split(\"___\") for kk in tttt_rates]:\n",
    "        if proc not in tree:\n",
    "            tree[proc] = {}\n",
    "        if cat not in tree[proc]:\n",
    "            tree[proc][cat] = {}\n",
    "        if var not in tree[proc][cat]:\n",
    "            tree[proc][cat][var] = {}\n",
    "        search_key = f\"{proc}___{cat}___{var}___{syst}\"\n",
    "        if search_key in tttt_rates:\n",
    "            tree[proc][cat][var][syst] = tttt_rates[search_key]\n",
    "        else:\n",
    "            tree[proc][cat][var][syst] = tfile[f\"{proc}___{cat}___{var}___{syst}\"].to_hist()\n",
    "            \n",
    "        #rates for the datacard maker\n",
    "        if cat not in ret_rates:\n",
    "            ret_rates[cat] = {}\n",
    "        if proc not in ret_rates[cat]:\n",
    "            ret_rates[cat][proc] = {}\n",
    "    \n",
    "    \n",
    "    for proc in tree.keys():\n",
    "        for cat in tree[proc].keys():\n",
    "            for var in tree[proc][cat].keys():\n",
    "                syst_hists = tree[proc][cat][var]\n",
    "                nom_hist = tfile[f\"{proc}___{cat}___{var}___nom\"].to_hist()\n",
    "                for env_set, disq in [(f\"OSDL_RunII_{proc}muWithRate\", \"$NODISQ\"),\n",
    "                                      (f\"OSDL_RunII_{proc}muWithoutRate\", \"$NODISQ\"),\n",
    "                                      (f\"OSDL_RunII_{proc}mu\", \"Rate\"),\n",
    "                                     ]:\n",
    "                    hist_name_base = f\"{proc}___{cat}___{var}___{env_set}RFenvelope\"\n",
    "                    hist_list = [v for k,v in syst_hists.items() if k.startswith(env_set) and disq not in k]\n",
    "                    #print(proc, cat, var, env_set, hist_list,\"\\n\\n\")\n",
    "                    if len(hist_list) == 0:\n",
    "                        continue\n",
    "                    hist_env_up, hist_env_down = make_envelope_hists(hist_list, nom_hist=nom_hist)\n",
    "                    #alt_base = dict_to_hist_axis({k:v for k,v in syst_hists.items() if k.startswith(env_set) and disq not in k},\n",
    "                    #                             \"systematic\",\n",
    "                    #                             \"systematic\",\n",
    "                    #                             \"StrCategory\",\n",
    "                    #                             hist.storage.Weight(),\n",
    "                    #                             {\"growth\": True},\n",
    "                    #                             None\n",
    "                    #                             )\n",
    "                    #if proc == \"tttt\" and cat == \"HT500_nMediumDeepJetB4p_nJet8p\":\n",
    "                    #    print(\"\\n\".join([axis.name for axis in alt_base.axes]))\n",
    "                    #    alt_base_up = alt_base[{\"systematic\": hist.tag.Slicer()[::sum]}]\n",
    "                    #    print(alt_base_up.values())\n",
    "                    #    print(hist_env_up.values())\n",
    "                        \n",
    "                    ret_hists[hist_name_base + \"Up\"] = hist_env_up\n",
    "                    ret_hists[hist_name_base + \"Down\"] = hist_env_down\n",
    "                    ret_rates[cat][proc][hist_name_base + \"Up\"] = hist_env_up.sum().value\n",
    "                    ret_rates[cat][proc][hist_name_base + \"Down\"] = hist_env_down.sum().value\n",
    "                    \n",
    "                    #print(proc, cat, var, env_set, len(hist_list))\n",
    "    return ret_hists, ret_rates\n",
    "        "
   ]
  },
  {
   "cell_type": "code",
   "execution_count": 21,
   "id": "b8bf2229-d360-4b5b-8fcf-f902ad78e45b",
   "metadata": {},
   "outputs": [
    {
     "name": "stdout",
     "output_type": "stream",
     "text": [
      "ttH HT500_nMediumDeepJetB4p_nJet4 HT OSDL_RunII_ttHmu 6\n",
      "ttH HT500_nMediumDeepJetB4p_nJet5 HT OSDL_RunII_ttHmu 6\n",
      "ttH HT500_nMediumDeepJetB4p_nJet6 HT OSDL_RunII_ttHmu 6\n",
      "ttH HT500_nMediumDeepJetB4p_nJet7 HT OSDL_RunII_ttHmu 6\n",
      "ttH HT500_nMediumDeepJetB4p_nJet8p HT OSDL_RunII_ttHmu 6\n",
      "tttt HT500_nMediumDeepJetB4p_nJet4 HT OSDL_RunII_ttttmuWithRate 6\n",
      "tttt HT500_nMediumDeepJetB4p_nJet4 HT OSDL_RunII_ttttmu 6\n",
      "tttt HT500_nMediumDeepJetB4p_nJet5 HT OSDL_RunII_ttttmuWithRate 6\n",
      "tttt HT500_nMediumDeepJetB4p_nJet5 HT OSDL_RunII_ttttmu 6\n",
      "tttt HT500_nMediumDeepJetB4p_nJet6 HT OSDL_RunII_ttttmuWithRate 6\n",
      "tttt HT500_nMediumDeepJetB4p_nJet6 HT OSDL_RunII_ttttmu 6\n",
      "tttt HT500_nMediumDeepJetB4p_nJet7 HT OSDL_RunII_ttttmuWithRate 6\n",
      "tttt HT500_nMediumDeepJetB4p_nJet7 HT OSDL_RunII_ttttmu 6\n",
      "systematic\n",
      "xaxis\n",
      "[0.152393   0.22195465 0.26191446 0.34044223 0.34296751 0.36496076\n",
      " 0.47366361 0.42105138 0.49064017 0.44361057 0.50165621 0.45619936\n",
      " 0.45287376 0.45281817 0.42899735 0.33470727 0.37769843 0.25494066\n",
      " 0.22384908 0.18439166 0.14422626 0.15936144 0.12279369 0.22376302\n",
      " 0.19749128 0.08622506 0.15721195]\n",
      "[0.03161155 0.05026824 0.05717171 0.07498    0.07364424 0.08050219\n",
      " 0.09843521 0.08285265 0.10325962 0.09270448 0.10581549 0.09613603\n",
      " 0.09504412 0.09712137 0.08939219 0.06983226 0.0814541  0.05169453\n",
      " 0.0448698  0.03506386 0.0283431  0.03347509 0.02382903 0.04616784\n",
      " 0.04002043 0.01577378 0.03127308]\n",
      "tttt HT500_nMediumDeepJetB4p_nJet8p HT OSDL_RunII_ttttmuWithRate 6\n",
      "systematic\n",
      "xaxis\n",
      "[0.15038873 0.21644455 0.25684662 0.33310103 0.3369704  0.35710647\n",
      " 0.46788859 0.41903189 0.48369841 0.43779772 0.4943696  0.44945783\n",
      " 0.44639643 0.44555589 0.42358558 0.33020382 0.37097882 0.25248349\n",
      " 0.22213466 0.18447242 0.14355571 0.15721445 0.12232712 0.2213097\n",
      " 0.19573125 0.08733578 0.1562084 ]\n",
      "[0.02572529 0.03869466 0.04400871 0.05774092 0.05682384 0.06196766\n",
      " 0.07981453 0.07458447 0.08154185 0.0742334  0.08312568 0.07556493\n",
      " 0.07524957 0.07580178 0.07212838 0.05589402 0.06270041 0.0437109\n",
      " 0.0388408  0.03363325 0.02551011 0.02680248 0.02182989 0.03819529\n",
      " 0.03395713 0.01706936 0.02748972]\n",
      "tttt HT500_nMediumDeepJetB4p_nJet8p HT OSDL_RunII_ttttmu 6\n",
      "ttVJets HT500_nMediumDeepJetB4p_nJet4 HT OSDL_RunII_ttVJetsmu 6\n",
      "ttVJets HT500_nMediumDeepJetB4p_nJet5 HT OSDL_RunII_ttVJetsmu 6\n",
      "ttVJets HT500_nMediumDeepJetB4p_nJet6 HT OSDL_RunII_ttVJetsmu 6\n",
      "ttVJets HT500_nMediumDeepJetB4p_nJet7 HT OSDL_RunII_ttVJetsmu 6\n",
      "ttVJets HT500_nMediumDeepJetB4p_nJet8p HT OSDL_RunII_ttVJetsmu 6\n",
      "ttbb HT500_nMediumDeepJetB4p_nJet4 HT OSDL_RunII_ttbbmu 6\n",
      "ttbb HT500_nMediumDeepJetB4p_nJet5 HT OSDL_RunII_ttbbmu 6\n",
      "ttbb HT500_nMediumDeepJetB4p_nJet6 HT OSDL_RunII_ttbbmu 6\n",
      "ttbb HT500_nMediumDeepJetB4p_nJet7 HT OSDL_RunII_ttbbmu 6\n",
      "ttbb HT500_nMediumDeepJetB4p_nJet8p HT OSDL_RunII_ttbbmu 6\n",
      "ttnobb HT500_nMediumDeepJetB4p_nJet4 HT OSDL_RunII_ttnobbmu 6\n",
      "ttnobb HT500_nMediumDeepJetB4p_nJet5 HT OSDL_RunII_ttnobbmu 6\n",
      "ttnobb HT500_nMediumDeepJetB4p_nJet6 HT OSDL_RunII_ttnobbmu 6\n",
      "ttnobb HT500_nMediumDeepJetB4p_nJet7 HT OSDL_RunII_ttnobbmu 6\n",
      "ttnobb HT500_nMediumDeepJetB4p_nJet8p HT OSDL_RunII_ttnobbmu 6\n",
      "ttultrarare HT500_nMediumDeepJetB4p_nJet4 HT OSDL_RunII_ttultrararemu 6\n",
      "ttultrarare HT500_nMediumDeepJetB4p_nJet5 HT OSDL_RunII_ttultrararemu 6\n",
      "ttultrarare HT500_nMediumDeepJetB4p_nJet6 HT OSDL_RunII_ttultrararemu 6\n",
      "ttultrarare HT500_nMediumDeepJetB4p_nJet7 HT OSDL_RunII_ttultrararemu 6\n",
      "ttultrarare HT500_nMediumDeepJetB4p_nJet8p HT OSDL_RunII_ttultrararemu 6\n"
     ]
    }
   ],
   "source": [
    "tx, ty = make_QCDScales_envelopes(fi,\n",
    "             \"/tt.*___HT500_nMediumDeepJetB4p_nJet.*___HT___OSDL_RunII_.*mu(R|F).*(Down|Up)/\")"
   ]
  },
  {
   "cell_type": "code",
   "execution_count": 25,
   "id": "5fef22d7-7476-49bb-b082-f879d366bc1a",
   "metadata": {},
   "outputs": [
    {
     "name": "stdout",
     "output_type": "stream",
     "text": [
      "Welcome to JupyROOT 6.26/04\n"
     ]
    },
    {
     "ename": "AttributeError",
     "evalue": "'Hist' object has no attribute '_serialize'",
     "output_type": "error",
     "traceback": [
      "\u001b[0;31m---------------------------------------------------------------------------\u001b[0m",
      "\u001b[0;31mAttributeError\u001b[0m                            Traceback (most recent call last)",
      "\u001b[0;32m/tmp/nmangane/ipykernel_12534/120646918.py\u001b[0m in \u001b[0;36m<module>\u001b[0;34m\u001b[0m\n\u001b[0;32m----> 1\u001b[0;31m \u001b[0muproot\u001b[0m\u001b[0;34m.\u001b[0m\u001b[0mpyroot\u001b[0m\u001b[0;34m.\u001b[0m\u001b[0mto_pyroot\u001b[0m\u001b[0;34m(\u001b[0m\u001b[0mtx\u001b[0m\u001b[0;34m[\u001b[0m\u001b[0;34m'ttH___HT500_nMediumDeepJetB4p_nJet4___HT___OSDL_RunII_ttHmuRFenvelopeUp'\u001b[0m\u001b[0;34m]\u001b[0m\u001b[0;34m)\u001b[0m\u001b[0;34m\u001b[0m\u001b[0;34m\u001b[0m\u001b[0m\n\u001b[0m",
      "\u001b[0;32m/cvmfs/sft.cern.ch/lcg/views/LCG_102swan/x86_64-centos7-gcc11-opt/lib/python3.9/site-packages/uproot/pyroot.py\u001b[0m in \u001b[0;36mto_pyroot\u001b[0;34m(obj, name)\u001b[0m\n\u001b[1;32m     54\u001b[0m         \u001b[0mto_pyroot\u001b[0m\u001b[0;34m.\u001b[0m\u001b[0m_Uproot_FromTMessage\u001b[0m \u001b[0;34m=\u001b[0m \u001b[0mROOT\u001b[0m\u001b[0;34m.\u001b[0m\u001b[0m_Uproot_FromTMessage\u001b[0m\u001b[0;34m\u001b[0m\u001b[0;34m\u001b[0m\u001b[0m\n\u001b[1;32m     55\u001b[0m \u001b[0;34m\u001b[0m\u001b[0m\n\u001b[0;32m---> 56\u001b[0;31m     \u001b[0mserialized\u001b[0m \u001b[0;34m=\u001b[0m \u001b[0muproot\u001b[0m\u001b[0;34m.\u001b[0m\u001b[0mserialization\u001b[0m\u001b[0;34m.\u001b[0m\u001b[0mserialize_object_any\u001b[0m\u001b[0;34m(\u001b[0m\u001b[0mobj\u001b[0m\u001b[0;34m,\u001b[0m \u001b[0mname\u001b[0m\u001b[0;34m)\u001b[0m\u001b[0;34m\u001b[0m\u001b[0;34m\u001b[0m\u001b[0m\n\u001b[0m\u001b[1;32m     57\u001b[0m     \u001b[0mbuffer\u001b[0m \u001b[0;34m=\u001b[0m \u001b[0mnumpy\u001b[0m\u001b[0;34m.\u001b[0m\u001b[0mempty\u001b[0m\u001b[0;34m(\u001b[0m\u001b[0mlen\u001b[0m\u001b[0;34m(\u001b[0m\u001b[0mserialized\u001b[0m\u001b[0;34m)\u001b[0m \u001b[0;34m+\u001b[0m \u001b[0;36m8\u001b[0m\u001b[0;34m,\u001b[0m \u001b[0mnumpy\u001b[0m\u001b[0;34m.\u001b[0m\u001b[0muint8\u001b[0m\u001b[0;34m)\u001b[0m\u001b[0;34m\u001b[0m\u001b[0;34m\u001b[0m\u001b[0m\n\u001b[1;32m     58\u001b[0m     \u001b[0mbuffer\u001b[0m\u001b[0;34m[\u001b[0m\u001b[0;34m:\u001b[0m\u001b[0;36m8\u001b[0m\u001b[0;34m]\u001b[0m\u001b[0;34m.\u001b[0m\u001b[0mview\u001b[0m\u001b[0;34m(\u001b[0m\u001b[0mnumpy\u001b[0m\u001b[0;34m.\u001b[0m\u001b[0muint64\u001b[0m\u001b[0;34m)\u001b[0m\u001b[0;34m[\u001b[0m\u001b[0;36m0\u001b[0m\u001b[0;34m]\u001b[0m \u001b[0;34m=\u001b[0m \u001b[0mROOT\u001b[0m\u001b[0;34m.\u001b[0m\u001b[0mkMESS_OBJECT\u001b[0m\u001b[0;34m\u001b[0m\u001b[0;34m\u001b[0m\u001b[0m\n",
      "\u001b[0;32m/cvmfs/sft.cern.ch/lcg/views/LCG_102swan/x86_64-centos7-gcc11-opt/lib/python3.9/site-packages/uproot/serialization.py\u001b[0m in \u001b[0;36mserialize_object_any\u001b[0;34m(model, name)\u001b[0m\n\u001b[1;32m     80\u001b[0m     \"\"\"\n\u001b[1;32m     81\u001b[0m     \u001b[0mout\u001b[0m \u001b[0;34m=\u001b[0m \u001b[0;34m[\u001b[0m\u001b[0;34m]\u001b[0m\u001b[0;34m\u001b[0m\u001b[0;34m\u001b[0m\u001b[0m\n\u001b[0;32m---> 82\u001b[0;31m     \u001b[0m_serialize_object_any\u001b[0m\u001b[0;34m(\u001b[0m\u001b[0mout\u001b[0m\u001b[0;34m,\u001b[0m \u001b[0mmodel\u001b[0m\u001b[0;34m,\u001b[0m \u001b[0mname\u001b[0m\u001b[0;34m)\u001b[0m\u001b[0;34m\u001b[0m\u001b[0;34m\u001b[0m\u001b[0m\n\u001b[0m\u001b[1;32m     83\u001b[0m     \u001b[0;32mreturn\u001b[0m \u001b[0;34mb\"\"\u001b[0m\u001b[0;34m.\u001b[0m\u001b[0mjoin\u001b[0m\u001b[0;34m(\u001b[0m\u001b[0mout\u001b[0m\u001b[0;34m)\u001b[0m\u001b[0;34m\u001b[0m\u001b[0;34m\u001b[0m\u001b[0m\n",
      "\u001b[0;32m/cvmfs/sft.cern.ch/lcg/views/LCG_102swan/x86_64-centos7-gcc11-opt/lib/python3.9/site-packages/uproot/serialization.py\u001b[0m in \u001b[0;36m_serialize_object_any\u001b[0;34m(out, model, name)\u001b[0m\n\u001b[1;32m     61\u001b[0m     \u001b[0;32melse\u001b[0m\u001b[0;34m:\u001b[0m\u001b[0;34m\u001b[0m\u001b[0;34m\u001b[0m\u001b[0m\n\u001b[1;32m     62\u001b[0m         \u001b[0mwhere\u001b[0m \u001b[0;34m=\u001b[0m \u001b[0mlen\u001b[0m\u001b[0;34m(\u001b[0m\u001b[0mout\u001b[0m\u001b[0;34m)\u001b[0m\u001b[0;34m\u001b[0m\u001b[0;34m\u001b[0m\u001b[0m\n\u001b[0;32m---> 63\u001b[0;31m         \u001b[0mmodel\u001b[0m\u001b[0;34m.\u001b[0m\u001b[0m_serialize\u001b[0m\u001b[0;34m(\u001b[0m\u001b[0mout\u001b[0m\u001b[0;34m,\u001b[0m \u001b[0;32mTrue\u001b[0m\u001b[0;34m,\u001b[0m \u001b[0mname\u001b[0m\u001b[0;34m,\u001b[0m \u001b[0mnumpy\u001b[0m\u001b[0;34m.\u001b[0m\u001b[0muint32\u001b[0m\u001b[0;34m(\u001b[0m\u001b[0;36m0x00000000\u001b[0m\u001b[0;34m)\u001b[0m\u001b[0;34m)\u001b[0m\u001b[0;34m\u001b[0m\u001b[0;34m\u001b[0m\u001b[0m\n\u001b[0m\u001b[1;32m     64\u001b[0m \u001b[0;34m\u001b[0m\u001b[0m\n\u001b[1;32m     65\u001b[0m         \u001b[0mclassname\u001b[0m \u001b[0;34m=\u001b[0m \u001b[0mmodel\u001b[0m\u001b[0;34m.\u001b[0m\u001b[0mclassname\u001b[0m\u001b[0;34m.\u001b[0m\u001b[0mencode\u001b[0m\u001b[0;34m(\u001b[0m\u001b[0merrors\u001b[0m\u001b[0;34m=\u001b[0m\u001b[0;34m\"surrogateescape\"\u001b[0m\u001b[0;34m)\u001b[0m \u001b[0;34m+\u001b[0m \u001b[0;34mb\"\\x00\"\u001b[0m\u001b[0;34m\u001b[0m\u001b[0;34m\u001b[0m\u001b[0m\n",
      "\u001b[0;31mAttributeError\u001b[0m: 'Hist' object has no attribute '_serialize'"
     ]
    }
   ],
   "source": [
    "#uproot.pyroot.to_pyroot(tx['ttH___HT500_nMediumDeepJetB4p_nJet4___HT___OSDL_RunII_ttHmuRFenvelopeUp'])\n"
   ]
  },
  {
   "cell_type": "code",
   "execution_count": 20,
   "id": "d15648c2-4521-4b41-be72-14d53d8f5ef4",
   "metadata": {},
   "outputs": [],
   "source": [
    "x = fi[\"ttH___HT500_nMediumDeepJetB0_nJet4___HT___nom\"].to_hist()#.axes[0].traits.overflow"
   ]
  },
  {
   "cell_type": "code",
   "execution_count": 47,
   "id": "af47e841-0ea0-4edb-bccc-f75a21127c9f",
   "metadata": {},
   "outputs": [],
   "source": [
    "xx = deepcopy(x)\n",
    "xx.values(flow=True)[:] = np.zeros_like(len(x.values(flow=True)))"
   ]
  },
  {
   "cell_type": "code",
   "execution_count": 58,
   "id": "c31cb874-5708-4448-bbf3-c4b45c746081",
   "metadata": {},
   "outputs": [],
   "source": [
    "xx.view(flow=True)[...] = np.stack([np.zeros_like(x.values(flow=True)), \n",
    "                                    np.zeros_like(x.values(flow=True))], axis=-1)\n"
   ]
  },
  {
   "cell_type": "code",
   "execution_count": 60,
   "id": "5c355240-b437-4ae4-b40b-d39874ccbaac",
   "metadata": {},
   "outputs": [
    {
     "data": {
      "text/plain": [
       "array([0., 0., 0., 0., 0., 0., 0., 0., 0., 0., 0., 0., 0., 0., 0., 0., 0.,\n",
       "       0., 0., 0., 0., 0., 0., 0., 0., 0.])"
      ]
     },
     "execution_count": 60,
     "metadata": {},
     "output_type": "execute_result"
    }
   ],
   "source": [
    "xx.variances()"
   ]
  },
  {
   "cell_type": "code",
   "execution_count": 35,
   "id": "a7c610b7-8bfe-485a-b3df-e1b6d7668d49",
   "metadata": {},
   "outputs": [
    {
     "data": {
      "text/plain": [
       "array([0.00000000e+00, 1.66912358e-02, 1.30024031e-02, 8.99397599e-03,\n",
       "       8.07180463e-03, 8.13546605e-03, 6.57024435e-03, 1.04886333e-02,\n",
       "       2.93144193e-03, 3.82167367e-03, 1.93109735e-03, 3.22293712e-03,\n",
       "       1.48469085e-03, 2.30199715e-03, 5.95403490e-04, 1.05042909e-03,\n",
       "       0.00000000e+00, 1.79968240e-03, 2.06838065e-04, 2.07632863e-05,\n",
       "       2.42304950e-04, 0.00000000e+00, 0.00000000e+00, 0.00000000e+00,\n",
       "       2.51644444e-04, 3.29641693e-04, 0.00000000e+00, 2.55682276e-04])"
      ]
     },
     "execution_count": 35,
     "metadata": {},
     "output_type": "execute_result"
    }
   ],
   "source": [
    "x.values(flow=True)"
   ]
  },
  {
   "cell_type": "code",
   "execution_count": 45,
   "id": "10b65cbf-92b8-4f0c-9d18-8541a0e42710",
   "metadata": {},
   "outputs": [
    {
     "data": {
      "text/plain": [
       "array([1., 1., 2., 2., 2., 1., 1., 0., 0., 0.])"
      ]
     },
     "execution_count": 45,
     "metadata": {},
     "output_type": "execute_result"
    }
   ],
   "source": [
    "y = hist.Hist.new.Reg(10, 0, 10, name=\"y\", flow=False).Double()\n",
    "y.fill([0, 1, 2, 3, 4, 3, 4, 2, 5, 6])\n",
    "y.values(flow=True)"
   ]
  },
  {
   "cell_type": "code",
   "execution_count": 50,
   "id": "423930e5-e12f-4fb0-b74e-3af389d43641",
   "metadata": {},
   "outputs": [
    {
     "data": {
      "text/html": [
       "<html>\n",
       "<div style=\"display:flex; align-items:center;\">\n",
       "<div style=\"width:290px;\">\n",
       "<svg xmlns=\"http://www.w3.org/2000/svg\" viewBox=\"-10 -105 270 120\">\n",
       "<line x1=\"-5\" y1=\"0\" x2=\"255\" y2=\"0\" style=\"fill:none;stroke-width:2;stroke:currentColor\"/>\n",
       "<text text-anchor=\"middle\" x=\"0\" y=\"15\" style=\"fill:currentColor;\">\n",
       "0\n",
       "</text>\n",
       "<text text-anchor=\"middle\" x=\"250\" y=\"15\" style=\"fill:currentColor;\">\n",
       "10\n",
       "</text>\n",
       "<text text-anchor=\"middle\" x=\"125.0\" y=\"15\" style=\"fill:currentColor;\">\n",
       "y\n",
       "</text>\n",
       "<polyline points=\"  0,0   0,-0  25,-0  25,-0  50,-0  50,-0  75,-0  75,-0 100,-0 100,-0 125,-0 125,-0 150,-0 150,-0 175,-0 175,-0 200,-0 200,-0 225,-0 225,-0 250,-0 250,0\" style=\"fill:none; stroke:currentColor;\"/>\n",
       "</svg>\n",
       "</div>\n",
       "<div style=\"flex=grow:1;\">\n",
       "Regular(10, 0, 10, underflow=False, overflow=False, name='y', label='y')<br/>\n",
       "<hr style=\"margin-top:.2em; margin-bottom:.2em;\"/>\n",
       "Double() Σ=0.0\n",
       "\n",
       "</div>\n",
       "</div>\n",
       "</html>"
      ],
      "text/plain": [
       "Hist(Regular(10, 0, 10, underflow=False, overflow=False, name='y', label='y'), storage=Double())"
      ]
     },
     "execution_count": 50,
     "metadata": {},
     "output_type": "execute_result"
    }
   ],
   "source": [
    "yy = deepcopy(y)\n",
    "yy.reset()\n",
    "yy"
   ]
  },
  {
   "cell_type": "code",
   "execution_count": 47,
   "id": "eab7fd55-e9c4-4a80-a215-6092519478ff",
   "metadata": {},
   "outputs": [
    {
     "data": {
      "text/plain": [
       "['__add__',\n",
       " '__annotations__',\n",
       " '__array__',\n",
       " '__class__',\n",
       " '__copy__',\n",
       " '__deepcopy__',\n",
       " '__delattr__',\n",
       " '__dict__',\n",
       " '__dir__',\n",
       " '__div__',\n",
       " '__doc__',\n",
       " '__eq__',\n",
       " '__format__',\n",
       " '__ge__',\n",
       " '__getattribute__',\n",
       " '__getitem__',\n",
       " '__getstate__',\n",
       " '__gt__',\n",
       " '__hash__',\n",
       " '__iadd__',\n",
       " '__idiv__',\n",
       " '__imul__',\n",
       " '__init__',\n",
       " '__init_subclass__',\n",
       " '__isub__',\n",
       " '__itruediv__',\n",
       " '__le__',\n",
       " '__lt__',\n",
       " '__module__',\n",
       " '__mul__',\n",
       " '__ne__',\n",
       " '__new__',\n",
       " '__radd__',\n",
       " '__reduce__',\n",
       " '__reduce_ex__',\n",
       " '__repr__',\n",
       " '__rmul__',\n",
       " '__setattr__',\n",
       " '__setitem__',\n",
       " '__setstate__',\n",
       " '__sizeof__',\n",
       " '__slots__',\n",
       " '__str__',\n",
       " '__sub__',\n",
       " '__subclasshook__',\n",
       " '__truediv__',\n",
       " '__weakref__',\n",
       " '_axis',\n",
       " '_compute_commonindex',\n",
       " '_compute_inplace_op',\n",
       " '_compute_uhi_index',\n",
       " '_export_bh_',\n",
       " '_family',\n",
       " '_from_histogram_object',\n",
       " '_generate_axes_',\n",
       " '_hist',\n",
       " '_import_bh_',\n",
       " '_index_transform',\n",
       " '_loc_shortcut',\n",
       " '_name_to_index',\n",
       " '_new_hist',\n",
       " '_reduce',\n",
       " '_repr_html_',\n",
       " '_step_shortcut',\n",
       " '_storage_type',\n",
       " '_types',\n",
       " '_variance_known',\n",
       " 'axes',\n",
       " 'copy',\n",
       " 'counts',\n",
       " 'density',\n",
       " 'empty',\n",
       " 'fill',\n",
       " 'from_columns',\n",
       " 'kind',\n",
       " 'label',\n",
       " 'metadata',\n",
       " 'name',\n",
       " 'ndim',\n",
       " 'plot',\n",
       " 'plot1d',\n",
       " 'plot2d',\n",
       " 'plot2d_full',\n",
       " 'plot_pie',\n",
       " 'plot_pull',\n",
       " 'plot_ratio',\n",
       " 'profile',\n",
       " 'project',\n",
       " 'reset',\n",
       " 'shape',\n",
       " 'show',\n",
       " 'size',\n",
       " 'sort',\n",
       " 'stack',\n",
       " 'sum',\n",
       " 'to_numpy',\n",
       " 'values',\n",
       " 'variances',\n",
       " 'view']"
      ]
     },
     "execution_count": 47,
     "metadata": {},
     "output_type": "execute_result"
    }
   ],
   "source": [
    "di"
   ]
  },
  {
   "cell_type": "code",
   "execution_count": null,
   "id": "7dbf81a6-de0f-4bb7-a345-c08bd7373791",
   "metadata": {},
   "outputs": [],
   "source": []
  }
 ],
 "metadata": {
  "kernelspec": {
   "display_name": "Python 3 (ipykernel)",
   "language": "python",
   "name": "python3"
  },
  "language_info": {
   "codemirror_mode": {
    "name": "ipython",
    "version": 3
   },
   "file_extension": ".py",
   "mimetype": "text/x-python",
   "name": "python",
   "nbconvert_exporter": "python",
   "pygments_lexer": "ipython3",
   "version": "3.9.12"
  }
 },
 "nbformat": 4,
 "nbformat_minor": 5
}
